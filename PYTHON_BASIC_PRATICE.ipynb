{
  "nbformat": 4,
  "nbformat_minor": 0,
  "metadata": {
    "colab": {
      "provenance": [],
      "authorship_tag": "ABX9TyMaU78mqywIfqw9u/16z4Q9",
      "include_colab_link": true
    },
    "kernelspec": {
      "name": "python3",
      "display_name": "Python 3"
    },
    "language_info": {
      "name": "python"
    }
  },
  "cells": [
    {
      "cell_type": "markdown",
      "metadata": {
        "id": "view-in-github",
        "colab_type": "text"
      },
      "source": [
        "<a href=\"https://colab.research.google.com/github/NileshCT/Hello-Nilesh/blob/main/PYTHON_BASIC_PRATICE.ipynb\" target=\"_parent\"><img src=\"https://colab.research.google.com/assets/colab-badge.svg\" alt=\"Open In Colab\"/></a>"
      ]
    },
    {
      "cell_type": "code",
      "execution_count": null,
      "metadata": {
        "colab": {
          "base_uri": "https://localhost:8080/"
        },
        "id": "Y9vC8pbOfauG",
        "outputId": "613d526f-da07-4df0-f976-a7774c8350da"
      },
      "outputs": [
        {
          "output_type": "stream",
          "name": "stdout",
          "text": [
            "hello nilesh\n"
          ]
        }
      ],
      "source": [
        "print (\"hello nilesh\")\n"
      ]
    },
    {
      "cell_type": "code",
      "source": [
        "print (\"i am nil\")\n",
        "print('nil')"
      ],
      "metadata": {
        "colab": {
          "base_uri": "https://localhost:8080/"
        },
        "id": "wwtRPFtnfvbc",
        "outputId": "411044c1-9f3b-4a6d-bb21-e3e1494b08b1"
      },
      "execution_count": null,
      "outputs": [
        {
          "output_type": "stream",
          "name": "stdout",
          "text": [
            "i am nil\n",
            "nil\n"
          ]
        }
      ]
    },
    {
      "cell_type": "code",
      "source": [
        "x=10\n",
        "y=12\n",
        "type(x)\n",
        "print(\"x\")\n"
      ],
      "metadata": {
        "colab": {
          "base_uri": "https://localhost:8080/"
        },
        "id": "hcu7CXsMgLK_",
        "outputId": "3ec650c2-1d31-482a-ad9d-e7313e139e48"
      },
      "execution_count": null,
      "outputs": [
        {
          "output_type": "stream",
          "name": "stdout",
          "text": [
            "x\n"
          ]
        }
      ]
    },
    {
      "cell_type": "code",
      "source": [
        "r=10\n",
        "print('r')"
      ],
      "metadata": {
        "colab": {
          "base_uri": "https://localhost:8080/"
        },
        "id": "Mn_zl0jvhRmR",
        "outputId": "b83d39a0-3122-47ed-ebf4-89353447c7b4"
      },
      "execution_count": null,
      "outputs": [
        {
          "output_type": "stream",
          "name": "stdout",
          "text": [
            "r\n"
          ]
        }
      ]
    },
    {
      "cell_type": "code",
      "source": [
        "\n",
        "r=10\n",
        "print(r==10)\n"
      ],
      "metadata": {
        "colab": {
          "base_uri": "https://localhost:8080/"
        },
        "id": "xTDouqUGhaGA",
        "outputId": "c27c1ffb-b21f-4ea9-b02d-9307242835fe"
      },
      "execution_count": null,
      "outputs": [
        {
          "output_type": "stream",
          "name": "stdout",
          "text": [
            "True\n"
          ]
        }
      ]
    },
    {
      "cell_type": "code",
      "source": [
        "a=1\n",
        "b=2\n",
        "c=3\n",
        "print(\"a,b,c\")"
      ],
      "metadata": {
        "colab": {
          "base_uri": "https://localhost:8080/"
        },
        "id": "azAXwLIziTLZ",
        "outputId": "e9d06bb4-ce28-4b26-90d1-c4d64822d654"
      },
      "execution_count": null,
      "outputs": [
        {
          "output_type": "stream",
          "name": "stdout",
          "text": [
            "a,b,c\n"
          ]
        }
      ]
    },
    {
      "cell_type": "code",
      "source": [
        "a=1\n",
        "b=2\n",
        "c=3\n",
        "print(a,c>2,a==2,\"nil==1\")"
      ],
      "metadata": {
        "colab": {
          "base_uri": "https://localhost:8080/"
        },
        "id": "e5mSNPIdij6Y",
        "outputId": "8e5fd294-7cd5-4355-d590-fe6cb5779640"
      },
      "execution_count": null,
      "outputs": [
        {
          "output_type": "stream",
          "name": "stdout",
          "text": [
            "1 True False nil==1\n"
          ]
        }
      ]
    },
    {
      "cell_type": "code",
      "source": [
        "z=1\n",
        "x=2\n",
        "c=5\n",
        "v=nil=6\n",
        "print(((z+c)*x+(x*c)-z,v))"
      ],
      "metadata": {
        "colab": {
          "base_uri": "https://localhost:8080/"
        },
        "id": "oXkfW-20kG8I",
        "outputId": "da2caa68-7f09-49d6-e52f-095a797a6e10"
      },
      "execution_count": null,
      "outputs": [
        {
          "output_type": "stream",
          "name": "stdout",
          "text": [
            "(21, 6)\n"
          ]
        }
      ]
    },
    {
      "cell_type": "code",
      "source": [
        "q=1\n",
        "w=2\n",
        "e=3\n",
        "r=4\n",
        "print(type(q==1))"
      ],
      "metadata": {
        "colab": {
          "base_uri": "https://localhost:8080/"
        },
        "id": "orsjmDpOlm5p",
        "outputId": "66e45bf5-10fe-417e-fc7a-440b688f322d"
      },
      "execution_count": null,
      "outputs": [
        {
          "output_type": "stream",
          "name": "stdout",
          "text": [
            "<class 'bool'>\n"
          ]
        }
      ]
    },
    {
      "cell_type": "code",
      "source": [
        "q=1.2\n",
        "w=2\n",
        "e=3\n",
        "r=4\n",
        "print(type(q),type(w),type(e),type(r))"
      ],
      "metadata": {
        "colab": {
          "base_uri": "https://localhost:8080/"
        },
        "id": "cJnuQjfEmLEv",
        "outputId": "7ca7b8a0-4ad7-43e2-91ea-8529b58765c5"
      },
      "execution_count": null,
      "outputs": [
        {
          "output_type": "stream",
          "name": "stdout",
          "text": [
            "<class 'float'> <class 'int'> <class 'int'> <class 'int'>\n"
          ]
        }
      ]
    },
    {
      "cell_type": "code",
      "source": [
        "q=1\n",
        "w=2\n",
        "e=3\n",
        "r=4\n",
        "print((q-w-e-r),type(q),type(w),type(e),id(r))"
      ],
      "metadata": {
        "colab": {
          "base_uri": "https://localhost:8080/"
        },
        "id": "k0-VWB1HmtZP",
        "outputId": "bbf17785-5470-4d69-fcf3-49a27eda895b"
      },
      "execution_count": null,
      "outputs": [
        {
          "output_type": "stream",
          "name": "stdout",
          "text": [
            "-8 <class 'int'> <class 'int'> <class 'int'> 9793184\n"
          ]
        }
      ]
    },
    {
      "cell_type": "code",
      "source": [
        "q=2\n",
        "w=3\n",
        "e=6\n",
        "t=4.0\n",
        "print((q>e),(q+e),w,type(t),id(q),(w/e),\"nil\")\n",
        "\n",
        "print(\"id(e)\")\n",
        "id(e)"
      ],
      "metadata": {
        "colab": {
          "base_uri": "https://localhost:8080/"
        },
        "id": "e71DTpb2nHqw",
        "outputId": "a9f79d76-4034-439e-cdc1-bde365e55c2c"
      },
      "execution_count": null,
      "outputs": [
        {
          "output_type": "stream",
          "name": "stdout",
          "text": [
            "False 8 3 <class 'float'> 9793120 0.5 nil\n",
            "id(e)\n"
          ]
        },
        {
          "output_type": "execute_result",
          "data": {
            "text/plain": [
              "9793248"
            ]
          },
          "metadata": {},
          "execution_count": 68
        }
      ]
    },
    {
      "cell_type": "code",
      "source": [
        "j=20.23\n",
        "f=print(int(j))\n",
        "q=10\n",
        "w=12\n",
        "e=43.23\n",
        "f=12.45\n",
        "print(float(q),int(e),complex(q),float(w),\"nil\",(q*e),(q+w+e))"
      ],
      "metadata": {
        "colab": {
          "base_uri": "https://localhost:8080/"
        },
        "id": "Z8_eUP1Womiv",
        "outputId": "fcc828fd-1e64-48e1-d6a9-be801e30843a"
      },
      "execution_count": null,
      "outputs": [
        {
          "output_type": "stream",
          "name": "stdout",
          "text": [
            "20\n",
            "10.0 43 (10+0j) 12.0 nil 432.29999999999995 65.22999999999999\n"
          ]
        }
      ]
    },
    {
      "cell_type": "code",
      "source": [
        "a=12\n",
        "c=23\n",
        "v=34\n",
        "o=print(a>v)\n",
        "a>c"
      ],
      "metadata": {
        "colab": {
          "base_uri": "https://localhost:8080/"
        },
        "id": "LUd7C3NXp4cf",
        "outputId": "bf925401-6841-479b-9ada-75b1d148d715"
      },
      "execution_count": null,
      "outputs": [
        {
          "output_type": "stream",
          "name": "stdout",
          "text": [
            "False\n"
          ]
        },
        {
          "output_type": "execute_result",
          "data": {
            "text/plain": [
              "False"
            ]
          },
          "metadata": {},
          "execution_count": 77
        }
      ]
    },
    {
      "cell_type": "code",
      "source": [
        "A=\"nileshThonte\"\n",
        "print(type(A))\n",
        "print(id(A))\n",
        "A='''NIL\n",
        "Thonte\n",
        "power point persentaion'''\n",
        "print(A)"
      ],
      "metadata": {
        "colab": {
          "base_uri": "https://localhost:8080/"
        },
        "id": "2njfupS9qXUn",
        "outputId": "d6436610-4d56-49a0-92ae-92c617f75021"
      },
      "execution_count": null,
      "outputs": [
        {
          "output_type": "stream",
          "name": "stdout",
          "text": [
            "<class 'str'>\n",
            "140254087353968\n",
            "NIL\n",
            "Thonte\n",
            "power point persentaion\n"
          ]
        }
      ]
    },
    {
      "cell_type": "markdown",
      "source": [
        "slicing of string"
      ],
      "metadata": {
        "id": "2a9YYWV1rgps"
      }
    },
    {
      "cell_type": "code",
      "source": [
        "A=\"nileshThonte\"\n",
        "print(A[:1])\n",
        "a=\"\"\"nil\n",
        "thonte\"\"\"\n",
        "print(a)\n",
        "Q=print(a[4])\n",
        "print(a[:3])\n",
        "print(a[:])\n",
        "a[2:3]\n",
        "q=\"iamnil\"\n",
        "print(q[2:1])"
      ],
      "metadata": {
        "colab": {
          "base_uri": "https://localhost:8080/"
        },
        "id": "SMU5zAZYri80",
        "outputId": "5373eb02-28df-46ca-89c8-a1f4c5e9acae"
      },
      "execution_count": null,
      "outputs": [
        {
          "output_type": "stream",
          "name": "stdout",
          "text": [
            "n\n",
            "nil\n",
            "thonte\n",
            "t\n",
            "nil\n",
            "nil\n",
            "thonte\n",
            "\n"
          ]
        }
      ]
    },
    {
      "cell_type": "code",
      "source": [
        "q=\"mindpower\"\n",
        "q[3:4:2]"
      ],
      "metadata": {
        "colab": {
          "base_uri": "https://localhost:8080/",
          "height": 36
        },
        "id": "3MdFpXy0tdIe",
        "outputId": "a4113a31-cf7d-4b9e-eaf5-bb5a178c308f"
      },
      "execution_count": null,
      "outputs": [
        {
          "output_type": "execute_result",
          "data": {
            "text/plain": [
              "'d'"
            ],
            "application/vnd.google.colaboratory.intrinsic+json": {
              "type": "string"
            }
          },
          "metadata": {},
          "execution_count": 110
        }
      ]
    },
    {
      "cell_type": "code",
      "source": [],
      "metadata": {
        "id": "6DaVV6M8Tth0"
      },
      "execution_count": null,
      "outputs": []
    },
    {
      "cell_type": "code",
      "source": [
        "#python program to check the number of occurrances in the string\n",
        "s=input(\"enter yoyr string\")\n",
        "c=input(\"\")\n",
        "count=0\n",
        "for i in s:\n",
        "  if i==c:\n",
        "    count+=1\n",
        "print(\"no.of occurrance\",count)"
      ],
      "metadata": {
        "id": "QlRbsk9XR2LG",
        "outputId": "c3f67890-0ded-47a9-f71c-127c46e703f3",
        "colab": {
          "base_uri": "https://localhost:8080/"
        }
      },
      "execution_count": null,
      "outputs": [
        {
          "output_type": "stream",
          "name": "stdout",
          "text": [
            "enter yoyr stringabababa\n",
            "abababa\n",
            "no.of occurrance 0\n"
          ]
        }
      ]
    },
    {
      "cell_type": "code",
      "source": [
        "s=input(\"\")\n",
        "d={}\n",
        "for i in s:\n",
        "  if i in d.keys():\n",
        "    d[i]+=1\n",
        "  else:\n",
        "    d[i]=1\n",
        "for k,v in d.items():\n",
        "  print(\"{} = {} Times\".format(k,v))"
      ],
      "metadata": {
        "id": "NgdNF2ikTxq9",
        "outputId": "1d4df825-f992-4988-f24f-3d36494ce397",
        "colab": {
          "base_uri": "https://localhost:8080/"
        }
      },
      "execution_count": null,
      "outputs": [
        {
          "output_type": "stream",
          "name": "stdout",
          "text": [
            "abababa\n",
            "a = 4 Times\n",
            "b = 3 Times\n"
          ]
        }
      ]
    },
    {
      "cell_type": "code",
      "source": [
        "# Write a Program to Remove Duplicate Characters from the given Input String?\n",
        "s=\"aaaabbbcvcv\"\n",
        "l=[]\n",
        "for i in s:\n",
        "  if i not in l:\n",
        "    l.append(i)\n",
        "output=''.join(l)\n",
        "print(output)"
      ],
      "metadata": {
        "id": "ob9IgGJdrfNt",
        "outputId": "e5547779-2355-4357-f236-d6a969c6fa60",
        "colab": {
          "base_uri": "https://localhost:8080/"
        }
      },
      "execution_count": null,
      "outputs": [
        {
          "output_type": "stream",
          "name": "stdout",
          "text": [
            "abcv\n"
          ]
        }
      ]
    },
    {
      "cell_type": "code",
      "source": [
        "string1=\"nil c thonte\"\n",
        "s=string1.split()[::-1]\n",
        "l=[]\n",
        "for i in s:\n",
        "  l.append(i)\n",
        "print(\" \".join(l))"
      ],
      "metadata": {
        "id": "C6QknKpsYgcf",
        "outputId": "5a68c21f-f543-44e4-fd6f-cba56f61c7fb",
        "colab": {
          "base_uri": "https://localhost:8080/"
        }
      },
      "execution_count": null,
      "outputs": [
        {
          "output_type": "stream",
          "name": "stdout",
          "text": [
            "thonte c nil\n"
          ]
        }
      ]
    },
    {
      "cell_type": "code",
      "source": [
        "#write aprogram to display the enttry in the safecase using user name and paswords.\n",
        "print(\"welcome to atm\")\n",
        "user=input(\"enter your user name\")\n",
        "password=int(input(\"enter your four digit pin\"))\n",
        "if user==\"nil\" and password==3332:\n",
        "  print(\"valid input\")\n",
        "else:\n",
        "  print(\"invalid pass\")"
      ],
      "metadata": {
        "id": "eR9mdzNrOXoM",
        "outputId": "aef176ae-876b-4f3c-ecbf-c6d46dfc6ed3",
        "colab": {
          "base_uri": "https://localhost:8080/"
        }
      },
      "execution_count": 4,
      "outputs": [
        {
          "output_type": "stream",
          "name": "stdout",
          "text": [
            "welcome to atm\n",
            "enter your user namenil\n",
            "enter your four digit pin3332\n",
            "valid input\n"
          ]
        }
      ]
    },
    {
      "cell_type": "code",
      "source": [
        "name=input(\"\")\n",
        "vowels = [each for each in name if each in \"aeiouAEIOU\"]\n",
        "print(len(vowels))\n",
        "print(vowels)"
      ],
      "metadata": {
        "id": "V98qVR3fSPHz",
        "outputId": "497acd3d-7ad0-4493-93b4-5fcf57ce9811",
        "colab": {
          "base_uri": "https://localhost:8080/"
        }
      },
      "execution_count": 11,
      "outputs": [
        {
          "output_type": "stream",
          "name": "stdout",
          "text": [
            "nileshthonte\n",
            "4\n",
            "['i', 'e', 'o', 'e']\n"
          ]
        }
      ]
    },
    {
      "cell_type": "code",
      "source": [
        "#python code to display prime number from 1 to 20.\n",
        "num=12\n",
        "for i in range(2,num):\n",
        "  if num%i==0:\n",
        "    print(\"is prime number not\")\n",
        "    break\n",
        "  else:\n",
        "    print(\"is prime\")\n",
        "\n",
        "\n"
      ],
      "metadata": {
        "id": "KG09UcmSYrzy",
        "outputId": "111e3299-de06-4fca-822f-564e0172c69a",
        "colab": {
          "base_uri": "https://localhost:8080/"
        }
      },
      "execution_count": 16,
      "outputs": [
        {
          "output_type": "stream",
          "name": "stdout",
          "text": [
            "is prime number not\n"
          ]
        }
      ]
    },
    {
      "cell_type": "code",
      "source": [
        "lwr=1\n",
        "upr=20\n",
        "for i in range(lwr,upr+1):\n",
        "  for a in range(2,i):\n",
        "   if i%a==0:\n",
        "     print(\"not prime\")\n",
        "   else:\n",
        "     print(\"prime\")\n"
      ],
      "metadata": {
        "id": "RZRp-BeCdvk4",
        "outputId": "c2376962-6a7a-4c4b-b6e0-d1e7cdb3e628",
        "colab": {
          "base_uri": "https://localhost:8080/"
        }
      },
      "execution_count": 29,
      "outputs": [
        {
          "output_type": "stream",
          "name": "stdout",
          "text": [
            "prime\n",
            "not prime\n",
            "prime\n",
            "prime\n",
            "prime\n",
            "prime\n",
            "not prime\n",
            "not prime\n",
            "prime\n",
            "prime\n",
            "prime\n",
            "prime\n",
            "prime\n",
            "prime\n",
            "prime\n",
            "not prime\n",
            "prime\n",
            "not prime\n",
            "prime\n",
            "prime\n",
            "prime\n",
            "prime\n",
            "not prime\n",
            "prime\n",
            "prime\n",
            "prime\n",
            "prime\n",
            "prime\n",
            "not prime\n",
            "prime\n",
            "prime\n",
            "not prime\n",
            "prime\n",
            "prime\n",
            "prime\n",
            "prime\n",
            "prime\n",
            "prime\n",
            "prime\n",
            "prime\n",
            "prime\n",
            "prime\n",
            "prime\n",
            "prime\n",
            "prime\n",
            "not prime\n",
            "not prime\n",
            "not prime\n",
            "prime\n",
            "not prime\n",
            "prime\n",
            "prime\n",
            "prime\n",
            "prime\n",
            "prime\n",
            "prime\n",
            "prime\n",
            "prime\n",
            "prime\n",
            "prime\n",
            "prime\n",
            "prime\n",
            "prime\n",
            "prime\n",
            "prime\n",
            "prime\n",
            "not prime\n",
            "prime\n",
            "prime\n",
            "prime\n",
            "prime\n",
            "not prime\n",
            "prime\n",
            "prime\n",
            "prime\n",
            "prime\n",
            "prime\n",
            "prime\n",
            "prime\n",
            "not prime\n",
            "prime\n",
            "not prime\n",
            "prime\n",
            "prime\n",
            "prime\n",
            "prime\n",
            "prime\n",
            "prime\n",
            "prime\n",
            "prime\n",
            "prime\n",
            "not prime\n",
            "prime\n",
            "not prime\n",
            "prime\n",
            "prime\n",
            "prime\n",
            "not prime\n",
            "prime\n",
            "prime\n",
            "prime\n",
            "prime\n",
            "prime\n",
            "prime\n",
            "prime\n",
            "prime\n",
            "prime\n",
            "prime\n",
            "prime\n",
            "prime\n",
            "prime\n",
            "prime\n",
            "prime\n",
            "prime\n",
            "prime\n",
            "prime\n",
            "prime\n",
            "prime\n",
            "prime\n",
            "prime\n",
            "not prime\n",
            "not prime\n",
            "prime\n",
            "prime\n",
            "not prime\n",
            "prime\n",
            "prime\n",
            "not prime\n",
            "prime\n",
            "prime\n",
            "prime\n",
            "prime\n",
            "prime\n",
            "prime\n",
            "prime\n",
            "prime\n",
            "prime\n",
            "prime\n",
            "prime\n",
            "prime\n",
            "prime\n",
            "prime\n",
            "prime\n",
            "prime\n",
            "prime\n",
            "prime\n",
            "prime\n",
            "prime\n",
            "prime\n",
            "prime\n",
            "prime\n",
            "prime\n",
            "prime\n",
            "not prime\n",
            "prime\n",
            "not prime\n",
            "not prime\n",
            "prime\n",
            "prime\n",
            "prime\n",
            "prime\n",
            "not prime\n",
            "prime\n",
            "prime\n",
            "prime\n",
            "prime\n",
            "prime\n",
            "prime\n",
            "prime\n",
            "prime\n",
            "prime\n"
          ]
        }
      ]
    },
    {
      "cell_type": "code",
      "source": [
        "#write apython program to add number in list.\n",
        "list1=eval(input(\"enter a list\"))\n",
        "sum=0\n",
        "for x in list1:\n",
        "  if x%2==0:\n",
        "   sum=sum+x\n",
        "   print(sum)"
      ],
      "metadata": {
        "id": "_W7He463gF1v",
        "outputId": "89f98e8d-0e99-446f-da70-b6344907834b",
        "colab": {
          "base_uri": "https://localhost:8080/"
        }
      },
      "execution_count": 32,
      "outputs": [
        {
          "output_type": "stream",
          "name": "stdout",
          "text": [
            "enter a list1,2,3,4,5,6\n",
            "2\n",
            "6\n",
            "12\n"
          ]
        }
      ]
    },
    {
      "cell_type": "code",
      "source": [
        "#write apython code to display number from 1 to 10 using for and while loop\n",
        "#for loop\n",
        "for i in range(1,11):\n",
        "  print(i)"
      ],
      "metadata": {
        "id": "P-GT7C1ui_0n",
        "outputId": "3daf5ab1-978b-4b17-8da4-23097bc6445e",
        "colab": {
          "base_uri": "https://localhost:8080/"
        }
      },
      "execution_count": 33,
      "outputs": [
        {
          "output_type": "stream",
          "name": "stdout",
          "text": [
            "1\n",
            "2\n",
            "3\n",
            "4\n",
            "5\n",
            "6\n",
            "7\n",
            "8\n",
            "9\n",
            "10\n"
          ]
        }
      ]
    },
    {
      "cell_type": "code",
      "source": [
        "#using while loop\n",
        "x=1\n",
        "while x<=10:\n",
        "  x+=1\n",
        "  print(x)"
      ],
      "metadata": {
        "id": "3T2oUN5Ujr_u",
        "outputId": "262732bf-06d8-4838-e829-e3744450746a",
        "colab": {
          "base_uri": "https://localhost:8080/"
        }
      },
      "execution_count": 34,
      "outputs": [
        {
          "output_type": "stream",
          "name": "stdout",
          "text": [
            "2\n",
            "3\n",
            "4\n",
            "5\n",
            "6\n",
            "7\n",
            "8\n",
            "9\n",
            "10\n",
            "11\n"
          ]
        }
      ]
    },
    {
      "cell_type": "code",
      "source": [
        "n=int(input(\"\"))\n",
        "sum=0\n",
        "i=1\n",
        "while i<=n:\n",
        "  sum+=i\n",
        "  i+=1\n",
        "  print(sum)"
      ],
      "metadata": {
        "id": "5YqeAduklGc1",
        "outputId": "ae4f0751-23aa-4885-bb02-2fcbce3ce61e",
        "colab": {
          "base_uri": "https://localhost:8080/"
        }
      },
      "execution_count": 35,
      "outputs": [
        {
          "output_type": "stream",
          "name": "stdout",
          "text": [
            "5\n",
            "1\n",
            "3\n",
            "6\n",
            "10\n",
            "15\n"
          ]
        }
      ]
    }
  ]
}