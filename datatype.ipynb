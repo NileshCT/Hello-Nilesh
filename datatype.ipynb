{
  "nbformat": 4,
  "nbformat_minor": 0,
  "metadata": {
    "colab": {
      "provenance": [],
      "authorship_tag": "ABX9TyOjctPGnO4mYJ7mK7dCM9Sz",
      "include_colab_link": true
    },
    "kernelspec": {
      "name": "python3",
      "display_name": "Python 3"
    },
    "language_info": {
      "name": "python"
    }
  },
  "cells": [
    {
      "cell_type": "markdown",
      "metadata": {
        "id": "view-in-github",
        "colab_type": "text"
      },
      "source": [
        "<a href=\"https://colab.research.google.com/github/NileshCT/Hello-Nilesh/blob/main/datatype.ipynb\" target=\"_parent\"><img src=\"https://colab.research.google.com/assets/colab-badge.svg\" alt=\"Open In Colab\"/></a>"
      ]
    },
    {
      "cell_type": "code",
      "execution_count": null,
      "metadata": {
        "colab": {
          "base_uri": "https://localhost:8080/"
        },
        "id": "rfIdnGip7mKS",
        "outputId": "cfd9fa81-de46-4663-8ff8-d777f355d948"
      },
      "outputs": [
        {
          "output_type": "stream",
          "name": "stdout",
          "text": [
            "10\n",
            "first number\n",
            "12\n",
            "second number\n",
            "calculator 22\n"
          ]
        }
      ],
      "source": [
        "n1 = input()\n",
        "print(\"first number\")\n",
        "n2 = input()\n",
        "print(\"second number\")\n",
        "print(\"calculator\",int(n1)+int(n2))"
      ]
    },
    {
      "cell_type": "code",
      "source": [
        "q1=input()\n",
        "q2=input()\n",
        "print(\"q1\")\n",
        "print(\"q2\")\n",
        "print(\"calculation\",int(q1)*int(q2),int(q1)+int(q2),id(q1),type(q1),\" nilesh\")"
      ],
      "metadata": {
        "colab": {
          "base_uri": "https://localhost:8080/"
        },
        "id": "R41tDpR38Gri",
        "outputId": "3a4b7ce4-80f3-4f8b-e5eb-7dc408c55694"
      },
      "execution_count": null,
      "outputs": [
        {
          "output_type": "stream",
          "name": "stdout",
          "text": [
            "12\n",
            "12\n",
            "q1\n",
            "q2\n",
            "calculation 144 24 139654200582576 <class 'str'>  nilesh\n"
          ]
        }
      ]
    },
    {
      "cell_type": "code",
      "source": [
        "w1 = input()\n",
        "w2 = input()\n",
        "print(\"first\")\n",
        "a = \"i am nilesh thonte\"\n",
        "print(a)\n",
        "print(\"second\")\n",
        "b = \"he is also me\"\n",
        "print(b)\n",
        "print(\"calculate\",int(w1)/int(w2))\n",
        "print(a.count(\"i\"))\n",
        "print(b.find(\"am\"))\n",
        "b[-1]\n",
        "b[:2]\n"
      ],
      "metadata": {
        "colab": {
          "base_uri": "https://localhost:8080/",
          "height": 192
        },
        "id": "4taUyzoX9E0a",
        "outputId": "3f44e38f-eda2-4d2a-b9e7-adf8bcecea46"
      },
      "execution_count": null,
      "outputs": [
        {
          "output_type": "stream",
          "name": "stdout",
          "text": [
            "23\n",
            "12\n",
            "first\n",
            "i am nilesh thonte\n",
            "second\n",
            "he is also me\n",
            "calculate 1.9166666666666667\n",
            "2\n",
            "-1\n"
          ]
        },
        {
          "output_type": "execute_result",
          "data": {
            "text/plain": [
              "'he'"
            ],
            "application/vnd.google.colaboratory.intrinsic+json": {
              "type": "string"
            }
          },
          "metadata": {},
          "execution_count": 16
        }
      ]
    },
    {
      "cell_type": "code",
      "source": [],
      "metadata": {
        "id": "E5_UOhsB_eLZ"
      },
      "execution_count": null,
      "outputs": []
    },
    {
      "cell_type": "markdown",
      "source": [
        "data types in python practice\n",
        " "
      ],
      "metadata": {
        "id": "D84iTMuT_gAA"
      }
    },
    {
      "cell_type": "markdown",
      "source": [
        "following are the types of data types in python\n",
        "1]int()\n",
        "float\n",
        "complex\n",
        "str\n",
        "numbers\n",
        "byte\n",
        "bool\n",
        "bytearry\n",
        "set\n",
        "list\n",
        "tuple\n",
        "none\n",
        "\n"
      ],
      "metadata": {
        "id": "IDO-i6rx_mv5"
      }
    },
    {
      "cell_type": "code",
      "source": [],
      "metadata": {
        "id": "GhNLdh93ACiy"
      },
      "execution_count": null,
      "outputs": []
    },
    {
      "cell_type": "markdown",
      "source": [
        "list data type \n"
      ],
      "metadata": {
        "id": "nmj21WIEAMmg"
      }
    },
    {
      "cell_type": "code",
      "source": [
        "list1 = [12,\"nil\",13,12.3]\n",
        "list1[0]\n",
        "list1[2]\n",
        "list1.append\n",
        "list1[0]=100"
      ],
      "metadata": {
        "id": "jI0ssoRzAOpI"
      },
      "execution_count": null,
      "outputs": []
    },
    {
      "cell_type": "code",
      "source": [
        "X = [10,20,30,40]\n",
        "b=bytearray(X)\n",
        "X[0]=100\n",
        "print(b)\n",
        "\n"
      ],
      "metadata": {
        "colab": {
          "base_uri": "https://localhost:8080/"
        },
        "id": "iDtgvk8s_kgA",
        "outputId": "41f7ce41-6ab1-43a8-c807-f1e839db89c7"
      },
      "execution_count": 36,
      "outputs": [
        {
          "output_type": "stream",
          "name": "stdout",
          "text": [
            "bytearray(b'\\n\\x14\\x1e(')\n"
          ]
        }
      ]
    },
    {
      "cell_type": "code",
      "source": [
        "for i in b:\n",
        "  print(i)"
      ],
      "metadata": {
        "colab": {
          "base_uri": "https://localhost:8080/"
        },
        "id": "_6cafEaMOyDj",
        "outputId": "bb5f7eac-ac11-4fe4-9c76-1243fe429c54"
      },
      "execution_count": 37,
      "outputs": [
        {
          "output_type": "stream",
          "name": "stdout",
          "text": [
            "10\n",
            "20\n",
            "30\n",
            "40\n"
          ]
        }
      ]
    },
    {
      "cell_type": "code",
      "source": [
        "x=[10,20,30]\n",
        "b=bytearray(x)\n",
        "b[0]=100\n",
        "print(b)\n",
        "for i in b:\n",
        "    print(i)"
      ],
      "metadata": {
        "colab": {
          "base_uri": "https://localhost:8080/"
        },
        "id": "SzeBAzmjO2YM",
        "outputId": "4074aabc-aa3e-45a4-ed13-ca94333d688e"
      },
      "execution_count": 38,
      "outputs": [
        {
          "output_type": "stream",
          "name": "stdout",
          "text": [
            "bytearray(b'd\\x14\\x1e')\n",
            "100\n",
            "20\n",
            "30\n"
          ]
        }
      ]
    },
    {
      "cell_type": "code",
      "source": [
        "x=[10,20,20]\n",
        "b=bytearray(x)\n",
        "b[1]=100\n",
        "print(b)\n",
        "for i in b:\n",
        "  print(i)"
      ],
      "metadata": {
        "colab": {
          "base_uri": "https://localhost:8080/"
        },
        "id": "qjwB6IQIOfFt",
        "outputId": "6be4bcae-4381-4c6f-c897-f64de08e0f3d"
      },
      "execution_count": 42,
      "outputs": [
        {
          "output_type": "stream",
          "name": "stdout",
          "text": [
            "bytearray(b'\\nd\\x14')\n",
            "10\n",
            "100\n",
            "20\n"
          ]
        }
      ]
    },
    {
      "cell_type": "code",
      "source": [
        "x=[10,2,34,12,20,\"power\"]\n",
        "print(x)\n",
        "x[3]=100\n",
        "print(x)\n",
        "type(x)\n",
        "x.append(120)\n",
        "x.remove(120)\n",
        "for i in x:\n",
        "  print(i)\n",
        "type(x)\n",
        "x=x*2"
      ],
      "metadata": {
        "colab": {
          "base_uri": "https://localhost:8080/"
        },
        "id": "lk3hodf6QBY9",
        "outputId": "9c1eb6a6-46cb-4f06-f7a7-961b032370f1"
      },
      "execution_count": 51,
      "outputs": [
        {
          "output_type": "stream",
          "name": "stdout",
          "text": [
            "[10, 2, 34, 12, 20, 'power']\n",
            "[10, 2, 34, 100, 20, 'power']\n",
            "10\n",
            "2\n",
            "34\n",
            "100\n",
            "20\n",
            "power\n"
          ]
        }
      ]
    },
    {
      "cell_type": "code",
      "source": [
        "x=[10,2,34,12,20,\"power\"]\n",
        "a=x*3\n",
        "print(a)\n"
      ],
      "metadata": {
        "colab": {
          "base_uri": "https://localhost:8080/"
        },
        "id": "uE7037GvRMBc",
        "outputId": "6aa06ae2-5f0f-4827-a260-c41424f8ed1e"
      },
      "execution_count": 56,
      "outputs": [
        {
          "output_type": "stream",
          "name": "stdout",
          "text": [
            "[10, 2, 34, 12, 20, 'power', 10, 2, 34, 12, 20, 'power', 10, 2, 34, 12, 20, 'power']\n"
          ]
        }
      ]
    },
    {
      "cell_type": "code",
      "source": [
        "t=(12,23,45,67,89)\n",
        "type(t)\n",
        "t[1]\n",
        "t[-2]\n",
        "t[:2]\n",
        "for i in t:\n",
        " print(i)"
      ],
      "metadata": {
        "colab": {
          "base_uri": "https://localhost:8080/"
        },
        "id": "RsQ243n3RmT8",
        "outputId": "8247b153-d36f-4292-ad45-759a786c00da"
      },
      "execution_count": 66,
      "outputs": [
        {
          "output_type": "stream",
          "name": "stdout",
          "text": [
            "12\n",
            "23\n",
            "45\n",
            "67\n",
            "89\n"
          ]
        }
      ]
    },
    {
      "cell_type": "code",
      "source": [
        "a=range(1,10)\n",
        "print(a)\n",
        "for i in a:\n",
        "  print(i)\n",
        "  list(range(10))"
      ],
      "metadata": {
        "colab": {
          "base_uri": "https://localhost:8080/"
        },
        "id": "g4qyLIuxSdUG",
        "outputId": "7ca3c0c3-c0ae-4246-dd8e-8f456b8b0db3"
      },
      "execution_count": 68,
      "outputs": [
        {
          "output_type": "stream",
          "name": "stdout",
          "text": [
            "range(1, 10)\n",
            "1\n",
            "2\n",
            "3\n",
            "4\n",
            "5\n",
            "6\n",
            "7\n",
            "8\n",
            "9\n"
          ]
        }
      ]
    },
    {
      "cell_type": "code",
      "source": [
        "s ={1,2,34,\"nilesh\"}\n",
        "type(s)\n",
        "s.add(60)\n",
        "s.remove(1)\n",
        "for i in s:\n",
        "  print(s)"
      ],
      "metadata": {
        "colab": {
          "base_uri": "https://localhost:8080/"
        },
        "id": "l-j_qsD9S4NM",
        "outputId": "cbf60058-944a-47bf-bf8c-44d8e3e45bb7"
      },
      "execution_count": 75,
      "outputs": [
        {
          "output_type": "stream",
          "name": "stdout",
          "text": [
            "{2, 34, 'nilesh', 60}\n",
            "{2, 34, 'nilesh', 60}\n",
            "{2, 34, 'nilesh', 60}\n",
            "{2, 34, 'nilesh', 60}\n"
          ]
        }
      ]
    },
    {
      "cell_type": "code",
      "source": [
        "d = {101:\"iphone\",102:\"samsung\",103:\"oppo\"}\n",
        "print(d)\n"
      ],
      "metadata": {
        "id": "UBDggfN-Y1u7"
      },
      "execution_count": null,
      "outputs": []
    }
  ]
}