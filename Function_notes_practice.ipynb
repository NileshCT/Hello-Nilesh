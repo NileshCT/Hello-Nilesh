{
  "nbformat": 4,
  "nbformat_minor": 0,
  "metadata": {
    "colab": {
      "provenance": [],
      "authorship_tag": "ABX9TyNRQLpJM/QwgeBMOKTEtxBP",
      "include_colab_link": true
    },
    "kernelspec": {
      "name": "python3",
      "display_name": "Python 3"
    },
    "language_info": {
      "name": "python"
    }
  },
  "cells": [
    {
      "cell_type": "markdown",
      "metadata": {
        "id": "view-in-github",
        "colab_type": "text"
      },
      "source": [
        "<a href=\"https://colab.research.google.com/github/NileshCT/Hello-Nilesh/blob/main/Function_notes_practice.ipynb\" target=\"_parent\"><img src=\"https://colab.research.google.com/assets/colab-badge.svg\" alt=\"Open In Colab\"/></a>"
      ]
    },
    {
      "cell_type": "code",
      "execution_count": null,
      "metadata": {
        "colab": {
          "base_uri": "https://localhost:8080/"
        },
        "id": "8LdTvjVOvhMB",
        "outputId": "779c56e8-68ca-41b6-c2b7-c12a16d805ef"
      },
      "outputs": [
        {
          "output_type": "stream",
          "name": "stdout",
          "text": [
            "hello nilesh\n"
          ]
        }
      ],
      "source": [
        "#program to call a function and print(hello nilesh)\n",
        "def name(a):\n",
        "  return a\n",
        "a=name(\"hello nilesh\")\n",
        "print(a)"
      ]
    },
    {
      "cell_type": "code",
      "source": [
        "#Write a function to take name of the student as input and print wish message by name.\n",
        "def student(name):\n",
        "  return name\n",
        "name=student(\"nilesh\")\n",
        "print(\"he is\",name,\"and student of our class\")"
      ],
      "metadata": {
        "id": "7n4CNJN9-ycf",
        "outputId": "31a6cd8c-227e-4b65-c432-095476c1b716",
        "colab": {
          "base_uri": "https://localhost:8080/"
        }
      },
      "execution_count": 3,
      "outputs": [
        {
          "output_type": "stream",
          "name": "stdout",
          "text": [
            "he is nilesh and student of our class\n"
          ]
        }
      ]
    },
    {
      "cell_type": "code",
      "source": [
        "def student(name):\n",
        "  print(\"he is\",name,\"and student of our class\")\n",
        "student(\"nil\")"
      ],
      "metadata": {
        "id": "EQrn5Ngl_lXK",
        "outputId": "50203219-481c-445d-809c-c5bcde4ea659",
        "colab": {
          "base_uri": "https://localhost:8080/"
        }
      },
      "execution_count": 6,
      "outputs": [
        {
          "output_type": "stream",
          "name": "stdout",
          "text": [
            "he is nil and student of our class\n"
          ]
        }
      ]
    },
    {
      "cell_type": "code",
      "source": [
        "#Write a Function to accept 2 Numbers as Input and return Sum\n",
        "def sum(a,b):\n",
        "  return a+b\n",
        "s=sum(10,20)\n",
        "print(s)"
      ],
      "metadata": {
        "id": "IDpEq0p2_52J",
        "outputId": "ffbf9d38-8504-4ce0-df07-972521ba7580",
        "colab": {
          "base_uri": "https://localhost:8080/"
        }
      },
      "execution_count": 8,
      "outputs": [
        {
          "output_type": "stream",
          "name": "stdout",
          "text": [
            "30\n"
          ]
        }
      ]
    },
    {
      "cell_type": "code",
      "source": [
        "def sum_sub(a,b):\n",
        "  c=sum_sub(20,30)\n",
        "  return a+b\n",
        "  d=sum_sub(30,10)\n",
        "  return a-b\n",
        "print(c)\n",
        "print(d)"
      ],
      "metadata": {
        "id": "IZ5mfL01ATo2",
        "outputId": "e7d726ad-6fd4-48f3-dc81-5ce08215cf87",
        "colab": {
          "base_uri": "https://localhost:8080/"
        }
      },
      "execution_count": 15,
      "outputs": [
        {
          "output_type": "stream",
          "name": "stdout",
          "text": [
            "50\n",
            "40\n"
          ]
        }
      ]
    },
    {
      "cell_type": "code",
      "source": [
        "#\"\"\"Q) Write a Function to check whether the given Number is\n",
        " # Even OR Odd?\"\"\"\n",
        "def detect(n):\n",
        "  if n%2==0:\n",
        "    print(\"given no. is even\")\n",
        "  else:\n",
        "    print(\"given no. is odd\")\n",
        "detect(10)"
      ],
      "metadata": {
        "id": "HeUUH-5GAzHq",
        "outputId": "c3dabc74-f2a2-4c76-8703-1c308d64f7a1",
        "colab": {
          "base_uri": "https://localhost:8080/"
        }
      },
      "execution_count": 16,
      "outputs": [
        {
          "output_type": "stream",
          "name": "stdout",
          "text": [
            "given no. is even\n"
          ]
        }
      ]
    },
    {
      "cell_type": "code",
      "source": [
        "#factorial of number \n",
        "def fact(num):\n",
        "    result=1\n",
        "    while num>=1:\n",
        "      result=result*num\n",
        "      num=num-1\n",
        "    return result"
      ],
      "metadata": {
        "id": "M3Wq4G1eCFwH"
      },
      "execution_count": null,
      "outputs": []
    },
    {
      "cell_type": "code",
      "source": [
        "#Returning Multiple Values from a Function:\n",
        "def sum_sub(a,b):\n",
        "  sum=a+b\n",
        "  sub=a-b\n",
        "  return sum,sub\n",
        "x,y=sum_sub(30,40)\n",
        "print(x)\n",
        "print(y)"
      ],
      "metadata": {
        "id": "d26TiyZ7DO_Q",
        "outputId": "c60b674f-54fb-49bf-f807-dac46b9f5a12",
        "colab": {
          "base_uri": "https://localhost:8080/"
        }
      },
      "execution_count": 23,
      "outputs": [
        {
          "output_type": "stream",
          "name": "stdout",
          "text": [
            "70\n",
            "-10\n"
          ]
        }
      ]
    },
    {
      "cell_type": "code",
      "source": [
        "#Keyword Arguments:\n",
        "def kay(name,msg):\n",
        "  name=\"nil\"\n",
        "  msg=\"good morning\"\n",
        "  print(name,msg)\n",
        "kay(\"name\",\"msg\")"
      ],
      "metadata": {
        "id": "tRbFgIQAD_kA",
        "outputId": "804e1748-3fed-4d5b-88fc-a33cdfd85aaf",
        "colab": {
          "base_uri": "https://localhost:8080/"
        }
      },
      "execution_count": 26,
      "outputs": [
        {
          "output_type": "stream",
          "name": "stdout",
          "text": [
            "nil good morning\n"
          ]
        }
      ]
    },
    {
      "cell_type": "code",
      "source": [
        "def kay(name,msg):\n",
        "  print(\"hellow\",name,msg)\n",
        "kay(name=\"nil\",msg=\"good evening\")"
      ],
      "metadata": {
        "id": "ofks63XDFEJ1",
        "outputId": "a8327370-46da-4823-90db-4ec956e664d0",
        "colab": {
          "base_uri": "https://localhost:8080/"
        }
      },
      "execution_count": 28,
      "outputs": [
        {
          "output_type": "stream",
          "name": "stdout",
          "text": [
            "hellow nil good evening\n"
          ]
        }
      ]
    },
    {
      "cell_type": "code",
      "source": [
        "def kay(name=\"nil\"):\n",
        "  print(name)\n",
        "kay()"
      ],
      "metadata": {
        "id": "fK-BTuMbFXF3",
        "outputId": "04bc4cda-3609-4e6b-e441-453c38a7f756",
        "colab": {
          "base_uri": "https://localhost:8080/"
        }
      },
      "execution_count": 32,
      "outputs": [
        {
          "output_type": "stream",
          "name": "stdout",
          "text": [
            "nil\n"
          ]
        }
      ]
    },
    {
      "cell_type": "code",
      "source": [
        "\n",
        "#reduce() function\n",
        "#reduce(function,Sequence)\n",
        "\n",
        "from functools import*\n",
        "l=[12,3,4,5,6,7,8,9]\n",
        "reduce(lambda a,b:a+b,l)"
      ],
      "metadata": {
        "id": "HUjkvx58Ibih",
        "outputId": "e7eb9dcd-be79-4748-ffe8-95191a6ff011",
        "colab": {
          "base_uri": "https://localhost:8080/"
        }
      },
      "execution_count": 49,
      "outputs": [
        {
          "output_type": "execute_result",
          "data": {
            "text/plain": [
              "54"
            ]
          },
          "metadata": {},
          "execution_count": 49
        }
      ]
    },
    {
      "cell_type": "code",
      "source": [
        "def sq(a):\n",
        "  l=[1004, 5, 987,5674]\n",
        "l1=list(map(lambda a:a*a,l))\n",
        "print(l1)"
      ],
      "metadata": {
        "id": "RXcvQFzYKZig",
        "outputId": "62e9a526-6215-4bef-9d3b-653b87c35508",
        "colab": {
          "base_uri": "https://localhost:8080/"
        }
      },
      "execution_count": 59,
      "outputs": [
        {
          "output_type": "stream",
          "name": "stdout",
          "text": [
            "[1008016, 25, 974169, 32194276]\n"
          ]
        }
      ]
    },
    {
      "cell_type": "code",
      "source": [
        "def sq(a):\n",
        "  return a*a\n",
        "l=[2,3,4,5,6]\n",
        "l1=list(map(sq,l))\n",
        "print(l1)"
      ],
      "metadata": {
        "id": "0B56fwsGLLj0",
        "outputId": "53134abf-da3a-4b24-b9e8-7f6675b84f11",
        "colab": {
          "base_uri": "https://localhost:8080/"
        }
      },
      "execution_count": 61,
      "outputs": [
        {
          "output_type": "stream",
          "name": "stdout",
          "text": [
            "[4, 9, 16, 25, 36]\n"
          ]
        }
      ]
    }
  ]
}