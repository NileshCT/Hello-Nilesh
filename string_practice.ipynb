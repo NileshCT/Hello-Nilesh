{
  "nbformat": 4,
  "nbformat_minor": 0,
  "metadata": {
    "colab": {
      "provenance": [],
      "authorship_tag": "ABX9TyN/+7ADRjxsi3yOrHTnD9Ei",
      "include_colab_link": true
    },
    "kernelspec": {
      "name": "python3",
      "display_name": "Python 3"
    },
    "language_info": {
      "name": "python"
    }
  },
  "cells": [
    {
      "cell_type": "markdown",
      "metadata": {
        "id": "view-in-github",
        "colab_type": "text"
      },
      "source": [
        "<a href=\"https://colab.research.google.com/github/NileshCT/Hello-Nilesh/blob/main/string_practice.ipynb\" target=\"_parent\"><img src=\"https://colab.research.google.com/assets/colab-badge.svg\" alt=\"Open In Colab\"/></a>"
      ]
    },
    {
      "cell_type": "code",
      "execution_count": 1,
      "metadata": {
        "colab": {
          "base_uri": "https://localhost:8080/"
        },
        "id": "E6hL8Pv9q86B",
        "outputId": "20a46d26-858e-4fc2-885e-b9e3f115e81f"
      },
      "outputs": [
        {
          "output_type": "stream",
          "name": "stdout",
          "text": [
            "i am nilesh thonte\n"
          ]
        }
      ],
      "source": [
        "a=(\"i am nilesh thonte\")\n",
        "print(a)"
      ]
    },
    {
      "cell_type": "code",
      "source": [
        "#to access the charactor of the string\n",
        "a=\"i am nilesh thonte\"\n",
        "a[2:6]\n"
      ],
      "metadata": {
        "colab": {
          "base_uri": "https://localhost:8080/",
          "height": 35
        },
        "id": "Z627Yts1r-x1",
        "outputId": "e7c7fafc-9fdf-4b37-968a-e9f5fc0d7afb"
      },
      "execution_count": 10,
      "outputs": [
        {
          "output_type": "execute_result",
          "data": {
            "text/plain": [
              "'am n'"
            ],
            "application/vnd.google.colaboratory.intrinsic+json": {
              "type": "string"
            }
          },
          "metadata": {},
          "execution_count": 10
        }
      ]
    },
    {
      "cell_type": "code",
      "source": [
        "#use of len() function\n",
        "a=(\"i am nilesh thonte\")\n",
        "b=len(a)\n",
        "print(b)\n",
        "a=('1','2','3','4','5')\n",
        "len(a)"
      ],
      "metadata": {
        "colab": {
          "base_uri": "https://localhost:8080/"
        },
        "id": "A9lwVahgskfV",
        "outputId": "c214a85a-0f10-4109-e269-1f2622eedb40"
      },
      "execution_count": 12,
      "outputs": [
        {
          "output_type": "stream",
          "name": "stdout",
          "text": [
            "18\n"
          ]
        },
        {
          "output_type": "execute_result",
          "data": {
            "text/plain": [
              "5"
            ]
          },
          "metadata": {},
          "execution_count": 12
        }
      ]
    },
    {
      "cell_type": "code",
      "source": [
        "#membership operator\n",
        "# in and not in() operator\n",
        "a=(\"1,2,3,4,5,6,7,8,9\")\n",
        "print(type(a))\n",
        "print(id(a))\n",
        "print(len(a))\n",
        "a[::]\n",
        "a[-1]\n",
        "a[2:4]\n",
        "print('1' in a)\n",
        "print('9' in a)\n",
        "print('9' not in a)\n"
      ],
      "metadata": {
        "colab": {
          "base_uri": "https://localhost:8080/"
        },
        "id": "7Qh1TJnLs8Zb",
        "outputId": "ad3497fc-b897-4ad1-f2f9-91a430010957"
      },
      "execution_count": 24,
      "outputs": [
        {
          "output_type": "stream",
          "name": "stdout",
          "text": [
            "<class 'str'>\n",
            "140501016614272\n",
            "17\n",
            "True\n",
            "True\n",
            "False\n"
          ]
        }
      ]
    },
    {
      "cell_type": "code",
      "source": [
        "#comparison operator\n",
        "a=(\"1,2,3,4,5,6\")\n",
        "b=(\"5,6,7,8,9,0\")\n",
        "print(a<b)\n",
        "a=(\"34\")\n",
        "b=(\"32\")\n",
        "print(a>b)\n",
        "a=(\"56\")\n",
        "b=(\"12\")\n",
        "if a==b:\n",
        "  print(\"strings are equal\")\n",
        "else:\n",
        "  print(\"string are not equal\")\n",
        "a=(\"23\")\n",
        "b=(\"24\")\n",
        "if a>=b:\n",
        "  print(\"string is \")\n",
        "else:\n",
        "  print(\"string is not\")\n",
        "a=(\"12\")\n",
        "b=(\"23\")\n",
        "if a!=b:\n",
        "  print(\"string is ok\")\n",
        "else:\n",
        "  print(\"string is not ok\")\n"
      ],
      "metadata": {
        "colab": {
          "base_uri": "https://localhost:8080/"
        },
        "id": "tuyXo8mft-sT",
        "outputId": "93d02a52-179e-43c9-d25e-49af3c275394"
      },
      "execution_count": 30,
      "outputs": [
        {
          "output_type": "stream",
          "name": "stdout",
          "text": [
            "True\n",
            "True\n",
            "string are not equal\n",
            "string is not\n",
            "string is ok\n"
          ]
        }
      ]
    },
    {
      "cell_type": "code",
      "source": [],
      "metadata": {
        "id": "V6q30SV700SS"
      },
      "execution_count": null,
      "outputs": []
    },
    {
      "cell_type": "code",
      "source": [
        "a=\"nilesh \"\n",
        "a.rstrip()\n",
        "print(a)\n",
        "a=\" nilesh\"\n",
        "print(a)"
      ],
      "metadata": {
        "colab": {
          "base_uri": "https://localhost:8080/"
        },
        "id": "V9JPHHzgvI8k",
        "outputId": "399183dc-c095-4132-be1d-7f2d39136597"
      },
      "execution_count": 33,
      "outputs": [
        {
          "output_type": "stream",
          "name": "stdout",
          "text": [
            "nilesh \n",
            " nilesh\n"
          ]
        }
      ]
    },
    {
      "cell_type": "code",
      "source": [
        "#find the substring\n",
        "#find()\n",
        "a=\"i am nilesh\"\n",
        "a.find(\"nilesh\")"
      ],
      "metadata": {
        "colab": {
          "base_uri": "https://localhost:8080/"
        },
        "id": "1fKcj8v11VGD",
        "outputId": "08e766a9-57f3-48e2-f193-201dd9b5a385"
      },
      "execution_count": 45,
      "outputs": [
        {
          "output_type": "execute_result",
          "data": {
            "text/plain": [
              "5"
            ]
          },
          "metadata": {},
          "execution_count": 45
        }
      ]
    },
    {
      "cell_type": "code",
      "source": [
        "a=(\"i am nilesh\")\n",
        "a.rindex(\"h\")"
      ],
      "metadata": {
        "colab": {
          "base_uri": "https://localhost:8080/"
        },
        "id": "egYFs4Ox3AAb",
        "outputId": "b6a023a6-d117-46dd-fe4f-a6acb610ab10"
      },
      "execution_count": 55,
      "outputs": [
        {
          "output_type": "execute_result",
          "data": {
            "text/plain": [
              "10"
            ]
          },
          "metadata": {},
          "execution_count": 55
        }
      ]
    },
    {
      "cell_type": "code",
      "source": [
        "a=\"i am nilesh\"\n",
        "a.rfind(\"h\")"
      ],
      "metadata": {
        "colab": {
          "base_uri": "https://localhost:8080/"
        },
        "id": "Vd7HIX4L3Xdi",
        "outputId": "00cf9968-704b-41bd-dd3c-45ab2b5a0756"
      },
      "execution_count": 54,
      "outputs": [
        {
          "output_type": "execute_result",
          "data": {
            "text/plain": [
              "10"
            ]
          },
          "metadata": {},
          "execution_count": 54
        }
      ]
    },
    {
      "cell_type": "code",
      "source": [
        "#count()\n",
        "a=(\"i am nilesh thonte\")\n",
        "a.count(\"i\")\n",
        "a.count(\"n\")\n",
        "a.count(\"t\")"
      ],
      "metadata": {
        "colab": {
          "base_uri": "https://localhost:8080/"
        },
        "id": "HV4GKlXd3Sja",
        "outputId": "9493ea6a-4eca-4ec7-b07a-0e4b6bb7e5a7"
      },
      "execution_count": 58,
      "outputs": [
        {
          "output_type": "execute_result",
          "data": {
            "text/plain": [
              "2"
            ]
          },
          "metadata": {},
          "execution_count": 58
        }
      ]
    },
    {
      "cell_type": "code",
      "source": [
        "#replace()\n",
        "a=(\"i am nilesh\")\n",
        "a.replace(\"nilesh\",\"thonte\")\n"
      ],
      "metadata": {
        "colab": {
          "base_uri": "https://localhost:8080/",
          "height": 35
        },
        "id": "7ZZLveT93_LM",
        "outputId": "1aafca81-3cae-473e-fe0b-7ebeb50f0672"
      },
      "execution_count": 60,
      "outputs": [
        {
          "output_type": "execute_result",
          "data": {
            "text/plain": [
              "'i am thonte'"
            ],
            "application/vnd.google.colaboratory.intrinsic+json": {
              "type": "string"
            }
          },
          "metadata": {},
          "execution_count": 60
        }
      ]
    },
    {
      "cell_type": "code",
      "source": [
        "#split\n",
        "a=\"nilesh thonte\"\n",
        "a.split()\n"
      ],
      "metadata": {
        "colab": {
          "base_uri": "https://localhost:8080/"
        },
        "id": "hPMv0wSE4Qdk",
        "outputId": "6ddea2c7-d2c8-4b76-bcba-f83d8d5c3b7e"
      },
      "execution_count": 66,
      "outputs": [
        {
          "output_type": "execute_result",
          "data": {
            "text/plain": [
              "['nilesh', 'thonte']"
            ]
          },
          "metadata": {},
          "execution_count": 66
        }
      ]
    },
    {
      "cell_type": "code",
      "source": [
        "#join\n",
        "list1= [\"data\",\"science\",\"ai\"]\n",
        "(\"/\").join(list1)"
      ],
      "metadata": {
        "colab": {
          "base_uri": "https://localhost:8080/",
          "height": 35
        },
        "id": "r2VG3qGj41sN",
        "outputId": "966c6af9-02dd-4eaa-a85f-bc62294231b1"
      },
      "execution_count": 74,
      "outputs": [
        {
          "output_type": "execute_result",
          "data": {
            "text/plain": [
              "'data/science/ai'"
            ],
            "application/vnd.google.colaboratory.intrinsic+json": {
              "type": "string"
            }
          },
          "metadata": {},
          "execution_count": 74
        }
      ]
    },
    {
      "cell_type": "code",
      "source": [
        "a=\"i am nilesh\"\n",
        "print(a.upper())\n",
        "print(a.lower())\n",
        "\n",
        "print(a.capitalize())"
      ],
      "metadata": {
        "colab": {
          "base_uri": "https://localhost:8080/"
        },
        "id": "IFP4zy5g5pwU",
        "outputId": "c8a477e6-4267-47bb-e4a7-a6db16fd5cbb"
      },
      "execution_count": 81,
      "outputs": [
        {
          "output_type": "stream",
          "name": "stdout",
          "text": [
            "I AM NILESH\n",
            "i am nilesh\n",
            "I am nilesh\n"
          ]
        }
      ]
    },
    {
      "cell_type": "code",
      "source": [
        "a=\"i am nilesh thonte\"\n",
        "a.endswith(\"thonte\")"
      ],
      "metadata": {
        "colab": {
          "base_uri": "https://localhost:8080/"
        },
        "id": "WgXA8HuJ2xIz",
        "outputId": "40bc0410-93cd-4e81-f728-80a769d06bd6"
      },
      "execution_count": 90,
      "outputs": [
        {
          "output_type": "execute_result",
          "data": {
            "text/plain": [
              "True"
            ]
          },
          "metadata": {},
          "execution_count": 90
        }
      ]
    },
    {
      "cell_type": "code",
      "source": [
        "\n",
        "\" \".isspace()\n"
      ],
      "metadata": {
        "colab": {
          "base_uri": "https://localhost:8080/"
        },
        "id": "OKNqcQRV7IOk",
        "outputId": "4df7c9c4-1118-4796-f130-8ee278e560ec"
      },
      "execution_count": 113,
      "outputs": [
        {
          "output_type": "execute_result",
          "data": {
            "text/plain": [
              "True"
            ]
          },
          "metadata": {},
          "execution_count": 113
        }
      ]
    },
    {
      "cell_type": "code",
      "source": [],
      "metadata": {
        "id": "E5N_HOd26c00"
      },
      "execution_count": null,
      "outputs": []
    }
  ]
}