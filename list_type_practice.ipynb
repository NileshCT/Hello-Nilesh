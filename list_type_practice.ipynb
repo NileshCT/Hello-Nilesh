{
  "nbformat": 4,
  "nbformat_minor": 0,
  "metadata": {
    "colab": {
      "provenance": [],
      "authorship_tag": "ABX9TyN0eygJzA5rv3GOuWbrPLc4",
      "include_colab_link": true
    },
    "kernelspec": {
      "name": "python3",
      "display_name": "Python 3"
    },
    "language_info": {
      "name": "python"
    }
  },
  "cells": [
    {
      "cell_type": "markdown",
      "metadata": {
        "id": "view-in-github",
        "colab_type": "text"
      },
      "source": [
        "<a href=\"https://colab.research.google.com/github/NileshCT/Hello-Nilesh/blob/main/list_type_practice.ipynb\" target=\"_parent\"><img src=\"https://colab.research.google.com/assets/colab-badge.svg\" alt=\"Open In Colab\"/></a>"
      ]
    },
    {
      "cell_type": "code",
      "execution_count": 2,
      "metadata": {
        "colab": {
          "base_uri": "https://localhost:8080/"
        },
        "id": "F9PmKlVRi0Kh",
        "outputId": "635985bb-de3e-4224-9904-b6279a469450"
      },
      "outputs": [
        {
          "output_type": "stream",
          "name": "stdout",
          "text": [
            "[1, 2, 3, 4, 5, 6, 7]\n"
          ]
        },
        {
          "output_type": "execute_result",
          "data": {
            "text/plain": [
              "140084826582912"
            ]
          },
          "metadata": {},
          "execution_count": 2
        }
      ],
      "source": [
        "#mak a list\n",
        "list1=[1,2,3,4,5,6,7]\n",
        "print(list1)\n",
        "type(list1)\n",
        "id(list1)"
      ]
    },
    {
      "cell_type": "code",
      "source": [
        "#del a lits\n",
        "a=[23,4,5,6,7,8]\n",
        "type(a)\n",
        "a.clear()\n",
        "print(a)\n"
      ],
      "metadata": {
        "colab": {
          "base_uri": "https://localhost:8080/"
        },
        "id": "Y9xswPhfjQgw",
        "outputId": "2179cc05-1e57-46e5-c4e7-c93246573cbc"
      },
      "execution_count": 8,
      "outputs": [
        {
          "output_type": "stream",
          "name": "stdout",
          "text": [
            "[]\n"
          ]
        }
      ]
    },
    {
      "cell_type": "code",
      "source": [
        "#split a list\n",
        "a=\"1,2,3, 4, 5, 5, 6, 7\"\n",
        "l=a.split()\n",
        "print(l)\n"
      ],
      "metadata": {
        "colab": {
          "base_uri": "https://localhost:8080/"
        },
        "id": "nRvEEqCmkh64",
        "outputId": "a3595e70-a2a1-4307-fc87-47cd09660715"
      },
      "execution_count": 24,
      "outputs": [
        {
          "output_type": "stream",
          "name": "stdout",
          "text": [
            "['1,2,3,', '4,', '5,', '5,', '6,', '7']\n"
          ]
        }
      ]
    },
    {
      "cell_type": "code",
      "source": [
        "#accessing the elemts of the list\n",
        "a=[1,2,3,4,5,6,5,4,33,6,7,88,99,0]\n",
        "a[-2]=111\n",
        "print(a)\n",
        "a[:-1]\n",
        "print(a)"
      ],
      "metadata": {
        "colab": {
          "base_uri": "https://localhost:8080/"
        },
        "id": "0NnwV3GorwZe",
        "outputId": "62b70867-2f5c-45fe-f915-afaa6d093a3d"
      },
      "execution_count": 46,
      "outputs": [
        {
          "output_type": "stream",
          "name": "stdout",
          "text": [
            "[1, 2, 3, 4, 5, 6, 5, 4, 33, 6, 7, 88, 111, 0]\n",
            "[1, 2, 3, 4, 5, 6, 5, 4, 33, 6, 7, 88, 111, 0]\n"
          ]
        }
      ]
    },
    {
      "cell_type": "code",
      "source": [
        "#to find length len()\n",
        "a=[1,2,3,4,5,6,5,4,33,6,7,88,99,0]\n",
        "l=len(a)>33\n",
        "print(l)"
      ],
      "metadata": {
        "colab": {
          "base_uri": "https://localhost:8080/"
        },
        "id": "f8IeH5nMtWai",
        "outputId": "62075180-b019-4f0d-98a0-04a81db903ad"
      },
      "execution_count": 48,
      "outputs": [
        {
          "output_type": "stream",
          "name": "stdout",
          "text": [
            "False\n"
          ]
        }
      ]
    },
    {
      "cell_type": "code",
      "source": [
        "#count()\n",
        "a=[1,2,3,4,5,6,5,4,33,6,7,88,99,0]\n",
        "len(a)\n",
        "print(a)\n",
        "a.count(5)\n"
      ],
      "metadata": {
        "colab": {
          "base_uri": "https://localhost:8080/"
        },
        "id": "t2DfjY5ktmSe",
        "outputId": "1c85f850-c087-4c59-c727-bce7afe4448a"
      },
      "execution_count": 54,
      "outputs": [
        {
          "output_type": "stream",
          "name": "stdout",
          "text": [
            "[1, 2, 3, 4, 5, 6, 5, 4, 33, 6, 7, 88, 99, 0]\n"
          ]
        },
        {
          "output_type": "execute_result",
          "data": {
            "text/plain": [
              "2"
            ]
          },
          "metadata": {},
          "execution_count": 54
        }
      ]
    },
    {
      "cell_type": "code",
      "source": [
        "#index()\n",
        "a=[1,2,3,4,5,6,5,4,33,6,7,88,99,0]\n",
        "a.index(33)\n",
        "\n"
      ],
      "metadata": {
        "colab": {
          "base_uri": "https://localhost:8080/"
        },
        "id": "wAFIN5NXt-EP",
        "outputId": "50525f24-0dbb-4bb4-d244-001de0b55e4d"
      },
      "execution_count": 58,
      "outputs": [
        {
          "output_type": "execute_result",
          "data": {
            "text/plain": [
              "8"
            ]
          },
          "metadata": {},
          "execution_count": 58
        }
      ]
    },
    {
      "cell_type": "code",
      "source": [
        "#append()\n",
        "a=[1,2,3,45]\n",
        "b=[3,4,5,6,7,8]\n",
        "c=[]\n",
        "c.append(a)\n",
        "print(c)\n",
        "c.append(b)\n",
        "print(c)\n",
        "a=[1,2,3,45]\n",
        "b=[3,4,5,6,7,8]\n",
        "e=a.extend(b)\n",
        "print(e)"
      ],
      "metadata": {
        "colab": {
          "base_uri": "https://localhost:8080/"
        },
        "id": "XhrhbepsuRwe",
        "outputId": "5b904ce8-6d25-42e3-8f4e-1ce4bcab70f0"
      },
      "execution_count": 62,
      "outputs": [
        {
          "output_type": "stream",
          "name": "stdout",
          "text": [
            "[[1, 2, 3, 45]]\n",
            "[[1, 2, 3, 45], [3, 4, 5, 6, 7, 8]]\n",
            "None\n"
          ]
        }
      ]
    },
    {
      "cell_type": "code",
      "source": [
        "#insert()\n",
        "a=[2,4,6,7,8,9]\n",
        "a.insert(-2,33)\n",
        "print(a)"
      ],
      "metadata": {
        "colab": {
          "base_uri": "https://localhost:8080/"
        },
        "id": "KJzxqChEwJqf",
        "outputId": "7b76e232-2d3c-46d3-96b3-2f888441f6e7"
      },
      "execution_count": 66,
      "outputs": [
        {
          "output_type": "stream",
          "name": "stdout",
          "text": [
            "[2, 4, 6, 7, 33, 8, 9]\n"
          ]
        }
      ]
    },
    {
      "cell_type": "code",
      "source": [
        "#extend()\n",
        "a=[12,3,4,5]\n",
        "b=[13,5,6,7,9]\n",
        "b.extend(a)\n",
        "print(b)"
      ],
      "metadata": {
        "colab": {
          "base_uri": "https://localhost:8080/"
        },
        "id": "IROAaVVwwn0g",
        "outputId": "73360da5-3907-4c94-ae7b-f2b3475993e2"
      },
      "execution_count": 69,
      "outputs": [
        {
          "output_type": "stream",
          "name": "stdout",
          "text": [
            "[13, 5, 6, 7, 9, 12, 3, 4, 5]\n"
          ]
        }
      ]
    },
    {
      "cell_type": "code",
      "source": [
        "#remove()\n",
        "a=[12,3,4,5]\n",
        "b=[13,5,6,7,9]\n",
        "a.remove(12)\n",
        "b.clear()\n",
        "print(b)\n",
        "print(a)"
      ],
      "metadata": {
        "colab": {
          "base_uri": "https://localhost:8080/"
        },
        "id": "-nx8N_msw5wY",
        "outputId": "f76f9e17-077b-4c53-d95e-eeb46f811049"
      },
      "execution_count": 73,
      "outputs": [
        {
          "output_type": "stream",
          "name": "stdout",
          "text": [
            "[]\n",
            "[3, 4, 5]\n"
          ]
        }
      ]
    },
    {
      "cell_type": "code",
      "source": [
        "#pop()\n",
        "a=[12,3,4,5,6,76,5,4,43,25,6,7,89]\n",
        "a.pop()\n",
        "print(a)"
      ],
      "metadata": {
        "colab": {
          "base_uri": "https://localhost:8080/"
        },
        "id": "VG2px-ONxQE_",
        "outputId": "49fd4d7c-c350-47dd-81c5-d08d8760ea88"
      },
      "execution_count": 74,
      "outputs": [
        {
          "output_type": "stream",
          "name": "stdout",
          "text": [
            "[12, 3, 4, 5, 6, 76, 5, 4, 43, 25, 6, 7]\n"
          ]
        }
      ]
    },
    {
      "cell_type": "code",
      "source": [
        "#reverse(),sort()\n",
        "a=[12,3,4,5,6,76,5,4,43,25,6,7,89]\n",
        "a.sort()\n",
        "print(a)\n",
        "a.reverse()\n",
        "print(a)\n",
        "a.sort(reverse=False)\n",
        "print(a)"
      ],
      "metadata": {
        "colab": {
          "base_uri": "https://localhost:8080/"
        },
        "id": "nny8ID9pzmTH",
        "outputId": "152798e4-97b9-4d24-c22a-32323baa4c5e"
      },
      "execution_count": 79,
      "outputs": [
        {
          "output_type": "stream",
          "name": "stdout",
          "text": [
            "[3, 4, 4, 5, 5, 6, 6, 7, 12, 25, 43, 76, 89]\n",
            "[89, 76, 43, 25, 12, 7, 6, 6, 5, 5, 4, 4, 3]\n",
            "[3, 4, 4, 5, 5, 6, 6, 7, 12, 25, 43, 76, 89]\n"
          ]
        }
      ]
    },
    {
      "cell_type": "code",
      "source": [
        "a=[12,3,4,5]\n",
        "b=[13,5,6,7,9]\n",
        "c=a+b\n",
        "d=[]\n",
        "print(c)\n",
        "a.extend(b)\n",
        "print(a)\n",
        "d.append(a)\n",
        "print(d)\n",
        "d.append(b)\n",
        "print(d)\n"
      ],
      "metadata": {
        "colab": {
          "base_uri": "https://localhost:8080/"
        },
        "id": "Yh1MF1VL1ijh",
        "outputId": "bb72f489-5270-425f-9048-acdac86dc24a"
      },
      "execution_count": 84,
      "outputs": [
        {
          "output_type": "stream",
          "name": "stdout",
          "text": [
            "[12, 3, 4, 5, 13, 5, 6, 7, 9]\n",
            "[12, 3, 4, 5, 13, 5, 6, 7, 9]\n",
            "[[12, 3, 4, 5, 13, 5, 6, 7, 9]]\n",
            "[[12, 3, 4, 5, 13, 5, 6, 7, 9], [13, 5, 6, 7, 9]]\n"
          ]
        }
      ]
    },
    {
      "cell_type": "code",
      "source": [
        "a=[1,3,4,5,[23,45,34],12,34]\n",
        "a[4]\n",
        "a[4][0]"
      ],
      "metadata": {
        "colab": {
          "base_uri": "https://localhost:8080/"
        },
        "id": "GR6HAzWm1_TI",
        "outputId": "47ff8b36-8c32-4df5-c429-483839ddd257"
      },
      "execution_count": 90,
      "outputs": [
        {
          "output_type": "execute_result",
          "data": {
            "text/plain": [
              "23"
            ]
          },
          "metadata": {},
          "execution_count": 90
        }
      ]
    },
    {
      "cell_type": "code",
      "source": [
        "#membership operator\n",
        "a=[4,3,4,5,6,7,9,7,8,8,9]\n",
        "(4 in a)\n"
      ],
      "metadata": {
        "colab": {
          "base_uri": "https://localhost:8080/"
        },
        "id": "0dUYxHFs2mBQ",
        "outputId": "ce913c16-c609-44bb-b640-76f1118b25ff"
      },
      "execution_count": 95,
      "outputs": [
        {
          "output_type": "execute_result",
          "data": {
            "text/plain": [
              "True"
            ]
          },
          "metadata": {},
          "execution_count": 95
        }
      ]
    },
    {
      "cell_type": "code",
      "source": [
        "#repetation operator\n",
        "a=[23,4,5,6,7,8]\n",
        "c=a*4\n",
        "print(c)"
      ],
      "metadata": {
        "colab": {
          "base_uri": "https://localhost:8080/"
        },
        "id": "CUuphJMV38Ef",
        "outputId": "0415e55f-705b-45a5-b33a-d5dff7f0412b"
      },
      "execution_count": 96,
      "outputs": [
        {
          "output_type": "stream",
          "name": "stdout",
          "text": [
            "[23, 4, 5, 6, 7, 8, 23, 4, 5, 6, 7, 8, 23, 4, 5, 6, 7, 8, 23, 4, 5, 6, 7, 8]\n"
          ]
        }
      ]
    },
    {
      "cell_type": "code",
      "source": [
        "#aliasing and clonning copy()\n",
        "a=[56,98,87,76,65,43,3]\n",
        "x=a\n",
        "print(x)\n",
        "type(x)\n",
        "a.copy()\n",
        "print(a)\n",
        "a[0]=11\n",
        "print(a)\n",
        "print(a)"
      ],
      "metadata": {
        "colab": {
          "base_uri": "https://localhost:8080/"
        },
        "id": "HCyQE50Y4lU2",
        "outputId": "39fb8f87-1388-4666-f4b6-fc175a961eb3"
      },
      "execution_count": 101,
      "outputs": [
        {
          "output_type": "stream",
          "name": "stdout",
          "text": [
            "[56, 98, 87, 76, 65, 43, 3]\n",
            "[56, 98, 87, 76, 65, 43, 3]\n",
            "[11, 98, 87, 76, 65, 43, 3]\n",
            "[11, 98, 87, 76, 65, 43, 3]\n"
          ]
        }
      ]
    },
    {
      "cell_type": "code",
      "source": [
        "#for and while loop\n",
        "sum=0\n",
        "i=0\n",
        "for i in range(10):\n",
        "  sum=sum+1\n",
        "  i=i+1\n",
        "  print(sum)"
      ],
      "metadata": {
        "colab": {
          "base_uri": "https://localhost:8080/"
        },
        "id": "jf3Go_1e5Suv",
        "outputId": "54c516ed-7e4d-4188-b3e6-a3ea854b0acd"
      },
      "execution_count": 106,
      "outputs": [
        {
          "output_type": "stream",
          "name": "stdout",
          "text": [
            "1\n",
            "2\n",
            "3\n",
            "4\n",
            "5\n",
            "6\n",
            "7\n",
            "8\n",
            "9\n",
            "10\n"
          ]
        }
      ]
    },
    {
      "cell_type": "code",
      "source": [
        "a=[x*x for x in range(10)]\n",
        "print(a)\n",
        "a=[x/2 for x in range(10)]\n",
        "print(a)\n",
        "a=[x=2 for x in a;if x%2==0]\n",
        "print(a)"
      ],
      "metadata": {
        "colab": {
          "base_uri": "https://localhost:8080/",
          "height": 132
        },
        "id": "4j_Q8N556QTv",
        "outputId": "301a3b57-73b1-4f67-b56b-6802b353d3d5"
      },
      "execution_count": 112,
      "outputs": [
        {
          "output_type": "error",
          "ename": "SyntaxError",
          "evalue": "ignored",
          "traceback": [
            "\u001b[0;36m  File \u001b[0;32m\"<ipython-input-112-d5ae1640389f>\"\u001b[0;36m, line \u001b[0;32m5\u001b[0m\n\u001b[0;31m    a=[x=2 for x in a;if x%2==0]\u001b[0m\n\u001b[0m        ^\u001b[0m\n\u001b[0;31mSyntaxError\u001b[0m\u001b[0;31m:\u001b[0m invalid syntax\n"
          ]
        }
      ]
    }
  ]
}