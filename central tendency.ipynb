{
  "nbformat": 4,
  "nbformat_minor": 0,
  "metadata": {
    "colab": {
      "provenance": [],
      "authorship_tag": "ABX9TyOkdrGJcSmfFGbWQi2UCnxt",
      "include_colab_link": true
    },
    "kernelspec": {
      "name": "python3",
      "display_name": "Python 3"
    },
    "language_info": {
      "name": "python"
    }
  },
  "cells": [
    {
      "cell_type": "markdown",
      "metadata": {
        "id": "view-in-github",
        "colab_type": "text"
      },
      "source": [
        "<a href=\"https://colab.research.google.com/github/NileshCT/Hello-Nilesh/blob/main/central%20tendency.ipynb\" target=\"_parent\"><img src=\"https://colab.research.google.com/assets/colab-badge.svg\" alt=\"Open In Colab\"/></a>"
      ]
    },
    {
      "cell_type": "code",
      "execution_count": 9,
      "metadata": {
        "colab": {
          "base_uri": "https://localhost:8080/"
        },
        "id": "VxqWKAoW_1DR",
        "outputId": "aa814298-c865-478e-a6ac-fd2e28d713bb"
      },
      "outputs": [
        {
          "output_type": "stream",
          "name": "stdout",
          "text": [
            "mean: 6.111111111111111\n",
            "median: 6.0\n",
            "mode: ModeResult(mode=array([6]), count=array([2]))\n",
            "STD 2.078698548207745\n",
            "var: 4.320987654320987\n"
          ]
        }
      ],
      "source": [
        "import numpy as np\n",
        "from scipy import stats\n",
        "dataset = [2,4,5,6,7,8,9,8,6]\n",
        "mean = np.mean(dataset)\n",
        "median = np.median(dataset)\n",
        "mode = stats.mode(dataset)\n",
        "std = np.std(dataset)\n",
        "var = np.var(dataset)\n",
        "print (\"mean:\",mean)\n",
        "print (\"median:\",median)\n",
        "print (\"mode:\",mode)\n",
        "print (\"STD\",std)\n",
        "print (\"var:\",var)"
      ]
    }
  ]
}