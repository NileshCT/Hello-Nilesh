{
  "nbformat": 4,
  "nbformat_minor": 0,
  "metadata": {
    "colab": {
      "provenance": [],
      "authorship_tag": "ABX9TyOoqTAqA5cEdOzDaAXyZwnH",
      "include_colab_link": true
    },
    "kernelspec": {
      "name": "python3",
      "display_name": "Python 3"
    },
    "language_info": {
      "name": "python"
    }
  },
  "cells": [
    {
      "cell_type": "markdown",
      "metadata": {
        "id": "view-in-github",
        "colab_type": "text"
      },
      "source": [
        "<a href=\"https://colab.research.google.com/github/NileshCT/Hello-Nilesh/blob/main/homework_python_class4_question.ipynb\" target=\"_parent\"><img src=\"https://colab.research.google.com/assets/colab-badge.svg\" alt=\"Open In Colab\"/></a>"
      ]
    },
    {
      "cell_type": "code",
      "execution_count": null,
      "metadata": {
        "id": "G5y-NXav3VUM"
      },
      "outputs": [],
      "source": []
    },
    {
      "cell_type": "markdown",
      "source": [
        "# write a program to find the biggest of 3 numbers from command prompt."
      ],
      "metadata": {
        "id": "nPPCmyk13Vwy"
      }
    },
    {
      "cell_type": "code",
      "source": [
        "a=int(input(\"mention first no.:\"))\n",
        "b=int(input(\"mention second number\"))\n",
        "c=int(input(\"mention third number\"))\n",
        "max=c if a>b and b>c else b if a>c else a\n",
        "print(\"max number\",max)\n",
        "\n"
      ],
      "metadata": {
        "colab": {
          "base_uri": "https://localhost:8080/"
        },
        "id": "63lAjFns3h0O",
        "outputId": "fdcc61c6-da66-4bee-cfa0-b7117a946bde"
      },
      "execution_count": 16,
      "outputs": [
        {
          "output_type": "stream",
          "name": "stdout",
          "text": [
            "mention first no.:12\n",
            "mention second number23\n",
            "mention third number13\n",
            "max number 12\n"
          ]
        }
      ]
    },
    {
      "cell_type": "code",
      "source": [],
      "metadata": {
        "id": "lq_6s4sICZfy"
      },
      "execution_count": null,
      "outputs": []
    },
    {
      "cell_type": "markdown",
      "source": [
        "program to show biggest number"
      ],
      "metadata": {
        "id": "16V_TyvzD3lx"
      }
    },
    {
      "cell_type": "code",
      "source": [
        "a=23\n",
        "b=24\n",
        "c=14\n",
        "if a>b:\n",
        "  print(a)\n",
        "else:\n",
        "  print(b)\n",
        "if b>c:\n",
        "  print(b)\n",
        "else:\n",
        "  print(c)"
      ],
      "metadata": {
        "colab": {
          "base_uri": "https://localhost:8080/"
        },
        "id": "r4LP7n3aCQ4y",
        "outputId": "ef714eae-fea3-48df-8dc8-c83dc39ed928"
      },
      "execution_count": 18,
      "outputs": [
        {
          "output_type": "stream",
          "name": "stdout",
          "text": [
            "24\n",
            "24\n"
          ]
        }
      ]
    },
    {
      "cell_type": "code",
      "source": [
        "a=int(input(\"print 1st number\"))\n",
        "b=int(input(\"write 2nd number\"))\n",
        "c=int(input(\"write 3rd number\"))\n",
        "if a>b:\n",
        "  print(a)\n",
        "else:\n",
        "  print(b)\n",
        "if b>c:\n",
        "  print(b)\n",
        "else:\n",
        "  print(c)\n"
      ],
      "metadata": {
        "colab": {
          "base_uri": "https://localhost:8080/"
        },
        "id": "57rrUY4hEJoI",
        "outputId": "ea5433a9-eb39-4e7f-c93f-756b8187031f"
      },
      "execution_count": 19,
      "outputs": [
        {
          "output_type": "stream",
          "name": "stdout",
          "text": [
            "print 1st number23\n",
            "write 2nd number14\n",
            "write 3rd number35\n",
            "23\n",
            "35\n"
          ]
        }
      ]
    },
    {
      "cell_type": "code",
      "source": [
        "a=int(input(\"print 1st number\"))\n",
        "b=int(input(\"write 2nd number\"))\n",
        "c=int(input(\"write 3rd number\"))\n",
        "if a>b and b>c and c>a:\n",
        "  print(\"biggest number\",a,b,c)"
      ],
      "metadata": {
        "colab": {
          "base_uri": "https://localhost:8080/"
        },
        "id": "75I_q-TzE3K_",
        "outputId": "75438521-d240-4e8a-81b6-ec4ac0184798"
      },
      "execution_count": 20,
      "outputs": [
        {
          "name": "stdout",
          "output_type": "stream",
          "text": [
            "print 1st number12\n",
            "write 2nd number34\n",
            "write 3rd number13\n"
          ]
        }
      ]
    },
    {
      "cell_type": "code",
      "source": [],
      "metadata": {
        "id": "aN71YPHYGhGm"
      },
      "execution_count": null,
      "outputs": []
    },
    {
      "cell_type": "code",
      "source": [
        "a=int(input(\"write 1st number\"))\n",
        "b=int(input(\"write 2nd number\"))\n",
        "c=int(input(\"write 3rd number\"))\n",
        "if (a>b) and (a>c):\n",
        "    largest_num = a\n",
        "elif (b>a) and (b>c):\n",
        "    largest_num = b\n",
        "else:\n",
        "    largest_num=c\n",
        "print(largest_num)\n",
        "#program for lastest of 3 number\n",
        "\n"
      ],
      "metadata": {
        "colab": {
          "base_uri": "https://localhost:8080/"
        },
        "id": "p83dv_NgEz7e",
        "outputId": "a738af2c-c583-40b9-fd5a-64ae623cec9a"
      },
      "execution_count": 22,
      "outputs": [
        {
          "output_type": "stream",
          "name": "stdout",
          "text": [
            "write 1st number12\n",
            "write 2nd number23\n",
            "write 3rd number14\n",
            "23\n"
          ]
        }
      ]
    },
    {
      "cell_type": "markdown",
      "source": [
        "program for smallest of two number"
      ],
      "metadata": {
        "id": "1c5yxUCHJqvn"
      }
    },
    {
      "cell_type": "code",
      "source": [
        "a=23\n",
        "b=21\n",
        "if a<b:\n",
        "  print(\"print\",a)\n",
        "else:\n",
        "  print(\"print\",b)"
      ],
      "metadata": {
        "colab": {
          "base_uri": "https://localhost:8080/"
        },
        "id": "QKWw1uzuJ0z-",
        "outputId": "c4d97bb1-5c48-4c85-95c4-5deb78cddd97"
      },
      "execution_count": 25,
      "outputs": [
        {
          "output_type": "stream",
          "name": "stdout",
          "text": [
            "print 21\n"
          ]
        }
      ]
    },
    {
      "cell_type": "code",
      "source": [
        "# program to find the smallest of 3 number.\n",
        "a=int(input(\"mention 1st number\"))\n",
        "b=int(input(\"mention 2nd number\"))\n",
        "c=int(input(\"mention 3rd number\"))\n",
        "if (a<b) and (a<c):\n",
        "  number=a\n",
        "elif (b<a) and (b<c):\n",
        "  number=b\n",
        "else:\n",
        "  number=c\n",
        "print(number)"
      ],
      "metadata": {
        "colab": {
          "base_uri": "https://localhost:8080/"
        },
        "id": "-EGQynSFKwWl",
        "outputId": "52bb758b-4c33-4e35-c6b3-d6e6640d81de"
      },
      "execution_count": 32,
      "outputs": [
        {
          "output_type": "stream",
          "name": "stdout",
          "text": [
            "mention 1st number12\n",
            "mention 2nd number13\n",
            "mention 3rd number14\n",
            "12\n"
          ]
        }
      ]
    },
    {
      "cell_type": "markdown",
      "source": [
        "program for odd and even number\n"
      ],
      "metadata": {
        "id": "XSKQWROrNxed"
      }
    },
    {
      "cell_type": "code",
      "source": [
        "a=int(input())\n",
        "if (a%2==0):\n",
        "  print(\"even\",a)\n",
        "else:\n",
        "  print(\"odd\",a)\n"
      ],
      "metadata": {
        "colab": {
          "base_uri": "https://localhost:8080/"
        },
        "id": "9xmGneXhPwst",
        "outputId": "a42227d5-5b41-4f31-c7c8-30e5336b957c"
      },
      "execution_count": 43,
      "outputs": [
        {
          "output_type": "stream",
          "name": "stdout",
          "text": [
            "11\n",
            "odd 11\n"
          ]
        }
      ]
    },
    {
      "cell_type": "markdown",
      "source": [
        "program to represent *'s in right angle form "
      ],
      "metadata": {
        "id": "h0wn1spKQxuj"
      }
    },
    {
      "cell_type": "code",
      "source": [
        "row = int(input(\"mention number\"))\n",
        "print(\"right angle pattern\")\n",
        "for i in range(1,row+1):\n",
        "  for j in range(1,i+1):\n",
        "      print(\"*\",end=\" \")\n",
        "  print()"
      ],
      "metadata": {
        "colab": {
          "base_uri": "https://localhost:8080/"
        },
        "id": "teEUzj6kSB22",
        "outputId": "97b7dd44-ed51-4450-b977-a06b073e6c0a"
      },
      "execution_count": 53,
      "outputs": [
        {
          "output_type": "stream",
          "name": "stdout",
          "text": [
            "mention number6\n",
            "right angle pattern\n",
            "* \n",
            "* * \n",
            "* * * \n",
            "* * * * \n",
            "* * * * * \n",
            "* * * * * * \n"
          ]
        }
      ]
    }
  ]
}