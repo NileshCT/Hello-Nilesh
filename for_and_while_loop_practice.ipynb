{
  "nbformat": 4,
  "nbformat_minor": 0,
  "metadata": {
    "colab": {
      "provenance": [],
      "authorship_tag": "ABX9TyPmptsfj/+405vBAcB21DHC",
      "include_colab_link": true
    },
    "kernelspec": {
      "name": "python3",
      "display_name": "Python 3"
    },
    "language_info": {
      "name": "python"
    }
  },
  "cells": [
    {
      "cell_type": "markdown",
      "metadata": {
        "id": "view-in-github",
        "colab_type": "text"
      },
      "source": [
        "<a href=\"https://colab.research.google.com/github/NileshCT/Hello-Nilesh/blob/main/for_and_while_loop_practice.ipynb\" target=\"_parent\"><img src=\"https://colab.research.google.com/assets/colab-badge.svg\" alt=\"Open In Colab\"/></a>"
      ]
    },
    {
      "cell_type": "code",
      "execution_count": 11,
      "metadata": {
        "colab": {
          "base_uri": "https://localhost:8080/"
        },
        "id": "jlVFoRUY7jLi",
        "outputId": "cf464d92-a3df-41af-ccf5-989586900743"
      },
      "outputs": [
        {
          "output_type": "stream",
          "name": "stdout",
          "text": [
            "nil\n",
            "0\n",
            "1\n",
            "2\n",
            "3\n",
            "4\n",
            "saw\n",
            "0\n",
            "1\n",
            "2\n",
            "3\n",
            "4\n",
            "vin\n",
            "0\n",
            "1\n",
            "2\n",
            "3\n",
            "4\n"
          ]
        }
      ],
      "source": [
        "n=[\"nil\",\"saw\",\"vin\"]\n",
        "for i in n:\n",
        "  print(i)\n",
        "  for j in range(5):\n",
        "      print(j)\n"
      ]
    },
    {
      "cell_type": "code",
      "source": [
        "# for loop to iterate over a given input\n",
        "list1=[\"nil\",\"saw\",\"pow\",\"vin\"]\n",
        "list2=[1,2,3,4,5,6,7,8,9]\n",
        "for i in list1:\n",
        "  print(i)\n",
        "  for j in list2:\n",
        "    if j%2!=0:\n",
        "      print(j)\n",
        "print(i)\n"
      ],
      "metadata": {
        "colab": {
          "base_uri": "https://localhost:8080/"
        },
        "id": "XX0YWw6hMFh0",
        "outputId": "8f6505b2-5d3e-4186-c61c-483686d6fd31"
      },
      "execution_count": 15,
      "outputs": [
        {
          "output_type": "stream",
          "name": "stdout",
          "text": [
            "nil\n",
            "1\n",
            "3\n",
            "5\n",
            "7\n",
            "9\n",
            "saw\n",
            "1\n",
            "3\n",
            "5\n",
            "7\n",
            "9\n",
            "pow\n",
            "1\n",
            "3\n",
            "5\n",
            "7\n",
            "9\n",
            "vin\n",
            "1\n",
            "3\n",
            "5\n",
            "7\n",
            "9\n",
            "vin\n"
          ]
        }
      ]
    },
    {
      "cell_type": "code",
      "source": [
        "#iteeration in string\n",
        "n=\"nilesh thonte\"\n",
        "for i in n:\n",
        "  print(i)"
      ],
      "metadata": {
        "id": "3y2718JCNBbD"
      },
      "execution_count": null,
      "outputs": []
    },
    {
      "cell_type": "code",
      "source": [
        "n=\"nilesh thonte\",\"12\",\"13\"\n",
        "for i in n:\n",
        "  print(i)"
      ],
      "metadata": {
        "colab": {
          "base_uri": "https://localhost:8080/"
        },
        "id": "sxjbWRX2NezT",
        "outputId": "4ccc65d2-1928-4047-acbf-c21c3bfa6d29"
      },
      "execution_count": 18,
      "outputs": [
        {
          "output_type": "stream",
          "name": "stdout",
          "text": [
            "nilesh thonte\n",
            "12\n",
            "13\n"
          ]
        }
      ]
    },
    {
      "cell_type": "code",
      "source": [
        "\n",
        "# Prints all letters except 'e' and 's'\n",
        "cart=[12,13,15,300,20]\n",
        "for i in cart:\n",
        "  if i>200:\n",
        "    continue\n",
        "  print(i)\n"
      ],
      "metadata": {
        "colab": {
          "base_uri": "https://localhost:8080/"
        },
        "id": "5-mXUjBKNx2y",
        "outputId": "15c7d3a1-bda9-4af6-fcd1-393d5b9399c1"
      },
      "execution_count": 20,
      "outputs": [
        {
          "output_type": "stream",
          "name": "stdout",
          "text": [
            "12\n",
            "13\n",
            "15\n",
            "20\n"
          ]
        }
      ]
    },
    {
      "cell_type": "code",
      "source": [
        "name=\"nilesh thonte\"\n",
        "for i in name:\n",
        "  if i==\"n\" and i==\"l\":\n",
        "    break\n",
        "print(i)"
      ],
      "metadata": {
        "colab": {
          "base_uri": "https://localhost:8080/"
        },
        "id": "s84C8AZuOxIC",
        "outputId": "ed76b0dd-22f3-49a6-9881-adfda28b9cd2"
      },
      "execution_count": 39,
      "outputs": [
        {
          "output_type": "stream",
          "name": "stdout",
          "text": [
            "e\n"
          ]
        }
      ]
    },
    {
      "cell_type": "code",
      "source": [
        "#range function in python\n",
        "for i in range(12):\n",
        "  print(i)"
      ],
      "metadata": {
        "colab": {
          "base_uri": "https://localhost:8080/"
        },
        "id": "jzxhG2xSQOGS",
        "outputId": "04a857d5-011b-465d-eb46-97d9f145a6d3"
      },
      "execution_count": 40,
      "outputs": [
        {
          "output_type": "stream",
          "name": "stdout",
          "text": [
            "0\n",
            "1\n",
            "2\n",
            "3\n",
            "4\n",
            "5\n",
            "6\n",
            "7\n",
            "8\n",
            "9\n",
            "10\n",
            "11\n"
          ]
        }
      ]
    },
    {
      "cell_type": "code",
      "source": [
        "for i in range(1,11):\n",
        "  print(i)"
      ],
      "metadata": {
        "colab": {
          "base_uri": "https://localhost:8080/"
        },
        "id": "pC8iWZEwQ8JK",
        "outputId": "b743f1f1-03d8-43af-ecc6-e9e0f14f83e0"
      },
      "execution_count": 43,
      "outputs": [
        {
          "output_type": "stream",
          "name": "stdout",
          "text": [
            "1\n",
            "2\n",
            "3\n",
            "4\n",
            "5\n",
            "6\n",
            "7\n",
            "8\n",
            "9\n",
            "10\n"
          ]
        }
      ]
    },
    {
      "cell_type": "code",
      "source": [
        "for i in range(1,5,2):\n",
        "  print(i)"
      ],
      "metadata": {
        "colab": {
          "base_uri": "https://localhost:8080/"
        },
        "id": "-PxR1QfmRF-b",
        "outputId": "5f64fc9a-d7aa-4776-910b-40f884d0523d"
      },
      "execution_count": 49,
      "outputs": [
        {
          "output_type": "stream",
          "name": "stdout",
          "text": [
            "1\n",
            "3\n"
          ]
        }
      ]
    },
    {
      "cell_type": "code",
      "source": [
        "n=\"nilesh thonte\"\n",
        "for i in n:\n",
        "  if i==\"s\":\n",
        "    break\n",
        "  print(i)"
      ],
      "metadata": {
        "colab": {
          "base_uri": "https://localhost:8080/"
        },
        "id": "cT7R7sMIRZAS",
        "outputId": "41f6b86d-0e27-4c35-f1bd-2467d6c8a60e"
      },
      "execution_count": 58,
      "outputs": [
        {
          "output_type": "stream",
          "name": "stdout",
          "text": [
            "n\n",
            "i\n",
            "l\n",
            "e\n"
          ]
        }
      ]
    },
    {
      "cell_type": "code",
      "source": [
        "#performing sum of first 10 numbers\n",
        "sum=0\n",
        "i=1\n",
        "for i in range(11):\n",
        "  sum=sum+i\n",
        "  i+=1\n",
        "print(sum)\n"
      ],
      "metadata": {
        "colab": {
          "base_uri": "https://localhost:8080/"
        },
        "id": "YSYytjXtSe0y",
        "outputId": "ef0816b7-00bb-4924-d83a-7f8d83214e9e"
      },
      "execution_count": 66,
      "outputs": [
        {
          "output_type": "stream",
          "name": "stdout",
          "text": [
            "55\n"
          ]
        }
      ]
    },
    {
      "cell_type": "code",
      "source": [
        "\n",
        "# prints Hello Geek 3 Times\n",
        "for i in range(8):\n",
        "  if i%2==0:\n",
        "    print(\"hello\",i)"
      ],
      "metadata": {
        "colab": {
          "base_uri": "https://localhost:8080/"
        },
        "id": "WXWorcSgU38c",
        "outputId": "aebe9cb7-c477-4406-9fd0-cf9dc7b637be"
      },
      "execution_count": 71,
      "outputs": [
        {
          "output_type": "stream",
          "name": "stdout",
          "text": [
            "hello 0\n",
            "hello 2\n",
            "hello 4\n",
            "hello 6\n"
          ]
        }
      ]
    },
    {
      "cell_type": "code",
      "source": [
        "\n",
        "# prints Hello Geek 3 Times\n",
        "count=0\n",
        "while (count<3):\n",
        "  count=count+1\n",
        "  print(\"hello\",count)"
      ],
      "metadata": {
        "colab": {
          "base_uri": "https://localhost:8080/"
        },
        "id": "5v5hDZSOV2Th",
        "outputId": "07704f20-d02d-4f22-c8d6-956c97d31e43"
      },
      "execution_count": 78,
      "outputs": [
        {
          "output_type": "stream",
          "name": "stdout",
          "text": [
            "hello 1\n",
            "hello 2\n",
            "hello 3\n"
          ]
        }
      ]
    },
    {
      "cell_type": "code",
      "source": [
        "for i in range(1,6):\n",
        "  for j in range(i):\n",
        "    print(i,end=\"\")\n",
        "  print()\n"
      ],
      "metadata": {
        "colab": {
          "base_uri": "https://localhost:8080/"
        },
        "id": "T0qwSk9kYK6h",
        "outputId": "4d39268b-d8e2-4515-af27-27394c39f109"
      },
      "execution_count": 86,
      "outputs": [
        {
          "output_type": "stream",
          "name": "stdout",
          "text": [
            "1\n",
            "22\n",
            "333\n",
            "4444\n",
            "55555\n"
          ]
        }
      ]
    }
  ]
}