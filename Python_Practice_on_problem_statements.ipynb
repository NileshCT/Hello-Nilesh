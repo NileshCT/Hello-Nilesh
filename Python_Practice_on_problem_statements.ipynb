{
  "nbformat": 4,
  "nbformat_minor": 0,
  "metadata": {
    "colab": {
      "provenance": [],
      "authorship_tag": "ABX9TyN4L15uDIJGHYfQfWRL/6vz",
      "include_colab_link": true
    },
    "kernelspec": {
      "name": "python3",
      "display_name": "Python 3"
    },
    "language_info": {
      "name": "python"
    }
  },
  "cells": [
    {
      "cell_type": "markdown",
      "metadata": {
        "id": "view-in-github",
        "colab_type": "text"
      },
      "source": [
        "<a href=\"https://colab.research.google.com/github/NileshCT/Hello-Nilesh/blob/main/Python_Practice_on_problem_statements.ipynb\" target=\"_parent\"><img src=\"https://colab.research.google.com/assets/colab-badge.svg\" alt=\"Open In Colab\"/></a>"
      ]
    },
    {
      "cell_type": "code",
      "execution_count": null,
      "metadata": {
        "colab": {
          "base_uri": "https://localhost:8080/"
        },
        "id": "QTObqOoxvn7F",
        "outputId": "7d71e8a1-db36-4b61-8aca-7319beecb543"
      },
      "outputs": [
        {
          "output_type": "stream",
          "name": "stdout",
          "text": [
            "hello world\n"
          ]
        }
      ],
      "source": [
        "#python program to print(hello world)\n",
        "a=\"hello world\"\n",
        "print(a)"
      ]
    },
    {
      "cell_type": "code",
      "source": [
        "#python program to add two numbers\n",
        "a=int(input(\"\"))\n",
        "b=int(input(\"\"))\n",
        "c=a+b\n",
        "print(c)"
      ],
      "metadata": {
        "colab": {
          "base_uri": "https://localhost:8080/"
        },
        "id": "adG7IOrwv5Oy",
        "outputId": "39ae44f7-5688-4011-ebe4-d645d0f0acee"
      },
      "execution_count": null,
      "outputs": [
        {
          "output_type": "stream",
          "name": "stdout",
          "text": [
            "10\n",
            "10\n",
            "20\n"
          ]
        }
      ]
    },
    {
      "cell_type": "code",
      "source": [
        "a=[1,2,3,4,5,6]\n",
        "c=sum(a)\n",
        "print(c)\n"
      ],
      "metadata": {
        "colab": {
          "base_uri": "https://localhost:8080/"
        },
        "id": "JAnHmDsLwOta",
        "outputId": "57c4968e-35fa-490d-979c-672d7a88d449"
      },
      "execution_count": null,
      "outputs": [
        {
          "output_type": "stream",
          "name": "stdout",
          "text": [
            "21\n"
          ]
        }
      ]
    },
    {
      "cell_type": "code",
      "source": [
        "#python program to find square root\n",
        "def sqrt(n):\n",
        "  return n**0.5\n",
        "c=sqrt(4)\n",
        "print(c)\n"
      ],
      "metadata": {
        "colab": {
          "base_uri": "https://localhost:8080/"
        },
        "id": "sK_wsI1AwkTi",
        "outputId": "f6b97756-f94a-467a-960c-4b67ec83b889"
      },
      "execution_count": null,
      "outputs": [
        {
          "output_type": "stream",
          "name": "stdout",
          "text": [
            "2.0\n"
          ]
        }
      ]
    },
    {
      "cell_type": "code",
      "source": [
        "a=int(input(\"\"))\n",
        "b=a**0.5\n",
        "print(b)"
      ],
      "metadata": {
        "colab": {
          "base_uri": "https://localhost:8080/"
        },
        "id": "Frl7REf3xN6K",
        "outputId": "9c2e8ab3-26cc-468d-97fc-76d5b93dd1f7"
      },
      "execution_count": null,
      "outputs": [
        {
          "output_type": "stream",
          "name": "stdout",
          "text": [
            "4\n",
            "2.0\n"
          ]
        }
      ]
    },
    {
      "cell_type": "code",
      "source": [
        "#python program to calculate the area of area of triangle\n",
        "base=int(input(\"\"))\n",
        "height=int(input(\"\"))\n",
        "area=0.5*base*height\n",
        "print(area)"
      ],
      "metadata": {
        "colab": {
          "base_uri": "https://localhost:8080/"
        },
        "id": "Yg66hk8DxwFr",
        "outputId": "9137a6fa-218b-4a1f-e3b7-a1fcaa64a4c3"
      },
      "execution_count": null,
      "outputs": [
        {
          "output_type": "stream",
          "name": "stdout",
          "text": [
            "10\n",
            "10\n",
            "50.0\n"
          ]
        }
      ]
    },
    {
      "cell_type": "code",
      "source": [
        "#python program to check the given no is prime or not\n",
        "num=11\n",
        "for i in range(2,num):\n",
        "  if num%i==0:\n",
        "    print(\"given no. is not prime\")\n",
        "    break\n",
        "else:\n",
        "  print(\"given no. is prime\")"
      ],
      "metadata": {
        "colab": {
          "base_uri": "https://localhost:8080/"
        },
        "id": "DvgMii1EyOJ8",
        "outputId": "84895d63-8e82-42ac-8567-8be2d16fb007"
      },
      "execution_count": null,
      "outputs": [
        {
          "output_type": "stream",
          "name": "stdout",
          "text": [
            "given no. is prime\n"
          ]
        }
      ]
    },
    {
      "cell_type": "code",
      "source": [
        "#python program to swap two variables\n",
        "a=[1,2,3]\n",
        "b=[2,3,4]\n",
        "a,b=b,a\n",
        "print(a)"
      ],
      "metadata": {
        "colab": {
          "base_uri": "https://localhost:8080/"
        },
        "id": "gJ4cVIH01XyF",
        "outputId": "d0014971-b51b-4b88-945b-40a8eae65183"
      },
      "execution_count": null,
      "outputs": [
        {
          "output_type": "stream",
          "name": "stdout",
          "text": [
            "[2, 3, 4]\n"
          ]
        }
      ]
    },
    {
      "cell_type": "code",
      "source": [
        "#python program to generate random no.\n",
        "import random\n",
        "num=random.random()\n",
        "print(num)"
      ],
      "metadata": {
        "colab": {
          "base_uri": "https://localhost:8080/"
        },
        "id": "wWJBRiQx3AKF",
        "outputId": "e5882135-a2a4-4e4d-9ac5-8c748e0760db"
      },
      "execution_count": null,
      "outputs": [
        {
          "output_type": "stream",
          "name": "stdout",
          "text": [
            "0.04434293406745149\n"
          ]
        }
      ]
    },
    {
      "cell_type": "code",
      "source": [
        "import random\n",
        "num=random.random()\n",
        "print(num)"
      ],
      "metadata": {
        "colab": {
          "base_uri": "https://localhost:8080/"
        },
        "id": "k9QpCgQe4V7z",
        "outputId": "a6cc1a25-9fc8-4011-9bff-c39daafcffbc"
      },
      "execution_count": null,
      "outputs": [
        {
          "output_type": "stream",
          "name": "stdout",
          "text": [
            "0.8771446572794652\n"
          ]
        }
      ]
    },
    {
      "cell_type": "code",
      "source": [
        "#other ways to generate random number\n",
        "import random\n",
        "l=[2,3,4,5,7,8,9]\n",
        "num=random.choice(l)\n",
        "print(num)"
      ],
      "metadata": {
        "colab": {
          "base_uri": "https://localhost:8080/"
        },
        "id": "oGNNGttQ4hTE",
        "outputId": "8def8193-1b3f-4871-ad86-ec5b9b998589"
      },
      "execution_count": null,
      "outputs": [
        {
          "output_type": "stream",
          "name": "stdout",
          "text": [
            "3\n"
          ]
        }
      ]
    },
    {
      "cell_type": "code",
      "source": [
        "import random\n",
        "l=[2,3,4,5,6,7]\n",
        "num=random.choice(l)\n",
        "print(num)"
      ],
      "metadata": {
        "colab": {
          "base_uri": "https://localhost:8080/"
        },
        "id": "OLcCL68G5ns-",
        "outputId": "fcc4aaa7-a9f8-4108-b5d4-7891a00bdf73"
      },
      "execution_count": null,
      "outputs": [
        {
          "output_type": "stream",
          "name": "stdout",
          "text": [
            "6\n"
          ]
        }
      ]
    },
    {
      "cell_type": "code",
      "source": [
        "import random\n",
        "num=random.randrange(10,29,2)\n",
        "print(num)"
      ],
      "metadata": {
        "colab": {
          "base_uri": "https://localhost:8080/"
        },
        "id": "yqd2wiGl621H",
        "outputId": "cf48a66f-915b-4ecb-f423-b5723ff73faa"
      },
      "execution_count": null,
      "outputs": [
        {
          "output_type": "stream",
          "name": "stdout",
          "text": [
            "16\n"
          ]
        }
      ]
    },
    {
      "cell_type": "code",
      "source": [
        "#python program to solve quadratice equation\n",
        "import cmath\n",
        "a=int(input(\"\"))\n",
        "b=int(input(\"\"))\n",
        "c=int(input(\"\"))\n",
        "#calculate discrimate\n",
        "d=b*2- 4*a*c\n",
        "root1=(-b-cmath.sqrt(d))/(2*a)\n",
        "root2=(-b+cmath.sqrt(d))/(2*a)\n",
        "print(root1,\"and\",root2)\n"
      ],
      "metadata": {
        "colab": {
          "base_uri": "https://localhost:8080/"
        },
        "id": "tJ8fZJOM91Z3",
        "outputId": "50704f37-3798-40b3-8b4b-341687c0c291"
      },
      "execution_count": null,
      "outputs": [
        {
          "output_type": "stream",
          "name": "stdout",
          "text": [
            "10\n",
            "10\n",
            "10\n",
            "(-0.5-0.9746794344808963j) and (-0.5+0.9746794344808963j)\n"
          ]
        }
      ]
    },
    {
      "cell_type": "code",
      "source": [
        "import cmath\n",
        "a=10\n",
        "b=10\n",
        "c=10\n",
        "d=b*2-4*a*c\n",
        "root1=(-b-cmath.sqrt(d))/(2*a)\n",
        "root2=(-b+cmath.sqrt(d))/(2*a)\n",
        "print(root1,\"and\",root2)"
      ],
      "metadata": {
        "colab": {
          "base_uri": "https://localhost:8080/"
        },
        "id": "7IVnpAAR-uvK",
        "outputId": "94ec9075-8b75-49a9-bd27-d600bf04e419"
      },
      "execution_count": null,
      "outputs": [
        {
          "output_type": "stream",
          "name": "stdout",
          "text": [
            "(-0.5-0.9746794344808963j) and (-0.5+0.9746794344808963j)\n"
          ]
        }
      ]
    },
    {
      "cell_type": "code",
      "source": [
        "#python program to check given no. is positive or negative or 0\n",
        "a=int(input(\"\"))\n",
        "if a>0:\n",
        "  print(\"given no. is positive\")\n",
        "elif a<0:\n",
        "  print(\"given no. is negative\")\n",
        "else:\n",
        "  print(\"given no. is zero\")"
      ],
      "metadata": {
        "colab": {
          "base_uri": "https://localhost:8080/"
        },
        "id": "UPchAted_aFJ",
        "outputId": "d0cdbac0-d019-41d2-8f2e-2d93d0fb82b7"
      },
      "execution_count": null,
      "outputs": [
        {
          "output_type": "stream",
          "name": "stdout",
          "text": [
            "0\n",
            "given no. is zero\n"
          ]
        }
      ]
    },
    {
      "cell_type": "code",
      "source": [
        "#python program to check the given no. prime or not\n",
        "num=110\n",
        "if i in range(2,num):\n",
        "  if num%i==0:\n",
        "    print(\"given no. is not prime\")\n",
        "  else:\n",
        "    print('given no. is prime number')"
      ],
      "metadata": {
        "colab": {
          "base_uri": "https://localhost:8080/"
        },
        "id": "qIPtM523R3ou",
        "outputId": "e688d6c1-94bf-4c7e-b511-a4c7e09496b9"
      },
      "execution_count": null,
      "outputs": [
        {
          "output_type": "stream",
          "name": "stdout",
          "text": [
            "given no. is not prime\n"
          ]
        }
      ]
    },
    {
      "cell_type": "code",
      "source": [
        "#python program to check given no. is odd or even\n",
        "for i in range(2,10):\n",
        "  if i%2==0:\n",
        "    print(\"given no. is even\")\n",
        "    print(\"pass\")\n",
        "    continue\n",
        "  else:\n",
        "    print(\"given no. is odd\")"
      ],
      "metadata": {
        "colab": {
          "base_uri": "https://localhost:8080/"
        },
        "id": "CcfV-PZuShZH",
        "outputId": "7a8581ab-08aa-4c41-b3b5-f13ce15adc78"
      },
      "execution_count": null,
      "outputs": [
        {
          "output_type": "stream",
          "name": "stdout",
          "text": [
            "given no. is even\n",
            "pass\n",
            "given no. is odd\n",
            "given no. is even\n",
            "pass\n",
            "given no. is odd\n",
            "given no. is even\n",
            "pass\n",
            "given no. is odd\n",
            "given no. is even\n",
            "pass\n",
            "given no. is odd\n"
          ]
        }
      ]
    },
    {
      "cell_type": "code",
      "source": [
        "#python program to check leap year\n",
        "n=2000\n",
        "if (n%4==0) and (n%100!=0):\n",
        "  print(\"given no. is leap year\")\n",
        "elif (n%100==0):\n",
        "  print(\"given year is not leap year\")\n",
        "elif (n%400==0):\n",
        "  print(\"given no. is leap year\")\n"
      ],
      "metadata": {
        "colab": {
          "base_uri": "https://localhost:8080/"
        },
        "id": "rxmnMOQ8UYCa",
        "outputId": "96d3832b-4abe-4577-ce67-9c726e7b9f97"
      },
      "execution_count": null,
      "outputs": [
        {
          "output_type": "stream",
          "name": "stdout",
          "text": [
            "given year is not leap year\n"
          ]
        }
      ]
    },
    {
      "cell_type": "code",
      "source": [
        "#write apython program to find the largest no. from three number\n",
        "a=int(input(\"\"))\n",
        "b=int(input(\"\"))\n",
        "c=int(input(\"\"))\n",
        "if a>b and a>c:\n",
        "  print(\"a is greater\")\n",
        "elif b>c:\n",
        "  print(\"b is greater\")\n",
        "else:\n",
        "  print(\"c id greater\")"
      ],
      "metadata": {
        "colab": {
          "base_uri": "https://localhost:8080/"
        },
        "id": "XuXpaCf3TkxR",
        "outputId": "ecb2b6a3-dad4-4b72-aa51-85d6ffca3ec5"
      },
      "execution_count": null,
      "outputs": [
        {
          "output_type": "stream",
          "name": "stdout",
          "text": [
            "10\n",
            "20\n",
            "30\n",
            "c id greater\n"
          ]
        }
      ]
    },
    {
      "cell_type": "code",
      "source": [
        "#python program to check all prime number from interval\n",
        "lower=int(input(\"\"))\n",
        "upper=int(input(\"\"))\n",
        "for num in range(lower,upper+1):\n",
        "  if num>1:\n",
        "    for i in range(2,num):\n",
        "      if num%i==0:\n",
        "        break\n",
        "        print(\"given no. is not prime\")\n",
        "    else:\n",
        "      print(num)\n"
      ],
      "metadata": {
        "colab": {
          "base_uri": "https://localhost:8080/"
        },
        "id": "IqFrJ_aXXlbb",
        "outputId": "5405f55e-b58f-4484-d8ee-2ea0cfe130a2"
      },
      "execution_count": null,
      "outputs": [
        {
          "output_type": "stream",
          "name": "stdout",
          "text": [
            "2\n",
            "10\n",
            "2\n",
            "3\n",
            "5\n",
            "7\n"
          ]
        }
      ]
    },
    {
      "cell_type": "code",
      "source": [
        "num=11\n",
        "for i in range(2,num):\n",
        "  if num%i==0:\n",
        "    print(\"given is not prime\")\n",
        "    break\n",
        "  else:\n",
        "    print(\"given no. is prime\")"
      ],
      "metadata": {
        "colab": {
          "base_uri": "https://localhost:8080/"
        },
        "id": "1iehzQvRfos2",
        "outputId": "12a5ba63-d9a0-4ad8-801e-99b409340a1d"
      },
      "execution_count": null,
      "outputs": [
        {
          "output_type": "stream",
          "name": "stdout",
          "text": [
            "given no. is prime\n",
            "given no. is prime\n",
            "given no. is prime\n",
            "given no. is prime\n",
            "given no. is prime\n",
            "given no. is prime\n",
            "given no. is prime\n",
            "given no. is prime\n",
            "given no. is prime\n"
          ]
        }
      ]
    },
    {
      "cell_type": "code",
      "source": [
        "#calculate data.info \n",
        "import numpy as np\n",
        "from scipy import stats\n",
        "dataset=[5,5,2,3,4,6,18]\n",
        "#MEAN\n",
        "mean=np.mean(dataset)\n",
        "median=np.median(dataset)\n",
        "mode=stats.mode(dataset)\n",
        "std=np.std(dataset)\n",
        "vr=np.var(dataset)"
      ],
      "metadata": {
        "id": "ZbRS9D2Q3h08"
      },
      "execution_count": 1,
      "outputs": []
    },
    {
      "cell_type": "code",
      "source": [
        "#calling a python function\n",
        "def fun():\n",
        "  print(\"hello world\")\n",
        "fun()"
      ],
      "metadata": {
        "id": "saRfacM65iXM",
        "outputId": "27000a51-5432-43c7-d9d3-ff24120c798c",
        "colab": {
          "base_uri": "https://localhost:8080/"
        }
      },
      "execution_count": 2,
      "outputs": [
        {
          "output_type": "stream",
          "name": "stdout",
          "text": [
            "hello world\n"
          ]
        }
      ]
    },
    {
      "cell_type": "code",
      "source": [
        "def sum(a,b):\n",
        "  return a+b\n",
        "sum(10,20)\n"
      ],
      "metadata": {
        "id": "qNWMvFOz5vDP",
        "outputId": "a3992d43-a87a-4c48-be57-f69b0430ad27",
        "colab": {
          "base_uri": "https://localhost:8080/"
        }
      },
      "execution_count": 3,
      "outputs": [
        {
          "output_type": "execute_result",
          "data": {
            "text/plain": [
              "30"
            ]
          },
          "metadata": {},
          "execution_count": 3
        }
      ]
    },
    {
      "cell_type": "code",
      "source": [],
      "metadata": {
        "id": "bBeqFNOU59e6"
      },
      "execution_count": null,
      "outputs": []
    },
    {
      "cell_type": "code",
      "source": [
        "def sum_dif(a,b):\n",
        "  sum=a+b\n",
        "  dif=a-b\n",
        "  print(\"all ok\")\n",
        "  return sum,dif\n",
        "sum_dif(10,20)\n"
      ],
      "metadata": {
        "id": "fvefyFgZ54oJ",
        "outputId": "a36680dd-78cb-4c64-f794-322e9d808718",
        "colab": {
          "base_uri": "https://localhost:8080/"
        }
      },
      "execution_count": 5,
      "outputs": [
        {
          "output_type": "stream",
          "name": "stdout",
          "text": [
            "all ok\n"
          ]
        },
        {
          "output_type": "execute_result",
          "data": {
            "text/plain": [
              "(30, -10)"
            ]
          },
          "metadata": {},
          "execution_count": 5
        }
      ]
    },
    {
      "cell_type": "code",
      "source": [
        "def multi(a):\n",
        "  return a*a\n",
        "print('value of a is int')\n",
        "multi(10)"
      ],
      "metadata": {
        "id": "ZgWCtPqx6Y7S",
        "outputId": "788c2536-abc2-4d15-99fc-2519ae296382",
        "colab": {
          "base_uri": "https://localhost:8080/"
        }
      },
      "execution_count": 7,
      "outputs": [
        {
          "output_type": "stream",
          "name": "stdout",
          "text": [
            "value of a is int\n"
          ]
        },
        {
          "output_type": "execute_result",
          "data": {
            "text/plain": [
              "100"
            ]
          },
          "metadata": {},
          "execution_count": 7
        }
      ]
    },
    {
      "cell_type": "code",
      "source": [
        "#python program to add two number\n",
        "def sum(num1,num2):\n",
        "  num3=num1+num2\n",
        "  return num3\n",
        "num1=10\n",
        "num2=20\n",
        "sum(num1,num2)\n",
        "\n"
      ],
      "metadata": {
        "id": "SU2ITZdV6tk3",
        "outputId": "bcd079f3-a042-4b5a-f160-130c0b172cce",
        "colab": {
          "base_uri": "https://localhost:8080/"
        }
      },
      "execution_count": 18,
      "outputs": [
        {
          "output_type": "execute_result",
          "data": {
            "text/plain": [
              "30"
            ]
          },
          "metadata": {},
          "execution_count": 18
        }
      ]
    },
    {
      "cell_type": "code",
      "source": [
        "#python program to given function is even or odd\n",
        "def odd_even(n):\n",
        "  n=3\n",
        "  if n%2==0:\n",
        "    print(\"given no. is even\")\n",
        "  else:\n",
        "    print(\"given no. is odd\")\n",
        "odd_even(n)\n"
      ],
      "metadata": {
        "id": "2bys_WsC6SSx",
        "outputId": "a8aea65c-20cd-43e3-e6f5-73966b2826f4",
        "colab": {
          "base_uri": "https://localhost:8080/"
        }
      },
      "execution_count": 31,
      "outputs": [
        {
          "output_type": "stream",
          "name": "stdout",
          "text": [
            "given no. is odd\n"
          ]
        }
      ]
    },
    {
      "cell_type": "code",
      "source": [
        "#default keyword\n",
        "def ass(x,y=10):\n",
        "  print(\"x\",x)\n",
        "  print(\"y\",y)\n",
        "ass(20)\n"
      ],
      "metadata": {
        "id": "vAi7wBVPDLfd",
        "outputId": "9d3bdb14-8344-4f08-c5ca-cacb47b9bdde",
        "colab": {
          "base_uri": "https://localhost:8080/"
        }
      },
      "execution_count": 33,
      "outputs": [
        {
          "output_type": "stream",
          "name": "stdout",
          "text": [
            "x 20\n",
            "y 10\n"
          ]
        }
      ]
    },
    {
      "cell_type": "code",
      "source": [],
      "metadata": {
        "id": "nQ3qP4geGojm"
      },
      "execution_count": null,
      "outputs": []
    }
  ]
}