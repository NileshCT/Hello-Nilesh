{
  "nbformat": 4,
  "nbformat_minor": 0,
  "metadata": {
    "colab": {
      "provenance": [],
      "authorship_tag": "ABX9TyNwTHOyKIeXSZy9EW90rEPK",
      "include_colab_link": true
    },
    "kernelspec": {
      "name": "python3",
      "display_name": "Python 3"
    },
    "language_info": {
      "name": "python"
    }
  },
  "cells": [
    {
      "cell_type": "markdown",
      "metadata": {
        "id": "view-in-github",
        "colab_type": "text"
      },
      "source": [
        "<a href=\"https://colab.research.google.com/github/NileshCT/Hello-Nilesh/blob/main/Untitled18.ipynb\" target=\"_parent\"><img src=\"https://colab.research.google.com/assets/colab-badge.svg\" alt=\"Open In Colab\"/></a>"
      ]
    },
    {
      "cell_type": "code",
      "execution_count": null,
      "metadata": {
        "colab": {
          "base_uri": "https://localhost:8080/"
        },
        "id": "jMEUh2uKqSIk",
        "outputId": "53d0bdd0-6e63-456b-9c09-25f7631ca6d2"
      },
      "outputs": [
        {
          "output_type": "stream",
          "name": "stdout",
          "text": [
            "age12\n",
            "age9\n",
            "age8\n",
            "a is olderest\n"
          ]
        }
      ],
      "source": [
        "##1.program to find oldest age amoung 3 person\n",
        "a=int(input(\"age\"))\n",
        "b=int(input(\"age\"))\n",
        "c=int(input(\"age\"))\n",
        "if a>b and a>c:\n",
        "  print(\"a is olderest\")\n",
        "if b>c and b>a:\n",
        "  print(\"b is oldest\")\n",
        "if c>a and c>b:\n",
        "  print(\"c is oldest\")"
      ]
    },
    {
      "cell_type": "code",
      "source": [
        "a=[10,20,30]"
      ],
      "metadata": {
        "id": "U09BBG90HZoD"
      },
      "execution_count": null,
      "outputs": []
    },
    {
      "cell_type": "code",
      "source": [
        "a=int(input(\"age\"))\n",
        "b=int(input(\"age\"))\n",
        "c=int(input(\"age\"))\n",
        "if a>b and a>c:\n",
        "  print(\"a\")\n",
        "elif b>a and b>c:\n",
        "  print(\"b\")\n",
        "else:\n",
        "  print(\"c\")"
      ],
      "metadata": {
        "colab": {
          "base_uri": "https://localhost:8080/"
        },
        "id": "Xs-nmaRzrLDB",
        "outputId": "126a5068-6c53-467c-ae60-d466ee0c324c"
      },
      "execution_count": null,
      "outputs": [
        {
          "output_type": "stream",
          "name": "stdout",
          "text": [
            "age12\n",
            "age56\n",
            "age34\n",
            "b\n"
          ]
        }
      ]
    },
    {
      "cell_type": "code",
      "source": [
        "a=[10,20,30]\n",
        "b=int(input(\"inter age\"))\n",
        "for i in a:\n",
        "  if i > b:\n",
        "    print(\"age in a is greater\")\n",
        "  else:\n",
        "    print(\"age in b is greater\")"
      ],
      "metadata": {
        "colab": {
          "base_uri": "https://localhost:8080/"
        },
        "id": "yG2NfVgg6rVH",
        "outputId": "deb215a7-4ad3-4248-9118-48a947045aac"
      },
      "execution_count": null,
      "outputs": [
        {
          "output_type": "stream",
          "name": "stdout",
          "text": [
            "inter age23\n",
            "age in b is greater\n",
            "age in b is greater\n",
            "age in a is greater\n"
          ]
        }
      ]
    },
    {
      "cell_type": "code",
      "source": [
        "# program to convert celcious to faraenheat\n",
        "a=int(input(\"\"))\n",
        "b=a*33.8\n",
        "print(b)"
      ],
      "metadata": {
        "colab": {
          "base_uri": "https://localhost:8080/"
        },
        "id": "kfDZ_jfJxKYR",
        "outputId": "da262884-fcfa-479b-aeac-43499b2d8d15"
      },
      "execution_count": null,
      "outputs": [
        {
          "output_type": "stream",
          "name": "stdout",
          "text": [
            "10\n",
            "338.0\n"
          ]
        }
      ]
    },
    {
      "cell_type": "code",
      "source": [
        "a=[10,20,30]\n",
        "for temp in a:\n",
        "  if temp==10:\n",
        "    y=(temp*1.8)+32\n",
        "    print(y)\n",
        "  \n",
        "  if temp==20:\n",
        "    x=(temp*1.8)+32\n",
        "    print(x)\n",
        "    \n",
        "  if temp==30:\n",
        "    z=(temp*1.8)+32\n",
        "    print(z)\n",
        "\n",
        "    "
      ],
      "metadata": {
        "colab": {
          "base_uri": "https://localhost:8080/"
        },
        "id": "_ifvEEEc5TDm",
        "outputId": "8f752115-5fe0-4896-8634-3fc5dbc0e93a"
      },
      "execution_count": null,
      "outputs": [
        {
          "output_type": "stream",
          "name": "stdout",
          "text": [
            "50.0\n",
            "68.0\n",
            "86.0\n"
          ]
        }
      ]
    },
    {
      "cell_type": "code",
      "source": [
        "import numpy as np\n",
        "\n",
        "a=[12,14,151,71,18]\n",
        "\n",
        "cel=np.array(a)\n",
        "print(cel)\n",
        "\n",
        "fer=(cel*1.8)+32\n",
        "print(fer)"
      ],
      "metadata": {
        "colab": {
          "base_uri": "https://localhost:8080/"
        },
        "id": "xSYghvXI-YJG",
        "outputId": "06cbe96d-0349-4039-99fe-2f1dfbcd8606"
      },
      "execution_count": null,
      "outputs": [
        {
          "output_type": "stream",
          "name": "stdout",
          "text": [
            "[ 12  14 151  71  18]\n",
            "[ 53.6  57.2 303.8 159.8  64.4]\n"
          ]
        }
      ]
    },
    {
      "cell_type": "code",
      "source": [
        "#program to find  the vowels from fiven words\n",
        "a=input(\"mention name \")\n",
        "vowels=\"aeiou\"\n",
        "for ele in a:\n",
        "  if ele in vowels:\n",
        "    print(ele) "
      ],
      "metadata": {
        "colab": {
          "base_uri": "https://localhost:8080/"
        },
        "id": "TwlN_xJJIKb_",
        "outputId": "ee16d1f1-8a0d-4a67-8a64-f1cfa5f64894"
      },
      "execution_count": null,
      "outputs": [
        {
          "output_type": "stream",
          "name": "stdout",
          "text": [
            "mention name nil\n",
            "i\n"
          ]
        }
      ]
    },
    {
      "cell_type": "code",
      "source": [],
      "metadata": {
        "id": "ACu8xLL7PMIJ"
      },
      "execution_count": null,
      "outputs": []
    },
    {
      "cell_type": "code",
      "source": [
        "a=input(\"mention name\")\n",
        "vowels='a','i','o','e','u',\n",
        "for ele in a:\n",
        "  if ele in vowels:\n",
        "    print(ele)"
      ],
      "metadata": {
        "colab": {
          "base_uri": "https://localhost:8080/"
        },
        "id": "2mlB5Q9mNemn",
        "outputId": "18d2470f-b889-453f-9d8e-c84d30893a97"
      },
      "execution_count": null,
      "outputs": [
        {
          "output_type": "stream",
          "name": "stdout",
          "text": [
            "mention namenil\n",
            "i\n"
          ]
        }
      ]
    },
    {
      "cell_type": "code",
      "source": [],
      "metadata": {
        "id": "0GwAGJJcNXjg"
      },
      "execution_count": null,
      "outputs": []
    },
    {
      "cell_type": "code",
      "source": [
        "#program to add two numbers\n",
        "a=int(input(\"1st number\"))\n",
        "b=int(input(\"2nd number\"))\n",
        "c=a+b\n",
        "print(\"addition of two number\",c)"
      ],
      "metadata": {
        "colab": {
          "base_uri": "https://localhost:8080/"
        },
        "id": "QwXb9E4bQkWJ",
        "outputId": "2227d3d7-10d1-47e9-e3ad-5515f74adcda"
      },
      "execution_count": null,
      "outputs": [
        {
          "output_type": "stream",
          "name": "stdout",
          "text": [
            "1st number12\n",
            "2nd number10\n",
            "addition of two number 22\n"
          ]
        }
      ]
    },
    {
      "cell_type": "code",
      "source": [
        "a=[12,13,11,10]\n",
        "b=[10,11,23,43]\n",
        "c=a+b\n",
        "print(c)\n",
        "# try this\n",
        "a=[12,13,11,10]\n",
        "b=[10,11,23,43]\n",
        "d=a.append(b)\n",
        "print(d)\n",
        "\n"
      ],
      "metadata": {
        "colab": {
          "base_uri": "https://localhost:8080/"
        },
        "id": "7wDYPcG-Q6Ry",
        "outputId": "e2dcbf6b-7a53-4027-a624-9e9bd3f9d570"
      },
      "execution_count": null,
      "outputs": [
        {
          "output_type": "stream",
          "name": "stdout",
          "text": [
            "[12, 13, 11, 10, 10, 11, 23, 43]\n",
            "None\n"
          ]
        }
      ]
    },
    {
      "cell_type": "code",
      "source": [
        "#program to find greater of two number\n",
        "a=int(input(\"\"))\n",
        "b=int(input(\"\"))\n",
        "if a>b:\n",
        "  print(a)\n",
        "if b>a:\n",
        "  print(\"b is greater\",b)"
      ],
      "metadata": {
        "id": "sKKL02uMT1GI"
      },
      "execution_count": null,
      "outputs": []
    },
    {
      "cell_type": "code",
      "source": [
        "#python program for factorial of number \n",
        "import math\n",
        "a=int(input(\"\"))\n",
        "d=math.factorial(a)\n",
        "print(d)"
      ],
      "metadata": {
        "colab": {
          "base_uri": "https://localhost:8080/"
        },
        "id": "xzfHBqrlRzdR",
        "outputId": "bb12cd92-a1ef-4b22-bc05-10c32c722f62"
      },
      "execution_count": null,
      "outputs": [
        {
          "output_type": "stream",
          "name": "stdout",
          "text": [
            "12\n",
            "479001600\n"
          ]
        }
      ]
    },
    {
      "cell_type": "code",
      "source": [
        "#program to find the simple interest\n",
        "p=int(input(\"\"))\n",
        "r=int(input(\"\"))\n",
        "t=int(input(\"\"))\n",
        "d=(p*r*t)/100\n",
        "print(d)"
      ],
      "metadata": {
        "colab": {
          "base_uri": "https://localhost:8080/"
        },
        "id": "83dZOlOlZsma",
        "outputId": "3eb19c6f-7dd5-476f-b3a5-1b3ccf62df46"
      },
      "execution_count": null,
      "outputs": [
        {
          "output_type": "stream",
          "name": "stdout",
          "text": [
            "10\n",
            "10\n",
            "12\n",
            "12.0\n"
          ]
        }
      ]
    },
    {
      "cell_type": "code",
      "source": [
        "count=1\n",
        "while count<=2:\n",
        "  p=int(input(\"\"))\n",
        "  r=int(input(\"\"))\n",
        "  t=int(input(\"\"))\n",
        "  d=(p*r*t)/100\n",
        "  print(\"si is as :\",d)\n",
        "  break\n",
        "  count+=1"
      ],
      "metadata": {
        "colab": {
          "base_uri": "https://localhost:8080/"
        },
        "id": "u2VwfWm5dudS",
        "outputId": "0aaa7e81-a85e-4b8b-f2bf-783c77e65772"
      },
      "execution_count": null,
      "outputs": [
        {
          "output_type": "stream",
          "name": "stdout",
          "text": [
            "10\n",
            "10\n",
            "12\n",
            "si is as : 12.0\n"
          ]
        }
      ]
    },
    {
      "cell_type": "code",
      "source": [
        "#program to find the compound interest\n",
        "def c_i(p,r,t):\n",
        "  p=int(input(\"\"))\n",
        "  r=int(input(\"\"))\n",
        "  t=int(input(\"\"))\n",
        "amount=p *(pow((1 + r/100),t)) \n",
        "ci=amount-p\n",
        "print(ci)\n"
      ],
      "metadata": {
        "colab": {
          "base_uri": "https://localhost:8080/"
        },
        "id": "ixvYBj_ljmta",
        "outputId": "1fb95bc9-27ea-4fab-9313-5b4228befdff"
      },
      "execution_count": null,
      "outputs": [
        {
          "output_type": "stream",
          "name": "stdout",
          "text": [
            "21.38428376721003\n"
          ]
        }
      ]
    },
    {
      "cell_type": "code",
      "source": [
        "#python program to decide weather given no. is armstrong number or not.\n",
        "n=153\n",
        "sum=0\n",
        "order=len(str(n))\n",
        "copy_n=n\n",
        "while n>0:\n",
        "  digit=n%10\n",
        "  sum=sum+digit**order\n",
        "  n=n//10\n",
        "if (sum==copy_n):\n",
        "  print(\"armstrong number\")\n",
        "else:\n",
        "  print(\"not arm strong number\")"
      ],
      "metadata": {
        "id": "HY3E6fFEo9NU",
        "outputId": "0e3225bd-2437-4699-e4e4-8f93e21c2bd8",
        "colab": {
          "base_uri": "https://localhost:8080/"
        }
      },
      "execution_count": null,
      "outputs": [
        {
          "output_type": "stream",
          "name": "stdout",
          "text": [
            "armstrong number\n"
          ]
        }
      ]
    },
    {
      "cell_type": "code",
      "source": [
        "#program to find area of circle\n",
        "import math\n",
        "math.pi\n",
        "r=int(input(\"\"))\n",
        "a=math.pi * r *r\n",
        "print(\"area of cicle\",a)"
      ],
      "metadata": {
        "id": "QCYheCbbuQxz",
        "outputId": "ec9443be-b8df-44a3-96a4-ffcf69d6bfa6",
        "colab": {
          "base_uri": "https://localhost:8080/"
        }
      },
      "execution_count": null,
      "outputs": [
        {
          "output_type": "stream",
          "name": "stdout",
          "text": [
            "10\n",
            "area of cicle 314.1592653589793\n"
          ]
        }
      ]
    },
    {
      "cell_type": "code",
      "source": [
        "#Python program to print all prime number from the interval\n",
        "n=int(input(\"\"))\n",
        "for i in range(2,n):\n",
        "  if n%i==0:\n",
        "    print(\"notprime\")\n",
        "    break\n",
        "  else:\n",
        "    print(\"prime ahe \")"
      ],
      "metadata": {
        "id": "J0bdhhO-u_Si",
        "outputId": "5259cd97-ec3c-492a-b515-534b2539bb7c",
        "colab": {
          "base_uri": "https://localhost:8080/"
        }
      },
      "execution_count": null,
      "outputs": [
        {
          "output_type": "stream",
          "name": "stdout",
          "text": [
            "6\n",
            "notprime\n"
          ]
        }
      ]
    },
    {
      "cell_type": "code",
      "source": [
        "n=int(input(\"\"))\n",
        "for i in range(2,n):\n",
        "  if n%i==0:\n",
        "    print(\"notprime\")\n",
        "    break\n",
        "  else:\n",
        "    print(\"prime ahe \")"
      ],
      "metadata": {
        "id": "_NBWT94n3mjX",
        "outputId": "46b30139-1704-4e32-e247-04bb93713324",
        "colab": {
          "base_uri": "https://localhost:8080/"
        }
      },
      "execution_count": null,
      "outputs": [
        {
          "output_type": "stream",
          "name": "stdout",
          "text": [
            "5\n",
            "prime ahe \n",
            "prime ahe \n",
            "prime ahe \n"
          ]
        }
      ]
    },
    {
      "cell_type": "code",
      "source": [
        "n=7\n",
        "for i in range(2,n):\n",
        "  if n%i==0:\n",
        "    print(\"not a prime number\")\n",
        "    break\n",
        "else:\n",
        "    print(\"prime number\")"
      ],
      "metadata": {
        "id": "he4TcF8IMKeB",
        "outputId": "3b01c963-1d6c-4ed5-d1a1-b927ec0d33b0",
        "colab": {
          "base_uri": "https://localhost:8080/"
        }
      },
      "execution_count": null,
      "outputs": [
        {
          "output_type": "stream",
          "name": "stdout",
          "text": [
            "prime number\n"
          ]
        }
      ]
    },
    {
      "cell_type": "code",
      "source": [],
      "metadata": {
        "id": "ZEat2CE3kWeC"
      },
      "execution_count": null,
      "outputs": []
    },
    {
      "cell_type": "code",
      "source": [
        "#write a program to check nth fibonasi number\n",
        "def fib(n):\n",
        "    a=0\n",
        "    b=1\n",
        "    print(a)\n",
        "    print(b)\n",
        "    for i in range(2,n):\n",
        "      c=a+b\n",
        "      a=b\n",
        "      b=c\n",
        "      print(c)\n",
        "fib(5)\n"
      ],
      "metadata": {
        "id": "kMfIFxf2NKGE",
        "outputId": "fb969ca4-8bf2-4721-95d1-e7659df94b91",
        "colab": {
          "base_uri": "https://localhost:8080/"
        }
      },
      "execution_count": null,
      "outputs": [
        {
          "output_type": "stream",
          "name": "stdout",
          "text": [
            "0\n",
            "1\n",
            "1\n",
            "2\n",
            "3\n"
          ]
        }
      ]
    },
    {
      "cell_type": "code",
      "source": [
        "#program to find the largest element in the list\n",
        "a=[10,20,30,40]\n",
        "for i in a:\n",
        "  if i>30:\n",
        "    print(\"largest number is :\",i)"
      ],
      "metadata": {
        "id": "AWku-QveJoV6",
        "outputId": "51fed844-4dd1-4343-c442-51fda9fb98fe",
        "colab": {
          "base_uri": "https://localhost:8080/"
        }
      },
      "execution_count": null,
      "outputs": [
        {
          "output_type": "stream",
          "name": "stdout",
          "text": [
            "largest number is : 40\n"
          ]
        }
      ]
    },
    {
      "cell_type": "code",
      "source": [
        "a=[10,20,30,40]\n",
        "i=10\n",
        "while i>10:\n",
        "  i=i+1\n",
        "  print(a)"
      ],
      "metadata": {
        "id": "LWnWJ8q3Kfcm"
      },
      "execution_count": null,
      "outputs": []
    },
    {
      "cell_type": "code",
      "source": [
        "a=[10,20,30,40,50]\n",
        "c=max(a)\n",
        "print(c)"
      ],
      "metadata": {
        "id": "5O-kswLDL6Vc",
        "outputId": "6b9b9fbf-fa65-4028-8f4e-8bcd45aa59a5",
        "colab": {
          "base_uri": "https://localhost:8080/"
        }
      },
      "execution_count": null,
      "outputs": [
        {
          "output_type": "stream",
          "name": "stdout",
          "text": [
            "50\n"
          ]
        }
      ]
    },
    {
      "cell_type": "code",
      "source": [
        "alist=[-45,0,3,10,90,5,-2,4,18,45,100,1,-266,706]\n",
        "largest=alist[0]\n",
        "for large in alist:\n",
        "    if large > largest:\n",
        "        largest=large\n",
        "print(largest)"
      ],
      "metadata": {
        "id": "uFWQW2WZMiG1",
        "outputId": "4785ad59-cb32-43fe-e113-06b395d7e460",
        "colab": {
          "base_uri": "https://localhost:8080/"
        }
      },
      "execution_count": null,
      "outputs": [
        {
          "output_type": "stream",
          "name": "stdout",
          "text": [
            "706\n"
          ]
        }
      ]
    },
    {
      "cell_type": "code",
      "source": [
        "l=[]\n",
        "n=int(input(\"length of list\"))\n",
        "for i in range(1,n+1):\n",
        "  e=int(input(\"element\"))\n",
        "  print(e)\n",
        "  l.append(e)\n",
        "  print(l)\n",
        "l.sort()\n",
        "print(l)\n",
        "print(l[n-1])\n"
      ],
      "metadata": {
        "id": "9YUAlBR5NG5P",
        "outputId": "22a10129-8419-4f5b-9cb8-04ecb149fc83",
        "colab": {
          "base_uri": "https://localhost:8080/"
        }
      },
      "execution_count": null,
      "outputs": [
        {
          "output_type": "stream",
          "name": "stdout",
          "text": [
            "length of list3\n",
            "element1\n",
            "1\n",
            "[1]\n",
            "element3\n",
            "3\n",
            "[1, 3]\n",
            "element2\n",
            "2\n",
            "[1, 3, 2]\n",
            "[1, 2, 3]\n",
            "3\n"
          ]
        }
      ]
    },
    {
      "cell_type": "code",
      "source": [],
      "metadata": {
        "id": "55HI1bcqSFTj"
      },
      "execution_count": null,
      "outputs": []
    },
    {
      "cell_type": "code",
      "source": [
        "#python program to interterchange 1st and last elemt in list\n",
        "a=[10,20,30]\n",
        "print(a)\n",
        "a[0]\n",
        "a[2] \n",
        "a[0],a[2]=a[2],a[0]\n",
        "print(a)\n",
        "\n",
        "\n",
        "\n"
      ],
      "metadata": {
        "id": "fnogMBbpUo7l",
        "outputId": "1f2e70e7-1519-4d8e-8093-8328b7e1fe37",
        "colab": {
          "base_uri": "https://localhost:8080/"
        }
      },
      "execution_count": null,
      "outputs": [
        {
          "output_type": "stream",
          "name": "stdout",
          "text": [
            "[10, 20, 30]\n",
            "[30, 20, 10]\n"
          ]
        }
      ]
    },
    {
      "cell_type": "code",
      "source": [
        "#python program to swap any two number in list\n",
        "a=[10,20,30,40]\n",
        "a[0]\n",
        "a[1]\n",
        "a[0],a[1]=a[1],a[0]\n",
        "print(a)"
      ],
      "metadata": {
        "id": "ISRNRm91cqQP",
        "outputId": "fe7ab36e-e51a-410f-fa0f-1ea595ed027a",
        "colab": {
          "base_uri": "https://localhost:8080/"
        }
      },
      "execution_count": null,
      "outputs": [
        {
          "output_type": "stream",
          "name": "stdout",
          "text": [
            "[20, 10, 30, 40]\n"
          ]
        }
      ]
    },
    {
      "cell_type": "code",
      "source": [
        "#program to find the number occurrance of elemt in list\n",
        "lst=list(input(\"\"))\n",
        "n=input(\" \")\n",
        "for i in lst:\n",
        "  if(n in lst)==True:\n",
        "    print(lst.count(n))\n",
        "    break\n",
        "  else:\n",
        "    print(n,\"no number is found in list\")"
      ],
      "metadata": {
        "id": "1wuwIGdVjkGq",
        "outputId": "f4fbce77-406b-49db-b500-e5128a5a4181",
        "colab": {
          "base_uri": "https://localhost:8080/"
        }
      },
      "execution_count": null,
      "outputs": [
        {
          "output_type": "stream",
          "name": "stdout",
          "text": [
            "1,2,3,4,1\n",
            " 1\n",
            "2\n"
          ]
        }
      ]
    },
    {
      "cell_type": "code",
      "source": [
        "lst=list(input(\"\"))\n",
        "n=int(input(\" \"))\n",
        "for i in lst:\n",
        "  if(n in lst)==True:\n",
        "    print(lst.count(n))\n",
        "    break\n",
        "  else:\n",
        "    print(n,\"no number is found in list\")"
      ],
      "metadata": {
        "id": "G6SMhnfZmPUe",
        "outputId": "9a3633e7-5c03-4cf9-996d-b31de6039c88",
        "colab": {
          "base_uri": "https://localhost:8080/"
        }
      },
      "execution_count": null,
      "outputs": [
        {
          "output_type": "stream",
          "name": "stdout",
          "text": [
            "1,2,3,4,1\n",
            " 1\n",
            "1 no number is found in list\n",
            "1 no number is found in list\n",
            "1 no number is found in list\n",
            "1 no number is found in list\n",
            "1 no number is found in list\n",
            "1 no number is found in list\n",
            "1 no number is found in list\n",
            "1 no number is found in list\n",
            "1 no number is found in list\n"
          ]
        }
      ]
    },
    {
      "cell_type": "code",
      "source": [
        "#program to generate sublist of list\n",
        "s=(\"nilesh thonte\")\n",
        "l=s.split()\n",
        "print(l)\n",
        "\n"
      ],
      "metadata": {
        "id": "Wpac7NPJ3WDj",
        "outputId": "31a25ade-a048-4dcb-a81f-37eef920cd41",
        "colab": {
          "base_uri": "https://localhost:8080/"
        }
      },
      "execution_count": null,
      "outputs": [
        {
          "output_type": "stream",
          "name": "stdout",
          "text": [
            "['nilesh', 'thonte']\n"
          ]
        }
      ]
    },
    {
      "cell_type": "code",
      "source": [
        "#program to checkcommon item from list\n",
        "a=[10,20,30,40]\n",
        "b=[40,30,50,60]\n",
        "print(set(a) & set(b))"
      ],
      "metadata": {
        "id": "e41-YQF58srD",
        "outputId": "dcf09e63-dc93-44f7-fd50-062f40ac8e6e",
        "colab": {
          "base_uri": "https://localhost:8080/"
        }
      },
      "execution_count": null,
      "outputs": [
        {
          "output_type": "stream",
          "name": "stdout",
          "text": [
            "{40, 30}\n"
          ]
        }
      ]
    },
    {
      "cell_type": "code",
      "source": [
        "#program to add three numbers\n",
        "#a=int(input(\"\"))\n",
        "#b=int(input(\"\"))\n",
        "#c=int(input(\"\"))\n",
        "#d=a+b+c\n",
        "#print(d)\n",
        "a=[12,12,12]\n",
        "for i in a:\n",
        "  print(i)\n",
        "d=a[0]+a[1]+a[2]\n",
        "print(d)"
      ],
      "metadata": {
        "id": "ddGjqL_8ksb4",
        "outputId": "e4daf882-2fd4-4918-e973-20d2240f78ce",
        "colab": {
          "base_uri": "https://localhost:8080/"
        }
      },
      "execution_count": null,
      "outputs": [
        {
          "output_type": "stream",
          "name": "stdout",
          "text": [
            "12\n",
            "12\n",
            "12\n",
            "36\n"
          ]
        }
      ]
    },
    {
      "cell_type": "code",
      "source": [
        "num_list=[]\n",
        "number=int(input(\"enter len of range\"))\n",
        "for i in range(1,number+1):\n",
        "    value = int(input(\"Please enter the Value of %d Element : \" %i))\n",
        "num_list.append(value)\n",
        "print(num_list)\n",
        "total=sum(num_list)\n",
        "print(total)\n",
        "\n"
      ],
      "metadata": {
        "id": "J3cVn7ECmUo6",
        "outputId": "0409cb6f-0931-4d3d-db45-ae4b5a506095",
        "colab": {
          "base_uri": "https://localhost:8080/"
        }
      },
      "execution_count": null,
      "outputs": [
        {
          "output_type": "stream",
          "name": "stdout",
          "text": [
            "enter len of range2\n",
            "Please enter the Value of 1 Element : 12\n",
            "Please enter the Value of 2 Element : 89\n",
            "[89]\n",
            "89\n"
          ]
        }
      ]
    },
    {
      "cell_type": "code",
      "source": [
        "#Write a program that will reverse a four digit number.Also it checks\n",
        "#whether the reverse is true\n",
        "a=(\"6565575\")\n",
        "d=a[::-1]\n",
        "print(d)\n",
        "#to check reverse is true\n"
      ],
      "metadata": {
        "id": "ZTORNaz3q19r",
        "outputId": "7c915633-df7f-491f-baf6-e05ac548c5de",
        "colab": {
          "base_uri": "https://localhost:8080/"
        }
      },
      "execution_count": null,
      "outputs": [
        {
          "output_type": "stream",
          "name": "stdout",
          "text": [
            "5755656\n"
          ]
        }
      ]
    },
    {
      "cell_type": "code",
      "source": [
        "#write a program that will tell whether the given year is a leap year\n",
        "#or not.\n",
        "year=int(input(\"enter a yyear\"))\n",
        "\n",
        "if year%4==0 and year%100!=0:\n",
        "  print(year,\"is leap year\")\n",
        "elif year%100:\n",
        "  print(year,\"is not leap year\")\n",
        "elif year%400:\n",
        "  print(year,\"is leap year\")\n",
        "else:\n",
        "  print(\"year is not leap year\")\n"
      ],
      "metadata": {
        "id": "lBdzg-jvtj1r",
        "outputId": "8b748281-9992-4d83-af28-0643db287a70",
        "colab": {
          "base_uri": "https://localhost:8080/"
        }
      },
      "execution_count": null,
      "outputs": [
        {
          "output_type": "stream",
          "name": "stdout",
          "text": [
            "enter a yyear2019\n",
            "2019 is not leap year\n"
          ]
        }
      ]
    },
    {
      "cell_type": "code",
      "source": [
        "#. Write a program to find the euclidean distance between two\n",
        "#coordinates.\n",
        "import numpy as np\n",
        "p1=np.array([1,3])\n",
        "p2=np.array([4,2])\n",
        "d=np.linalg.norm(p2-p1)\n",
        "print(d)"
      ],
      "metadata": {
        "id": "TAGn7nxgyYRo",
        "outputId": "2c34e363-277d-41e2-cdb8-77e856943e89",
        "colab": {
          "base_uri": "https://localhost:8080/"
        }
      },
      "execution_count": null,
      "outputs": [
        {
          "output_type": "stream",
          "name": "stdout",
          "text": [
            "3.1622776601683795\n"
          ]
        }
      ]
    },
    {
      "cell_type": "code",
      "source": [
        "#Write a program that take a user inputr of three angles and will\n",
        "#find out whether it can form a triangle or not.\n",
        "a=int(input(\"\"))\n",
        "b=int(input(\"\"))\n",
        "c=int(input(\"\"))\n",
        "d=a+b+c\n",
        "if d==180:\n",
        "  print(\"valid to form a triangle\")\n",
        "else:\n",
        "  print(\"not valid to form triangle\")\n"
      ],
      "metadata": {
        "id": "DvaDxgex3Wxz",
        "outputId": "028e4d9d-780e-4bec-f069-a0020e022c52",
        "colab": {
          "base_uri": "https://localhost:8080/"
        }
      },
      "execution_count": null,
      "outputs": [
        {
          "output_type": "stream",
          "name": "stdout",
          "text": [
            "100\n",
            "40\n",
            "40\n",
            "valid to form a triangle\n"
          ]
        }
      ]
    },
    {
      "cell_type": "code",
      "source": [
        "def Valid(a, b, c):\n",
        "  if((a+b+c==180) and a!=0 and b!=0 and c!=0):\n",
        "    return True\n",
        "  else:\n",
        "    return False\n",
        "if __name__ == \"__main__\":\n",
        "  a=int(input(\"\"))\n",
        "  b=int(input(\"\"))\n",
        "  c=int(input(\"\"))  \n",
        "  if(Valid(a,b,c)):\n",
        "    print(\"Valid\")\n",
        "  else:\n",
        "    print(\"invalid\")"
      ],
      "metadata": {
        "id": "bqMzg9MV6kzM",
        "outputId": "fdf2e420-c50a-488a-ce98-04e7f4509cb6",
        "colab": {
          "base_uri": "https://localhost:8080/"
        }
      },
      "execution_count": null,
      "outputs": [
        {
          "output_type": "stream",
          "name": "stdout",
          "text": [
            "100\n",
            "20\n",
            "39\n",
            "invalid\n"
          ]
        }
      ]
    },
    {
      "cell_type": "code",
      "source": [
        "#10. Write a program that will take user input of cost price and selling\n",
        "#price and determines whether its a loss or a profit\n",
        "cp=int(input(\"\"))\n",
        "sp=int(input(\"\"))\n",
        "profit=sp-cp\n",
        "print(profit)\n"
      ],
      "metadata": {
        "id": "ZJ0LkfrQCUVU",
        "outputId": "e98df016-7a46-4997-9c95-d66c14b89d29",
        "colab": {
          "base_uri": "https://localhost:8080/"
        }
      },
      "execution_count": null,
      "outputs": [
        {
          "output_type": "stream",
          "name": "stdout",
          "text": [
            "20\n",
            "30\n",
            "10\n"
          ]
        }
      ]
    },
    {
      "cell_type": "code",
      "source": [
        "def profit(cp,sp):\n",
        "  profit=(sp-cp)\n",
        "  return profit\n",
        "def loss(cp,sp):\n",
        "  loss=(cp-sp)\n",
        "  return loss\n",
        "if __name__==\"__main__\":\n",
        "  cp=1200\n",
        "  sp=2000\n",
        "  if(sp==cp):\n",
        "    print(\"no p and l\")\n",
        "  elif sp>cp:\n",
        "    print((profit(cp,sp),\"profit\"))\n",
        "  else:\n",
        "    print(loss(cp,sp),\"loss\")\n"
      ],
      "metadata": {
        "id": "JYoVgq6_F4aD",
        "outputId": "09402ca9-9b16-45e9-cd53-a8170b864d72",
        "colab": {
          "base_uri": "https://localhost:8080/"
        }
      },
      "execution_count": null,
      "outputs": [
        {
          "output_type": "stream",
          "name": "stdout",
          "text": [
            "(800, 'profit')\n"
          ]
        }
      ]
    },
    {
      "cell_type": "code",
      "source": [
        "#python program to find the volume of cyclinder \n",
        "import math\n",
        "math.pi\n",
        "r=int(input(\"mention radius\"))\n",
        "h=int(input(\"mention height\"))\n",
        "v=3.14*pow(r,2)*h\n",
        "print(v)\n",
        "# calculate the cost\n",
        "total_cost=v*40\n",
        "print(total_cost)"
      ],
      "metadata": {
        "colab": {
          "base_uri": "https://localhost:8080/"
        },
        "id": "E9j7t_EwWNHK",
        "outputId": "1ac0aa5e-390b-4aa5-d7bc-0f97fd988dcf"
      },
      "execution_count": null,
      "outputs": [
        {
          "output_type": "stream",
          "name": "stdout",
          "text": [
            "mention radius1\n",
            "mention height1\n",
            "3.14\n",
            "125.60000000000001\n"
          ]
        }
      ]
    },
    {
      "cell_type": "code",
      "source": [
        "#python program to calculate si with input value are given in program\n",
        "p=1000\n",
        "r=20\n",
        "t=3\n",
        "si=p*r*t/100\n",
        "print(si)"
      ],
      "metadata": {
        "colab": {
          "base_uri": "https://localhost:8080/"
        },
        "id": "tTVR9pvXXF1Z",
        "outputId": "74904024-f2ba-427a-d394-754b65bea63b"
      },
      "execution_count": null,
      "outputs": [
        {
          "output_type": "stream",
          "name": "stdout",
          "text": [
            "600.0\n"
          ]
        }
      ]
    },
    {
      "cell_type": "code",
      "source": [
        "#. Write a program that will tell whether the given number is divisible\n",
        "#by 3 & 6.\n",
        "a=int(input(\"\"))\n",
        "if a%3==0 and a%6==0:\n",
        "  print(\"number is ok\")\n",
        "else:\n",
        "  print(\"no. is not ok\")"
      ],
      "metadata": {
        "colab": {
          "base_uri": "https://localhost:8080/"
        },
        "id": "TNA8jvfuYDCx",
        "outputId": "7b66af57-8a14-45bb-be35-624ccc86f8f9"
      },
      "execution_count": null,
      "outputs": [
        {
          "output_type": "stream",
          "name": "stdout",
          "text": [
            "15\n",
            "no. is not ok\n"
          ]
        }
      ]
    },
    {
      "cell_type": "code",
      "source": [
        "#Write a program that will take three digits from the user and add\n",
        "#the square of each digit.\n",
        "a=int(input(\"\"))\n",
        "b=int(input(\"\"))\n",
        "c=int(input(\"\"))\n",
        "d=pow(a,2)\n",
        "e=pow(b,2)\n",
        "f=pow(c,2)\n",
        "g=d+e+f\n",
        "print(g)"
      ],
      "metadata": {
        "colab": {
          "base_uri": "https://localhost:8080/"
        },
        "id": "UqRQgXN2iUAW",
        "outputId": "2b3c83e4-16ce-4bdb-b0ef-e43ce4fccba9"
      },
      "execution_count": null,
      "outputs": [
        {
          "output_type": "stream",
          "name": "stdout",
          "text": [
            "10\n",
            "10\n",
            "10\n",
            "300\n"
          ]
        }
      ]
    },
    {
      "cell_type": "code",
      "source": [
        "# to check the given no. is armstrong or not\n",
        "a=int(input(\"\"))\n",
        "sum=0\n",
        "order=len(str(a))\n",
        "n_pow=a\n",
        "while a>0:\n",
        "  digit=a%10\n",
        "  sum+=digit**order\n",
        "  a=a//10\n",
        "if (sum==n_pow):\n",
        "  print(\"arm\")\n",
        "else:\n",
        "  print(\"not arm\")"
      ],
      "metadata": {
        "colab": {
          "base_uri": "https://localhost:8080/"
        },
        "id": "Oov6mcx7lM61",
        "outputId": "080d9b3f-e71f-43c1-b0e2-55ca54ae777b"
      },
      "execution_count": null,
      "outputs": [
        {
          "output_type": "stream",
          "name": "stdout",
          "text": [
            "153\n",
            "arm\n"
          ]
        }
      ]
    },
    {
      "cell_type": "code",
      "source": [
        "#. Write a program that will take user input of (4 digits number) and\n",
        "#check whether the number is narcissist number or not\n",
        "a=int(input(\"\"))\n",
        "sum=0\n",
        "order=len(str(a))\n",
        "npow=a\n",
        "while a>0:\n",
        "  digit=a%10\n",
        "  sum+=digit**order\n",
        "  a=a//10\n",
        "if(sum==npow):\n",
        "    print(\"narcissist\")\n",
        "else:\n",
        "    print(\"not\")\n"
      ],
      "metadata": {
        "colab": {
          "base_uri": "https://localhost:8080/"
        },
        "id": "4yydn-rDnZ6M",
        "outputId": "01f01dec-8f0c-4a20-af28-0ffda9713459"
      },
      "execution_count": null,
      "outputs": [
        {
          "output_type": "stream",
          "name": "stdout",
          "text": [
            "153\n",
            "narcissist\n"
          ]
        }
      ]
    },
    {
      "cell_type": "code",
      "source": [
        "#Write a program that will give you the in hand salary after\n",
        "#deduction of HRA(10%),DA(5%),PF(3%), and tax(if salary is between\n",
        "#5-10 lakh–10%),(11-20lakh–20%),(20< _ – 30%)(0-1lakh print k).\n",
        "\n",
        " \n",
        "def gross_sal(basic,grade):\n",
        "  hra=0.10 * basic\n",
        "  da=0.05 * basic\n",
        "  pf=0.03 * basic\n",
        "if grade =='A':\n",
        "  allowance=1400\n",
        "elif grade =='B':\n",
        "  allowance=1200\n",
        "else:\n",
        "  allowance=1000\n",
        "gross=round (basic+hra+da+allowance-pf)\n",
        "return gross\n",
        "if __name__==\"__main__\":\n",
        "  basic=1000\n",
        "  grade=\"a\"\n",
        "print(gross_sal(basic,grade))\n",
        "\n"
      ],
      "metadata": {
        "id": "F1GQ6bu1wVbR",
        "outputId": "51523e10-6545-40e0-e91c-eebed004d3c5",
        "colab": {
          "base_uri": "https://localhost:8080/",
          "height": 236
        }
      },
      "execution_count": null,
      "outputs": [
        {
          "output_type": "error",
          "ename": "NameError",
          "evalue": "ignored",
          "traceback": [
            "\u001b[0;31m---------------------------------------------------------------------------\u001b[0m",
            "\u001b[0;31mNameError\u001b[0m                                 Traceback (most recent call last)",
            "\u001b[0;32m<ipython-input-10-4b357373fdce>\u001b[0m in \u001b[0;36m<module>\u001b[0;34m\u001b[0m\n\u001b[1;32m      8\u001b[0m   \u001b[0mda\u001b[0m\u001b[0;34m=\u001b[0m\u001b[0;36m0.05\u001b[0m \u001b[0;34m*\u001b[0m \u001b[0mbasic\u001b[0m\u001b[0;34m\u001b[0m\u001b[0;34m\u001b[0m\u001b[0m\n\u001b[1;32m      9\u001b[0m   \u001b[0mpf\u001b[0m\u001b[0;34m=\u001b[0m\u001b[0;36m0.03\u001b[0m \u001b[0;34m*\u001b[0m \u001b[0mbasic\u001b[0m\u001b[0;34m\u001b[0m\u001b[0;34m\u001b[0m\u001b[0m\n\u001b[0;32m---> 10\u001b[0;31m \u001b[0;32mif\u001b[0m \u001b[0mgrade\u001b[0m \u001b[0;34m==\u001b[0m\u001b[0;34m'A'\u001b[0m\u001b[0;34m:\u001b[0m\u001b[0;34m\u001b[0m\u001b[0;34m\u001b[0m\u001b[0m\n\u001b[0m\u001b[1;32m     11\u001b[0m   \u001b[0mallowance\u001b[0m\u001b[0;34m=\u001b[0m\u001b[0;36m1400\u001b[0m\u001b[0;34m\u001b[0m\u001b[0;34m\u001b[0m\u001b[0m\n\u001b[1;32m     12\u001b[0m \u001b[0;32melif\u001b[0m \u001b[0mgrade\u001b[0m \u001b[0;34m==\u001b[0m\u001b[0;34m'B'\u001b[0m\u001b[0;34m:\u001b[0m\u001b[0;34m\u001b[0m\u001b[0;34m\u001b[0m\u001b[0m\n",
            "\u001b[0;31mNameError\u001b[0m: name 'grade' is not defined"
          ]
        }
      ]
    },
    {
      "cell_type": "code",
      "source": [
        "#Write a program that will tell the number of dogs and chicken are\n",
        "#there when the user will provide the value of total heads and legs.\n",
        "total_head=int(input(\"\"))\n",
        "total_legs=int(input(\"\"))\n",
        "if total_legs < total_head or total_legs==0 or total_legs % 2!=0:\n",
        "  print(\"invalid input\")\n",
        "else:\n",
        "  rabbits=(total_legs-(2 * total_head))/2\n",
        "  chicken=total_head - rabbits\n",
        "  print(\"no. of rabbits\"+str(rabbits))\n",
        "  print(\"no. of chicken\"+str(chicken))"
      ],
      "metadata": {
        "id": "xdWCLD-zK784",
        "outputId": "24e7f2ce-644d-4ace-8def-387703cfc5cc",
        "colab": {
          "base_uri": "https://localhost:8080/"
        }
      },
      "execution_count": null,
      "outputs": [
        {
          "output_type": "stream",
          "name": "stdout",
          "text": [
            "35\n",
            "94\n",
            "no. of rabbits12.0\n",
            "no. of chicken23.0\n"
          ]
        }
      ]
    },
    {
      "cell_type": "code",
      "source": [
        "#.Write a program that will swap numbers\n",
        "a=10\n",
        "b=34\n",
        "print(a)\n",
        "print(b)\n",
        "a,b = b,a\n",
        "print(a)\n",
        "print(b)"
      ],
      "metadata": {
        "id": "aNzwNIOINsj2",
        "outputId": "84ea9e33-1ac8-475d-a170-c37a183ad74a",
        "colab": {
          "base_uri": "https://localhost:8080/"
        }
      },
      "execution_count": null,
      "outputs": [
        {
          "output_type": "stream",
          "name": "stdout",
          "text": [
            "10\n",
            "34\n",
            "34\n",
            "10\n"
          ]
        }
      ]
    },
    {
      "cell_type": "code",
      "source": [
        "#write a program to find the sum of first n numbers, where n will be\n",
        "#provided by the user. Eg if the user provides n=10 the output should be\n",
        "#55.\n",
        "def findsum(n):\n",
        "  sum=0\n",
        "  x=1\n",
        "  while x<=n:\n",
        "    print(x)\n",
        "    sum+=x\n",
        "    x+=1\n",
        "  return sum\n",
        "n=10\n",
        "print(findsum(n))\n"
      ],
      "metadata": {
        "id": "jJzjNvxjPggu",
        "outputId": "5937627c-d511-430f-fce3-faacdb1e52f5",
        "colab": {
          "base_uri": "https://localhost:8080/"
        }
      },
      "execution_count": null,
      "outputs": [
        {
          "output_type": "stream",
          "name": "stdout",
          "text": [
            "1\n",
            "2\n",
            "3\n",
            "4\n",
            "5\n",
            "6\n",
            "7\n",
            "8\n",
            "9\n",
            "10\n",
            "55\n",
            "10\n",
            "1 11\n"
          ]
        }
      ]
    },
    {
      "cell_type": "code",
      "source": [
        "#write a program to find the sum of first n numbers, where n will be\n",
        "#provided by the user. Eg if the user provides n=10 the output should be\n",
        "#55.\n",
        "n=[1,2,3,4,5,6,7,8,9,10]\n",
        "sum=0\n",
        "i=0\n",
        "for i in n:\n",
        "  sum=sum+i\n",
        "i=i+1\n",
        "print(sum)\n",
        "print(i)\n"
      ],
      "metadata": {
        "colab": {
          "base_uri": "https://localhost:8080/"
        },
        "id": "tjgGKMkvNkRs",
        "outputId": "6c7a5e62-743f-41a9-9709-693010632db3"
      },
      "execution_count": null,
      "outputs": [
        {
          "output_type": "stream",
          "name": "stdout",
          "text": [
            "55\n",
            "11\n"
          ]
        }
      ]
    },
    {
      "cell_type": "code",
      "source": [
        "#python program to sum of sq of n natural number\n",
        "def sumsq(n):\n",
        "  sm=0\n",
        "  for i in range(1,n+1):\n",
        "    sm=sm+(i*i)\n",
        "    print(sm)\n",
        "  return sm\n",
        "n=3\n",
        "print(sumsq(n))\n"
      ],
      "metadata": {
        "id": "u8US1DLnUpEE",
        "outputId": "143a6b1a-38a3-4a8c-a1cd-8573c0451b33",
        "colab": {
          "base_uri": "https://localhost:8080/"
        }
      },
      "execution_count": null,
      "outputs": [
        {
          "output_type": "stream",
          "name": "stdout",
          "text": [
            "1\n",
            "5\n",
            "14\n",
            "14\n"
          ]
        }
      ]
    },
    {
      "cell_type": "code",
      "source": [
        "#25.Write a program that can multiply 2 numbers provided by the user\n",
        "#without using the * operator\n",
        "import math\n",
        "n=[10,2]\n",
        "product=math.prod(n)\n",
        "print(product)"
      ],
      "metadata": {
        "id": "656LMHoLR1Ot",
        "outputId": "0170fb6f-a02f-4eda-e685-52995ea189c9",
        "colab": {
          "base_uri": "https://localhost:8080/"
        }
      },
      "execution_count": null,
      "outputs": [
        {
          "output_type": "stream",
          "name": "stdout",
          "text": [
            "20\n"
          ]
        }
      ]
    },
    {
      "cell_type": "code",
      "source": [
        "import numpy\n",
        "n1=10\n",
        "n2=10\n",
        "c=numpy.prod(n1)\n",
        "print(c)\n"
      ],
      "metadata": {
        "id": "FoEXI5wBUu77",
        "outputId": "bdebabdc-1434-422f-ba65-4d4b7defcd4f",
        "colab": {
          "base_uri": "https://localhost:8080/"
        }
      },
      "execution_count": null,
      "outputs": [
        {
          "output_type": "stream",
          "name": "stdout",
          "text": [
            "10\n"
          ]
        }
      ]
    },
    {
      "cell_type": "code",
      "source": [
        "#26.Write a program that can find the factorial of a given number provided\n",
        "#by the user.\n",
        "n=5\n",
        "fact=1\n",
        "for i in range(1,n+1):\n",
        "  fact=fact*i\n",
        "  print(fact)"
      ],
      "metadata": {
        "id": "BvqijxVHWY5C",
        "outputId": "d597a963-21d0-4ff2-d085-bc636cf76afd",
        "colab": {
          "base_uri": "https://localhost:8080/"
        }
      },
      "execution_count": null,
      "outputs": [
        {
          "output_type": "stream",
          "name": "stdout",
          "text": [
            "1\n",
            "2\n",
            "6\n",
            "24\n",
            "120\n"
          ]
        }
      ]
    },
    {
      "cell_type": "code",
      "source": [
        "import math\n",
        "print(\"factorial of 5 is \", end=\"\")\n",
        "print(math.factorial(5))"
      ],
      "metadata": {
        "id": "8NT0jK1Pa6JZ",
        "outputId": "ed38f567-58f4-4bb6-86b5-14666797866d",
        "colab": {
          "base_uri": "https://localhost:8080/"
        }
      },
      "execution_count": null,
      "outputs": [
        {
          "output_type": "stream",
          "name": "stdout",
          "text": [
            "factorial of 5 is 120\n"
          ]
        }
      ]
    },
    {
      "cell_type": "code",
      "source": [
        "def factorial (n=5):\n",
        "  fact=1\n",
        "  while n>=1:\n",
        "    fact=fact*n\n",
        "    n=n-1\n",
        "  return fact"
      ],
      "metadata": {
        "id": "B7HYiixNbURi"
      },
      "execution_count": null,
      "outputs": []
    },
    {
      "cell_type": "code",
      "source": [
        "f= factorial()\n",
        "print(f)"
      ],
      "metadata": {
        "id": "Ch0FpkOKdpbB",
        "outputId": "69d8e5bc-0d16-421b-93c5-8302ab852154",
        "colab": {
          "base_uri": "https://localhost:8080/"
        }
      },
      "execution_count": null,
      "outputs": [
        {
          "output_type": "stream",
          "name": "stdout",
          "text": [
            "120\n"
          ]
        }
      ]
    },
    {
      "cell_type": "code",
      "source": [
        "#python program to find the number of digits in number\n",
        "a=2345\n",
        "print(a)\n",
        "digit=0\n",
        "digit=a//10\n",
        "print(digit)\n",
        "b=digit//10\n",
        "print(b)\n",
        "d=b//10\n",
        "print(d)\n",
        "c=d//10\n",
        "print(c)"
      ],
      "metadata": {
        "id": "6mXMTptb4bWa",
        "outputId": "b11536d2-8ae6-4881-a034-77e5c3bf5737",
        "colab": {
          "base_uri": "https://localhost:8080/"
        }
      },
      "execution_count": null,
      "outputs": [
        {
          "output_type": "stream",
          "name": "stdout",
          "text": [
            "2345\n",
            "234\n",
            "23\n",
            "2\n",
            "0\n"
          ]
        }
      ]
    },
    {
      "cell_type": "code",
      "source": [
        "number=int(input(\"given number is\"))\n",
        "count=0\n",
        "while number>0:\n",
        "  count+=1\n",
        "  number=int(number/10)\n",
        "print(count)\n"
      ],
      "metadata": {
        "id": "Sv6CU3gH6PWl",
        "outputId": "4062ee8b-5ed8-4eab-c2ea-addf422d6363",
        "colab": {
          "base_uri": "https://localhost:8080/"
        }
      },
      "execution_count": null,
      "outputs": [
        {
          "output_type": "stream",
          "name": "stdout",
          "text": [
            "given number is456\n",
            "3\n"
          ]
        }
      ]
    },
    {
      "cell_type": "code",
      "source": [
        "#.Print all factors of a given number provided by the user.\n",
        "number=int(input(\"enter a number\"))\n",
        "l=[]\n",
        "for i in range(1,number+1):\n",
        "  if number%i==0:\n",
        "    l.append(i)\n",
        "print(l)\n",
        "  \n"
      ],
      "metadata": {
        "id": "ykp62FG27eXe",
        "outputId": "39daaccd-8982-43da-f7aa-9f55c66bd69b",
        "colab": {
          "base_uri": "https://localhost:8080/"
        }
      },
      "execution_count": null,
      "outputs": [
        {
          "output_type": "stream",
          "name": "stdout",
          "text": [
            "enter a number36\n",
            "[1, 2, 3, 4, 6, 9, 12, 18, 36]\n"
          ]
        }
      ]
    },
    {
      "cell_type": "code",
      "source": [
        "#. Find the reverse of a number provided by the user(any number of digit)\n",
        "\n",
        "n=int(input(\"\"))\n",
        "rev=0\n",
        "while (n>0):\n",
        "  dig=n%10\n",
        "  rev=rev*10+dig\n",
        "  n=n//10\n",
        "  print(\"rev of number\",rev)"
      ],
      "metadata": {
        "id": "GgNOnWVGDYHZ",
        "outputId": "c8c4ca34-92b8-4239-b3e5-ab0084ccc7f4",
        "colab": {
          "base_uri": "https://localhost:8080/"
        }
      },
      "execution_count": 1,
      "outputs": [
        {
          "output_type": "stream",
          "name": "stdout",
          "text": [
            "123\n",
            "rev of number 3\n",
            "rev of number 32\n",
            "rev of number 321\n"
          ]
        }
      ]
    },
    {
      "cell_type": "code",
      "source": [
        "#Write a program to print the following pattern\n",
        "# a program to print the following pattern\n",
        "# *\n",
        "# **\n",
        "# ***\n",
        "# ****\n",
        "# *****\n",
        "row=int(input(\"enter a row\"))\n",
        "for i in range(0,row):\n",
        "  for j in range(0,i+1):\n",
        "    print(\"*\",end=\"\")\n",
        "  print(\"\")"
      ],
      "metadata": {
        "id": "awsYWdSYCXvi",
        "outputId": "041b700a-d7f4-4395-d666-b05a9d66a2db",
        "colab": {
          "base_uri": "https://localhost:8080/"
        }
      },
      "execution_count": 9,
      "outputs": [
        {
          "output_type": "stream",
          "name": "stdout",
          "text": [
            "enter a row5\n",
            "*\n",
            "**\n",
            "***\n",
            "****\n",
            "*****\n"
          ]
        }
      ]
    },
    {
      "cell_type": "code",
      "source": [
        "#Write a program to print the following pattern\n",
        "# *\n",
        "# **\n",
        "# ***\n",
        "# **\n",
        "# *\n",
        "row=int(input(\"\"))\n",
        "for i in range(row):\n",
        "  for j in range(i+1):\n",
        "    print(\"*\",end=\"\")\n",
        "  print(\"\")\n",
        "for i in range(row):\n",
        "  for j in range(row-i-1):\n",
        "    print(\"*\",end=\"\")\n",
        "  print(\"\")\n",
        "\n"
      ],
      "metadata": {
        "id": "5fm0aiW5H7Wi",
        "outputId": "f23a2363-b5e4-4de5-d4e6-b04f92a235b2",
        "colab": {
          "base_uri": "https://localhost:8080/"
        }
      },
      "execution_count": 29,
      "outputs": [
        {
          "output_type": "stream",
          "name": "stdout",
          "text": [
            "5\n",
            "*\n",
            "**\n",
            "***\n",
            "****\n",
            "*****\n",
            "****\n",
            "***\n",
            "**\n",
            "*\n",
            "\n"
          ]
        }
      ]
    },
    {
      "cell_type": "code",
      "source": [
        "#.Write a program to print the following pattern\n",
        "           \n",
        "# *\n",
        "# * * *\n",
        "# * * * * *\n",
        "# * * * * * * *\n",
        "# * * * * * * * * *"
      ],
      "metadata": {
        "id": "_YViFTl1NEzK"
      },
      "execution_count": null,
      "outputs": []
    },
    {
      "cell_type": "code",
      "source": [
        "row=int(input(\"\"))\n",
        "for i in range(row):\n",
        "  for j in range(0,i+1):\n",
        "    print(\"* \",end=\"\")\n",
        "  print(\"\")"
      ],
      "metadata": {
        "id": "4cxnqHJRNRyh",
        "outputId": "5c9a3c10-54f7-4dc4-c7f9-ef4af7a58d8b",
        "colab": {
          "base_uri": "https://localhost:8080/"
        }
      },
      "execution_count": 33,
      "outputs": [
        {
          "output_type": "stream",
          "name": "stdout",
          "text": [
            "5\n",
            "* \n",
            "* * \n",
            "* * * \n",
            "* * * * \n",
            "* * * * * \n"
          ]
        }
      ]
    },
    {
      "cell_type": "code",
      "source": [
        "row=int(input(\"\"))\n",
        "for i in range(row):\n",
        "  for j in range(i+1):\n",
        "    print(\"\",end=\"\")\n",
        "  print(\"\")\n",
        "  for k in range(2*i+1):\n",
        "    print(k+1,end=\"\")\n",
        "  print(\"\")"
      ],
      "metadata": {
        "id": "mRbPVi1STIZj"
      },
      "execution_count": null,
      "outputs": []
    }
  ]
}