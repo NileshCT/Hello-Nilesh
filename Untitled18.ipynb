{
  "nbformat": 4,
  "nbformat_minor": 0,
  "metadata": {
    "colab": {
      "provenance": [],
      "authorship_tag": "ABX9TyOyOWfkJ/ELPPHD4mcFbEQq",
      "include_colab_link": true
    },
    "kernelspec": {
      "name": "python3",
      "display_name": "Python 3"
    },
    "language_info": {
      "name": "python"
    }
  },
  "cells": [
    {
      "cell_type": "markdown",
      "metadata": {
        "id": "view-in-github",
        "colab_type": "text"
      },
      "source": [
        "<a href=\"https://colab.research.google.com/github/NileshCT/Hello-Nilesh/blob/main/Untitled18.ipynb\" target=\"_parent\"><img src=\"https://colab.research.google.com/assets/colab-badge.svg\" alt=\"Open In Colab\"/></a>"
      ]
    },
    {
      "cell_type": "code",
      "execution_count": null,
      "metadata": {
        "colab": {
          "base_uri": "https://localhost:8080/"
        },
        "id": "jMEUh2uKqSIk",
        "outputId": "53d0bdd0-6e63-456b-9c09-25f7631ca6d2"
      },
      "outputs": [
        {
          "output_type": "stream",
          "name": "stdout",
          "text": [
            "age12\n",
            "age9\n",
            "age8\n",
            "a is olderest\n"
          ]
        }
      ],
      "source": [
        "##1.program to find oldest age amoung 3 person\n",
        "a=int(input(\"age\"))\n",
        "b=int(input(\"age\"))\n",
        "c=int(input(\"age\"))\n",
        "if a>b and a>c:\n",
        "  print(\"a is olderest\")\n",
        "if b>c and b>a:\n",
        "  print(\"b is oldest\")\n",
        "if c>a and c>b:\n",
        "  print(\"c is oldest\")"
      ]
    },
    {
      "cell_type": "code",
      "source": [
        "a=[10,20,30]"
      ],
      "metadata": {
        "id": "U09BBG90HZoD"
      },
      "execution_count": null,
      "outputs": []
    },
    {
      "cell_type": "code",
      "source": [
        "a=int(input(\"age\"))\n",
        "b=int(input(\"age\"))\n",
        "c=int(input(\"age\"))\n",
        "if a>b and a>c:\n",
        "  print(\"a\")\n",
        "elif b>a and b>c:\n",
        "  print(\"b\")\n",
        "else:\n",
        "  print(\"c\")"
      ],
      "metadata": {
        "colab": {
          "base_uri": "https://localhost:8080/"
        },
        "id": "Xs-nmaRzrLDB",
        "outputId": "126a5068-6c53-467c-ae60-d466ee0c324c"
      },
      "execution_count": null,
      "outputs": [
        {
          "output_type": "stream",
          "name": "stdout",
          "text": [
            "age12\n",
            "age56\n",
            "age34\n",
            "b\n"
          ]
        }
      ]
    },
    {
      "cell_type": "code",
      "source": [
        "a=[10,20,30]\n",
        "b=int(input(\"inter age\"))\n",
        "for i in a:\n",
        "  if i > b:\n",
        "    print(\"age in a is greater\")\n",
        "  else:\n",
        "    print(\"age in b is greater\")"
      ],
      "metadata": {
        "colab": {
          "base_uri": "https://localhost:8080/"
        },
        "id": "yG2NfVgg6rVH",
        "outputId": "deb215a7-4ad3-4248-9118-48a947045aac"
      },
      "execution_count": null,
      "outputs": [
        {
          "output_type": "stream",
          "name": "stdout",
          "text": [
            "inter age23\n",
            "age in b is greater\n",
            "age in b is greater\n",
            "age in a is greater\n"
          ]
        }
      ]
    },
    {
      "cell_type": "code",
      "source": [
        "# program to convert celcious to faraenheat\n",
        "a=int(input(\"\"))\n",
        "b=a*33.8\n",
        "print(b)"
      ],
      "metadata": {
        "colab": {
          "base_uri": "https://localhost:8080/"
        },
        "id": "kfDZ_jfJxKYR",
        "outputId": "da262884-fcfa-479b-aeac-43499b2d8d15"
      },
      "execution_count": null,
      "outputs": [
        {
          "output_type": "stream",
          "name": "stdout",
          "text": [
            "10\n",
            "338.0\n"
          ]
        }
      ]
    },
    {
      "cell_type": "code",
      "source": [
        "a=[10,20,30]\n",
        "for temp in a:\n",
        "  if temp==10:\n",
        "    y=(temp*1.8)+32\n",
        "    print(y)\n",
        "  \n",
        "  if temp==20:\n",
        "    x=(temp*1.8)+32\n",
        "    print(x)\n",
        "    \n",
        "  if temp==30:\n",
        "    z=(temp*1.8)+32\n",
        "    print(z)\n",
        "\n",
        "    "
      ],
      "metadata": {
        "colab": {
          "base_uri": "https://localhost:8080/"
        },
        "id": "_ifvEEEc5TDm",
        "outputId": "8f752115-5fe0-4896-8634-3fc5dbc0e93a"
      },
      "execution_count": null,
      "outputs": [
        {
          "output_type": "stream",
          "name": "stdout",
          "text": [
            "50.0\n",
            "68.0\n",
            "86.0\n"
          ]
        }
      ]
    },
    {
      "cell_type": "code",
      "source": [
        "import numpy as np\n",
        "\n",
        "a=[12,14,151,71,18]\n",
        "\n",
        "cel=np.array(a)\n",
        "print(cel)\n",
        "\n",
        "fer=(cel*1.8)+32\n",
        "print(fer)"
      ],
      "metadata": {
        "colab": {
          "base_uri": "https://localhost:8080/"
        },
        "id": "xSYghvXI-YJG",
        "outputId": "06cbe96d-0349-4039-99fe-2f1dfbcd8606"
      },
      "execution_count": null,
      "outputs": [
        {
          "output_type": "stream",
          "name": "stdout",
          "text": [
            "[ 12  14 151  71  18]\n",
            "[ 53.6  57.2 303.8 159.8  64.4]\n"
          ]
        }
      ]
    },
    {
      "cell_type": "code",
      "source": [
        "#program to find  the vowels from fiven words\n",
        "a=input(\"mention name \")\n",
        "vowels=\"aeiou\"\n",
        "for ele in a:\n",
        "  if ele in vowels:\n",
        "    print(ele) "
      ],
      "metadata": {
        "colab": {
          "base_uri": "https://localhost:8080/"
        },
        "id": "TwlN_xJJIKb_",
        "outputId": "ee16d1f1-8a0d-4a67-8a64-f1cfa5f64894"
      },
      "execution_count": null,
      "outputs": [
        {
          "output_type": "stream",
          "name": "stdout",
          "text": [
            "mention name nil\n",
            "i\n"
          ]
        }
      ]
    },
    {
      "cell_type": "code",
      "source": [],
      "metadata": {
        "id": "ACu8xLL7PMIJ"
      },
      "execution_count": null,
      "outputs": []
    },
    {
      "cell_type": "code",
      "source": [
        "a=input(\"mention name\")\n",
        "vowels='a','i','o','e','u',\n",
        "for ele in a:\n",
        "  if ele in vowels:\n",
        "    print(ele)"
      ],
      "metadata": {
        "colab": {
          "base_uri": "https://localhost:8080/"
        },
        "id": "2mlB5Q9mNemn",
        "outputId": "18d2470f-b889-453f-9d8e-c84d30893a97"
      },
      "execution_count": null,
      "outputs": [
        {
          "output_type": "stream",
          "name": "stdout",
          "text": [
            "mention namenil\n",
            "i\n"
          ]
        }
      ]
    },
    {
      "cell_type": "code",
      "source": [],
      "metadata": {
        "id": "0GwAGJJcNXjg"
      },
      "execution_count": null,
      "outputs": []
    },
    {
      "cell_type": "code",
      "source": [
        "#program to add two numbers\n",
        "a=int(input(\"1st number\"))\n",
        "b=int(input(\"2nd number\"))\n",
        "c=a+b\n",
        "print(\"addition of two number\",c)"
      ],
      "metadata": {
        "colab": {
          "base_uri": "https://localhost:8080/"
        },
        "id": "QwXb9E4bQkWJ",
        "outputId": "2227d3d7-10d1-47e9-e3ad-5515f74adcda"
      },
      "execution_count": null,
      "outputs": [
        {
          "output_type": "stream",
          "name": "stdout",
          "text": [
            "1st number12\n",
            "2nd number10\n",
            "addition of two number 22\n"
          ]
        }
      ]
    },
    {
      "cell_type": "code",
      "source": [
        "a=[12,13,11,10]\n",
        "b=[10,11,23,43]\n",
        "c=a+b\n",
        "print(c)\n",
        "# try this\n",
        "a=[12,13,11,10]\n",
        "b=[10,11,23,43]\n",
        "d=a.append(b)\n",
        "print(d)\n",
        "\n"
      ],
      "metadata": {
        "colab": {
          "base_uri": "https://localhost:8080/"
        },
        "id": "7wDYPcG-Q6Ry",
        "outputId": "e2dcbf6b-7a53-4027-a624-9e9bd3f9d570"
      },
      "execution_count": null,
      "outputs": [
        {
          "output_type": "stream",
          "name": "stdout",
          "text": [
            "[12, 13, 11, 10, 10, 11, 23, 43]\n",
            "None\n"
          ]
        }
      ]
    },
    {
      "cell_type": "code",
      "source": [
        "#program to find greater of two number\n",
        "a=int(input(\"\"))\n",
        "b=int(input(\"\"))\n",
        "if a>b:\n",
        "  print(a)\n",
        "if b>a:\n",
        "  print(\"b is greater\",b)"
      ],
      "metadata": {
        "id": "sKKL02uMT1GI"
      },
      "execution_count": null,
      "outputs": []
    },
    {
      "cell_type": "code",
      "source": [
        "#python program for factorial of number \n",
        "import math\n",
        "a=int(input(\"\"))\n",
        "d=math.factorial(a)\n",
        "print(d)"
      ],
      "metadata": {
        "colab": {
          "base_uri": "https://localhost:8080/"
        },
        "id": "xzfHBqrlRzdR",
        "outputId": "bb12cd92-a1ef-4b22-bc05-10c32c722f62"
      },
      "execution_count": null,
      "outputs": [
        {
          "output_type": "stream",
          "name": "stdout",
          "text": [
            "12\n",
            "479001600\n"
          ]
        }
      ]
    },
    {
      "cell_type": "code",
      "source": [
        "#program to find the simple interest\n",
        "p=int(input(\"\"))\n",
        "r=int(input(\"\"))\n",
        "t=int(input(\"\"))\n",
        "d=(p*r*t)/100\n",
        "print(d)"
      ],
      "metadata": {
        "colab": {
          "base_uri": "https://localhost:8080/"
        },
        "id": "83dZOlOlZsma",
        "outputId": "3eb19c6f-7dd5-476f-b3a5-1b3ccf62df46"
      },
      "execution_count": null,
      "outputs": [
        {
          "output_type": "stream",
          "name": "stdout",
          "text": [
            "10\n",
            "10\n",
            "12\n",
            "12.0\n"
          ]
        }
      ]
    },
    {
      "cell_type": "code",
      "source": [
        "count=1\n",
        "while count<=2:\n",
        "  p=int(input(\"\"))\n",
        "  r=int(input(\"\"))\n",
        "  t=int(input(\"\"))\n",
        "  d=(p*r*t)/100\n",
        "  print(\"si is as :\",d)\n",
        "  break\n",
        "  count+=1"
      ],
      "metadata": {
        "colab": {
          "base_uri": "https://localhost:8080/"
        },
        "id": "u2VwfWm5dudS",
        "outputId": "0aaa7e81-a85e-4b8b-f2bf-783c77e65772"
      },
      "execution_count": null,
      "outputs": [
        {
          "output_type": "stream",
          "name": "stdout",
          "text": [
            "10\n",
            "10\n",
            "12\n",
            "si is as : 12.0\n"
          ]
        }
      ]
    },
    {
      "cell_type": "code",
      "source": [
        "#program to find the compound interest\n",
        "def c_i(p,r,t):\n",
        "  p=int(input(\"\"))\n",
        "  r=int(input(\"\"))\n",
        "  t=int(input(\"\"))\n",
        "amount=p *(pow((1 + r/100),t)) \n",
        "ci=amount-p\n",
        "print(ci)\n"
      ],
      "metadata": {
        "colab": {
          "base_uri": "https://localhost:8080/"
        },
        "id": "ixvYBj_ljmta",
        "outputId": "1fb95bc9-27ea-4fab-9313-5b4228befdff"
      },
      "execution_count": null,
      "outputs": [
        {
          "output_type": "stream",
          "name": "stdout",
          "text": [
            "21.38428376721003\n"
          ]
        }
      ]
    },
    {
      "cell_type": "code",
      "source": [
        "#python program to decide weather given no. is armstrong number or not.\n",
        "n=153\n",
        "sum=0\n",
        "order=len(str(n))\n",
        "copy_n=n\n",
        "while n>0:\n",
        "  digit=n%10\n",
        "  sum=sum+digit**order\n",
        "  n=n//10\n",
        "if (sum==copy_n):\n",
        "  print(\"armstrong number\")\n",
        "else:\n",
        "  print(\"not arm strong number\")"
      ],
      "metadata": {
        "id": "HY3E6fFEo9NU",
        "outputId": "0e3225bd-2437-4699-e4e4-8f93e21c2bd8",
        "colab": {
          "base_uri": "https://localhost:8080/"
        }
      },
      "execution_count": null,
      "outputs": [
        {
          "output_type": "stream",
          "name": "stdout",
          "text": [
            "armstrong number\n"
          ]
        }
      ]
    },
    {
      "cell_type": "code",
      "source": [
        "#program to find area of circle\n",
        "import math\n",
        "math.pi\n",
        "r=int(input(\"\"))\n",
        "a=math.pi * r *r\n",
        "print(\"area of cicle\",a)"
      ],
      "metadata": {
        "id": "QCYheCbbuQxz",
        "outputId": "ec9443be-b8df-44a3-96a4-ffcf69d6bfa6",
        "colab": {
          "base_uri": "https://localhost:8080/"
        }
      },
      "execution_count": null,
      "outputs": [
        {
          "output_type": "stream",
          "name": "stdout",
          "text": [
            "10\n",
            "area of cicle 314.1592653589793\n"
          ]
        }
      ]
    },
    {
      "cell_type": "code",
      "source": [
        "#Python program to print all prime number from the interval\n",
        "n=int(input(\"\"))\n",
        "for i in range(2,n):\n",
        "  if n%i==0:\n",
        "    print(\"notprime\")\n",
        "    break\n",
        "  else:\n",
        "    print(\"prime ahe \")"
      ],
      "metadata": {
        "id": "J0bdhhO-u_Si",
        "outputId": "5259cd97-ec3c-492a-b515-534b2539bb7c",
        "colab": {
          "base_uri": "https://localhost:8080/"
        }
      },
      "execution_count": null,
      "outputs": [
        {
          "output_type": "stream",
          "name": "stdout",
          "text": [
            "6\n",
            "notprime\n"
          ]
        }
      ]
    },
    {
      "cell_type": "code",
      "source": [
        "n=int(input(\"\"))\n",
        "for i in range(2,n):\n",
        "  if n%i==0:\n",
        "    print(\"notprime\")\n",
        "    break\n",
        "  else:\n",
        "    print(\"prime ahe \")"
      ],
      "metadata": {
        "id": "_NBWT94n3mjX",
        "outputId": "46b30139-1704-4e32-e247-04bb93713324",
        "colab": {
          "base_uri": "https://localhost:8080/"
        }
      },
      "execution_count": null,
      "outputs": [
        {
          "output_type": "stream",
          "name": "stdout",
          "text": [
            "5\n",
            "prime ahe \n",
            "prime ahe \n",
            "prime ahe \n"
          ]
        }
      ]
    },
    {
      "cell_type": "code",
      "source": [
        "n=7\n",
        "for i in range(2,n):\n",
        "  if n%i==0:\n",
        "    print(\"not a prime number\")\n",
        "    break\n",
        "else:\n",
        "    print(\"prime number\")"
      ],
      "metadata": {
        "id": "he4TcF8IMKeB",
        "outputId": "3b01c963-1d6c-4ed5-d1a1-b927ec0d33b0",
        "colab": {
          "base_uri": "https://localhost:8080/"
        }
      },
      "execution_count": null,
      "outputs": [
        {
          "output_type": "stream",
          "name": "stdout",
          "text": [
            "prime number\n"
          ]
        }
      ]
    },
    {
      "cell_type": "code",
      "source": [],
      "metadata": {
        "id": "ZEat2CE3kWeC"
      },
      "execution_count": null,
      "outputs": []
    },
    {
      "cell_type": "code",
      "source": [
        "#write a program to check nth fibonasi number\n",
        "def fib(n):\n",
        "    a=0\n",
        "    b=1\n",
        "    print(a)\n",
        "    print(b)\n",
        "    for i in range(2,n):\n",
        "      c=a+b\n",
        "      a=b\n",
        "      b=c\n",
        "      print(c)\n",
        "fib(5)\n"
      ],
      "metadata": {
        "id": "kMfIFxf2NKGE",
        "outputId": "fb969ca4-8bf2-4721-95d1-e7659df94b91",
        "colab": {
          "base_uri": "https://localhost:8080/"
        }
      },
      "execution_count": null,
      "outputs": [
        {
          "output_type": "stream",
          "name": "stdout",
          "text": [
            "0\n",
            "1\n",
            "1\n",
            "2\n",
            "3\n"
          ]
        }
      ]
    },
    {
      "cell_type": "code",
      "source": [
        "#program to find the largest element in the list\n",
        "a=[10,20,30,40]\n",
        "for i in a:\n",
        "  if i>30:\n",
        "    print(\"largest number is :\",i)"
      ],
      "metadata": {
        "id": "AWku-QveJoV6",
        "outputId": "51fed844-4dd1-4343-c442-51fda9fb98fe",
        "colab": {
          "base_uri": "https://localhost:8080/"
        }
      },
      "execution_count": 1,
      "outputs": [
        {
          "output_type": "stream",
          "name": "stdout",
          "text": [
            "largest number is : 40\n"
          ]
        }
      ]
    },
    {
      "cell_type": "code",
      "source": [
        "a=[10,20,30,40]\n",
        "i=10\n",
        "while i>10:\n",
        "  i=i+1\n",
        "  print(a)"
      ],
      "metadata": {
        "id": "LWnWJ8q3Kfcm"
      },
      "execution_count": 4,
      "outputs": []
    },
    {
      "cell_type": "code",
      "source": [
        "a=[10,20,30,40,50]\n",
        "c=max(a)\n",
        "print(c)"
      ],
      "metadata": {
        "id": "5O-kswLDL6Vc",
        "outputId": "6b9b9fbf-fa65-4028-8f4e-8bcd45aa59a5",
        "colab": {
          "base_uri": "https://localhost:8080/"
        }
      },
      "execution_count": 7,
      "outputs": [
        {
          "output_type": "stream",
          "name": "stdout",
          "text": [
            "50\n"
          ]
        }
      ]
    },
    {
      "cell_type": "code",
      "source": [
        "alist=[-45,0,3,10,90,5,-2,4,18,45,100,1,-266,706]\n",
        "largest=alist[0]\n",
        "for large in alist:\n",
        "    if large > largest:\n",
        "        largest=large\n",
        "print(largest)"
      ],
      "metadata": {
        "id": "uFWQW2WZMiG1",
        "outputId": "4785ad59-cb32-43fe-e113-06b395d7e460",
        "colab": {
          "base_uri": "https://localhost:8080/"
        }
      },
      "execution_count": 8,
      "outputs": [
        {
          "output_type": "stream",
          "name": "stdout",
          "text": [
            "706\n"
          ]
        }
      ]
    },
    {
      "cell_type": "code",
      "source": [
        "l=[]\n",
        "n=int(input(\"length of list\"))\n",
        "for i in range(1,n+1):\n",
        "  e=int(input(\"element\"))\n",
        "  print(e)\n",
        "  l.append(e)\n",
        "  print(l)\n",
        "l.sort()\n",
        "print(l)\n",
        "print(l[n-1])\n"
      ],
      "metadata": {
        "id": "9YUAlBR5NG5P",
        "outputId": "22a10129-8419-4f5b-9cb8-04ecb149fc83",
        "colab": {
          "base_uri": "https://localhost:8080/"
        }
      },
      "execution_count": 31,
      "outputs": [
        {
          "output_type": "stream",
          "name": "stdout",
          "text": [
            "length of list3\n",
            "element1\n",
            "1\n",
            "[1]\n",
            "element3\n",
            "3\n",
            "[1, 3]\n",
            "element2\n",
            "2\n",
            "[1, 3, 2]\n",
            "[1, 2, 3]\n",
            "3\n"
          ]
        }
      ]
    },
    {
      "cell_type": "code",
      "source": [],
      "metadata": {
        "id": "55HI1bcqSFTj"
      },
      "execution_count": null,
      "outputs": []
    },
    {
      "cell_type": "code",
      "source": [
        "#python program to interterchange 1st and last elemt in list\n",
        "a=[10,20,30]\n",
        "print(a)\n",
        "a[0]\n",
        "a[2] \n",
        "a[0],a[2]=a[2],a[0]\n",
        "print(a)\n",
        "\n",
        "\n",
        "\n"
      ],
      "metadata": {
        "id": "fnogMBbpUo7l",
        "outputId": "1f2e70e7-1519-4d8e-8093-8328b7e1fe37",
        "colab": {
          "base_uri": "https://localhost:8080/"
        }
      },
      "execution_count": 66,
      "outputs": [
        {
          "output_type": "stream",
          "name": "stdout",
          "text": [
            "[10, 20, 30]\n",
            "[30, 20, 10]\n"
          ]
        }
      ]
    },
    {
      "cell_type": "code",
      "source": [
        "#python program to swap any two number in list\n",
        "a=[10,20,30,40]\n",
        "a[0]\n",
        "a[1]\n",
        "a[0],a[1]=a[1],a[0]\n",
        "print(a)"
      ],
      "metadata": {
        "id": "ISRNRm91cqQP",
        "outputId": "fe7ab36e-e51a-410f-fa0f-1ea595ed027a",
        "colab": {
          "base_uri": "https://localhost:8080/"
        }
      },
      "execution_count": 71,
      "outputs": [
        {
          "output_type": "stream",
          "name": "stdout",
          "text": [
            "[20, 10, 30, 40]\n"
          ]
        }
      ]
    },
    {
      "cell_type": "code",
      "source": [
        "#program to find the number occurrance of elemt in list\n",
        "lst=list(input(\"\"))\n",
        "n=input(\" \")\n",
        "for i in lst:\n",
        "  if(n in lst)==True:\n",
        "    print(lst.count(n))\n",
        "    break\n",
        "  else:\n",
        "    print(n,\"no number is found in list\")"
      ],
      "metadata": {
        "id": "1wuwIGdVjkGq",
        "outputId": "f4fbce77-406b-49db-b500-e5128a5a4181",
        "colab": {
          "base_uri": "https://localhost:8080/"
        }
      },
      "execution_count": 79,
      "outputs": [
        {
          "output_type": "stream",
          "name": "stdout",
          "text": [
            "1,2,3,4,1\n",
            " 1\n",
            "2\n"
          ]
        }
      ]
    },
    {
      "cell_type": "code",
      "source": [
        "lst=list(input(\"\"))\n",
        "n=int(input(\" \"))\n",
        "for i in lst:\n",
        "  if(n in lst)==True:\n",
        "    print(lst.count(n))\n",
        "    break\n",
        "  else:\n",
        "    print(n,\"no number is found in list\")"
      ],
      "metadata": {
        "id": "G6SMhnfZmPUe",
        "outputId": "9a3633e7-5c03-4cf9-996d-b31de6039c88",
        "colab": {
          "base_uri": "https://localhost:8080/"
        }
      },
      "execution_count": 80,
      "outputs": [
        {
          "output_type": "stream",
          "name": "stdout",
          "text": [
            "1,2,3,4,1\n",
            " 1\n",
            "1 no number is found in list\n",
            "1 no number is found in list\n",
            "1 no number is found in list\n",
            "1 no number is found in list\n",
            "1 no number is found in list\n",
            "1 no number is found in list\n",
            "1 no number is found in list\n",
            "1 no number is found in list\n",
            "1 no number is found in list\n"
          ]
        }
      ]
    }
  ]
}