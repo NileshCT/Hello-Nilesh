{
  "nbformat": 4,
  "nbformat_minor": 0,
  "metadata": {
    "colab": {
      "provenance": [],
      "authorship_tag": "ABX9TyNdeU19H1+KurNdKlgJA9Un",
      "include_colab_link": true
    },
    "kernelspec": {
      "name": "python3",
      "display_name": "Python 3"
    },
    "language_info": {
      "name": "python"
    }
  },
  "cells": [
    {
      "cell_type": "markdown",
      "metadata": {
        "id": "view-in-github",
        "colab_type": "text"
      },
      "source": [
        "<a href=\"https://colab.research.google.com/github/NileshCT/Hello-Nilesh/blob/main/Untitled18.ipynb\" target=\"_parent\"><img src=\"https://colab.research.google.com/assets/colab-badge.svg\" alt=\"Open In Colab\"/></a>"
      ]
    },
    {
      "cell_type": "code",
      "execution_count": null,
      "metadata": {
        "colab": {
          "base_uri": "https://localhost:8080/"
        },
        "id": "jMEUh2uKqSIk",
        "outputId": "53d0bdd0-6e63-456b-9c09-25f7631ca6d2"
      },
      "outputs": [
        {
          "output_type": "stream",
          "name": "stdout",
          "text": [
            "age12\n",
            "age9\n",
            "age8\n",
            "a is olderest\n"
          ]
        }
      ],
      "source": [
        "#1.program to find oldest age amoung 3 person\n",
        "a=int(input(\"age\"))\n",
        "b=int(input(\"age\"))\n",
        "c=int(input(\"age\"))\n",
        "if a>b and a>c:\n",
        "  print(\"a is olderest\")\n",
        "if b>c and b>a:\n",
        "  print(\"b is oldest\")\n",
        "if c>a and c>b:\n",
        "  print(\"c is oldest\")"
      ]
    },
    {
      "cell_type": "code",
      "source": [
        "a=[10,20,30]"
      ],
      "metadata": {
        "id": "U09BBG90HZoD"
      },
      "execution_count": null,
      "outputs": []
    },
    {
      "cell_type": "code",
      "source": [
        "a=int(input(\"age\"))\n",
        "b=int(input(\"age\"))\n",
        "c=int(input(\"age\"))\n",
        "if a>b and a>c:\n",
        "  print(\"a\")\n",
        "elif b>a and b>c:\n",
        "  print(\"b\")\n",
        "else:\n",
        "  print(\"c\")"
      ],
      "metadata": {
        "colab": {
          "base_uri": "https://localhost:8080/"
        },
        "id": "Xs-nmaRzrLDB",
        "outputId": "126a5068-6c53-467c-ae60-d466ee0c324c"
      },
      "execution_count": null,
      "outputs": [
        {
          "output_type": "stream",
          "name": "stdout",
          "text": [
            "age12\n",
            "age56\n",
            "age34\n",
            "b\n"
          ]
        }
      ]
    },
    {
      "cell_type": "code",
      "source": [
        "a=[10,20,30]\n",
        "b=int(input(\"inter age\"))\n",
        "for i in a:\n",
        "  if i > b:\n",
        "    print(\"age in a is greater\")\n",
        "  else:\n",
        "    print(\"age in b is greater\")"
      ],
      "metadata": {
        "colab": {
          "base_uri": "https://localhost:8080/"
        },
        "id": "yG2NfVgg6rVH",
        "outputId": "deb215a7-4ad3-4248-9118-48a947045aac"
      },
      "execution_count": null,
      "outputs": [
        {
          "output_type": "stream",
          "name": "stdout",
          "text": [
            "inter age23\n",
            "age in b is greater\n",
            "age in b is greater\n",
            "age in a is greater\n"
          ]
        }
      ]
    },
    {
      "cell_type": "code",
      "source": [
        "# program to convert celcious to faraenheat\n",
        "a=int(input(\"\"))\n",
        "b=a*33.8\n",
        "print(b)"
      ],
      "metadata": {
        "colab": {
          "base_uri": "https://localhost:8080/"
        },
        "id": "kfDZ_jfJxKYR",
        "outputId": "da262884-fcfa-479b-aeac-43499b2d8d15"
      },
      "execution_count": null,
      "outputs": [
        {
          "output_type": "stream",
          "name": "stdout",
          "text": [
            "10\n",
            "338.0\n"
          ]
        }
      ]
    },
    {
      "cell_type": "code",
      "source": [
        "a=[10,20,30]\n",
        "for temp in a:\n",
        "  if temp==10:\n",
        "    y=(temp*1.8)+32\n",
        "    print(y)\n",
        "  \n",
        "  if temp==20:\n",
        "    x=(temp*1.8)+32\n",
        "    print(x)\n",
        "    \n",
        "  if temp==30:\n",
        "    z=(temp*1.8)+32\n",
        "    print(z)\n",
        "\n",
        "    "
      ],
      "metadata": {
        "colab": {
          "base_uri": "https://localhost:8080/"
        },
        "id": "_ifvEEEc5TDm",
        "outputId": "8f752115-5fe0-4896-8634-3fc5dbc0e93a"
      },
      "execution_count": null,
      "outputs": [
        {
          "output_type": "stream",
          "name": "stdout",
          "text": [
            "50.0\n",
            "68.0\n",
            "86.0\n"
          ]
        }
      ]
    },
    {
      "cell_type": "code",
      "source": [
        "import numpy as np\n",
        "\n",
        "a=[12,14,151,71,18]\n",
        "\n",
        "cel=np.array(a)\n",
        "print(cel)\n",
        "\n",
        "fer=(cel*1.8)+32\n",
        "print(fer)"
      ],
      "metadata": {
        "colab": {
          "base_uri": "https://localhost:8080/"
        },
        "id": "xSYghvXI-YJG",
        "outputId": "06cbe96d-0349-4039-99fe-2f1dfbcd8606"
      },
      "execution_count": null,
      "outputs": [
        {
          "output_type": "stream",
          "name": "stdout",
          "text": [
            "[ 12  14 151  71  18]\n",
            "[ 53.6  57.2 303.8 159.8  64.4]\n"
          ]
        }
      ]
    }
  ]
}