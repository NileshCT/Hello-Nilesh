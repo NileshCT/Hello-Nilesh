{
  "nbformat": 4,
  "nbformat_minor": 0,
  "metadata": {
    "colab": {
      "provenance": [],
      "authorship_tag": "ABX9TyO5rDtKK5p9F7oIV8rHPUdu",
      "include_colab_link": true
    },
    "kernelspec": {
      "name": "python3",
      "display_name": "Python 3"
    },
    "language_info": {
      "name": "python"
    }
  },
  "cells": [
    {
      "cell_type": "markdown",
      "metadata": {
        "id": "view-in-github",
        "colab_type": "text"
      },
      "source": [
        "<a href=\"https://colab.research.google.com/github/NileshCT/Hello-Nilesh/blob/main/Untitled18.ipynb\" target=\"_parent\"><img src=\"https://colab.research.google.com/assets/colab-badge.svg\" alt=\"Open In Colab\"/></a>"
      ]
    },
    {
      "cell_type": "code",
      "execution_count": null,
      "metadata": {
        "colab": {
          "base_uri": "https://localhost:8080/"
        },
        "id": "jMEUh2uKqSIk",
        "outputId": "53d0bdd0-6e63-456b-9c09-25f7631ca6d2"
      },
      "outputs": [
        {
          "output_type": "stream",
          "name": "stdout",
          "text": [
            "age12\n",
            "age9\n",
            "age8\n",
            "a is olderest\n"
          ]
        }
      ],
      "source": [
        "#1.program to find oldest age amoung 3 person\n",
        "a=int(input(\"age\"))\n",
        "b=int(input(\"age\"))\n",
        "c=int(input(\"age\"))\n",
        "if a>b and a>c:\n",
        "  print(\"a is olderest\")\n",
        "if b>c and b>a:\n",
        "  print(\"b is oldest\")\n",
        "if c>a and c>b:\n",
        "  print(\"c is oldest\")"
      ]
    },
    {
      "cell_type": "code",
      "source": [
        "a=[10,20,30]"
      ],
      "metadata": {
        "id": "U09BBG90HZoD"
      },
      "execution_count": null,
      "outputs": []
    },
    {
      "cell_type": "code",
      "source": [
        "a=int(input(\"age\"))\n",
        "b=int(input(\"age\"))\n",
        "c=int(input(\"age\"))\n",
        "if a>b and a>c:\n",
        "  print(\"a\")\n",
        "elif b>a and b>c:\n",
        "  print(\"b\")\n",
        "else:\n",
        "  print(\"c\")"
      ],
      "metadata": {
        "colab": {
          "base_uri": "https://localhost:8080/"
        },
        "id": "Xs-nmaRzrLDB",
        "outputId": "126a5068-6c53-467c-ae60-d466ee0c324c"
      },
      "execution_count": null,
      "outputs": [
        {
          "output_type": "stream",
          "name": "stdout",
          "text": [
            "age12\n",
            "age56\n",
            "age34\n",
            "b\n"
          ]
        }
      ]
    },
    {
      "cell_type": "code",
      "source": [
        "a=[10,20,30]\n",
        "b=int(input(\"inter age\"))\n",
        "for i in a:\n",
        "  if i > b:\n",
        "    print(\"age in a is greater\")\n",
        "  else:\n",
        "    print(\"age in b is greater\")"
      ],
      "metadata": {
        "colab": {
          "base_uri": "https://localhost:8080/"
        },
        "id": "yG2NfVgg6rVH",
        "outputId": "deb215a7-4ad3-4248-9118-48a947045aac"
      },
      "execution_count": null,
      "outputs": [
        {
          "output_type": "stream",
          "name": "stdout",
          "text": [
            "inter age23\n",
            "age in b is greater\n",
            "age in b is greater\n",
            "age in a is greater\n"
          ]
        }
      ]
    },
    {
      "cell_type": "code",
      "source": [
        "# program to convert celcious to faraenheat\n",
        "a=int(input(\"\"))\n",
        "b=a*33.8\n",
        "print(b)"
      ],
      "metadata": {
        "colab": {
          "base_uri": "https://localhost:8080/"
        },
        "id": "kfDZ_jfJxKYR",
        "outputId": "da262884-fcfa-479b-aeac-43499b2d8d15"
      },
      "execution_count": null,
      "outputs": [
        {
          "output_type": "stream",
          "name": "stdout",
          "text": [
            "10\n",
            "338.0\n"
          ]
        }
      ]
    },
    {
      "cell_type": "code",
      "source": [
        "a=[10,20,30]\n",
        "for temp in a:\n",
        "  if temp==10:\n",
        "    y=(temp*1.8)+32\n",
        "    print(y)\n",
        "  \n",
        "  if temp==20:\n",
        "    x=(temp*1.8)+32\n",
        "    print(x)\n",
        "    \n",
        "  if temp==30:\n",
        "    z=(temp*1.8)+32\n",
        "    print(z)\n",
        "\n",
        "    "
      ],
      "metadata": {
        "colab": {
          "base_uri": "https://localhost:8080/"
        },
        "id": "_ifvEEEc5TDm",
        "outputId": "8f752115-5fe0-4896-8634-3fc5dbc0e93a"
      },
      "execution_count": null,
      "outputs": [
        {
          "output_type": "stream",
          "name": "stdout",
          "text": [
            "50.0\n",
            "68.0\n",
            "86.0\n"
          ]
        }
      ]
    },
    {
      "cell_type": "code",
      "source": [
        "import numpy as np\n",
        "\n",
        "a=[12,14,151,71,18]\n",
        "\n",
        "cel=np.array(a)\n",
        "print(cel)\n",
        "\n",
        "fer=(cel*1.8)+32\n",
        "print(fer)"
      ],
      "metadata": {
        "colab": {
          "base_uri": "https://localhost:8080/"
        },
        "id": "xSYghvXI-YJG",
        "outputId": "06cbe96d-0349-4039-99fe-2f1dfbcd8606"
      },
      "execution_count": null,
      "outputs": [
        {
          "output_type": "stream",
          "name": "stdout",
          "text": [
            "[ 12  14 151  71  18]\n",
            "[ 53.6  57.2 303.8 159.8  64.4]\n"
          ]
        }
      ]
    },
    {
      "cell_type": "code",
      "source": [
        "#program to find  the vowels from fiven words\n",
        "a=input(\"mention name \")\n",
        "vowels=\"aeiou\"\n",
        "for ele in a:\n",
        "  if ele in vowels:\n",
        "    print(ele) "
      ],
      "metadata": {
        "colab": {
          "base_uri": "https://localhost:8080/"
        },
        "id": "TwlN_xJJIKb_",
        "outputId": "ee16d1f1-8a0d-4a67-8a64-f1cfa5f64894"
      },
      "execution_count": 12,
      "outputs": [
        {
          "output_type": "stream",
          "name": "stdout",
          "text": [
            "mention name nil\n",
            "i\n"
          ]
        }
      ]
    },
    {
      "cell_type": "code",
      "source": [],
      "metadata": {
        "id": "ACu8xLL7PMIJ"
      },
      "execution_count": null,
      "outputs": []
    },
    {
      "cell_type": "code",
      "source": [
        "a=input(\"mention name\")\n",
        "vowels='a','i','o','e','u',\n",
        "for ele in a:\n",
        "  if ele in vowels:\n",
        "    print(ele)"
      ],
      "metadata": {
        "colab": {
          "base_uri": "https://localhost:8080/"
        },
        "id": "2mlB5Q9mNemn",
        "outputId": "18d2470f-b889-453f-9d8e-c84d30893a97"
      },
      "execution_count": 37,
      "outputs": [
        {
          "output_type": "stream",
          "name": "stdout",
          "text": [
            "mention namenil\n",
            "i\n"
          ]
        }
      ]
    },
    {
      "cell_type": "code",
      "source": [],
      "metadata": {
        "id": "0GwAGJJcNXjg"
      },
      "execution_count": null,
      "outputs": []
    },
    {
      "cell_type": "code",
      "source": [
        "#program to add two numbers\n",
        "a=int(input(\"1st number\"))\n",
        "b=int(input(\"2nd number\"))\n",
        "c=a+b\n",
        "print(\"addition of two number\",c)"
      ],
      "metadata": {
        "colab": {
          "base_uri": "https://localhost:8080/"
        },
        "id": "QwXb9E4bQkWJ",
        "outputId": "2227d3d7-10d1-47e9-e3ad-5515f74adcda"
      },
      "execution_count": 13,
      "outputs": [
        {
          "output_type": "stream",
          "name": "stdout",
          "text": [
            "1st number12\n",
            "2nd number10\n",
            "addition of two number 22\n"
          ]
        }
      ]
    },
    {
      "cell_type": "code",
      "source": [
        "a=[12,13,11,10]\n",
        "b=[10,11,23,43]\n",
        "c=a+b\n",
        "print(c)\n",
        "# try this\n",
        "a=[12,13,11,10]\n",
        "b=[10,11,23,43]\n",
        "d=a.append(b)\n",
        "print(d)\n",
        "\n"
      ],
      "metadata": {
        "colab": {
          "base_uri": "https://localhost:8080/"
        },
        "id": "7wDYPcG-Q6Ry",
        "outputId": "e2dcbf6b-7a53-4027-a624-9e9bd3f9d570"
      },
      "execution_count": 20,
      "outputs": [
        {
          "output_type": "stream",
          "name": "stdout",
          "text": [
            "[12, 13, 11, 10, 10, 11, 23, 43]\n",
            "None\n"
          ]
        }
      ]
    },
    {
      "cell_type": "code",
      "source": [
        "#program to find greater of two number\n",
        "a=int(input(\"\"))\n",
        "b=int(input(\"\"))\n",
        "if a>b:\n",
        "  print(a)\n",
        "if b>a:\n",
        "  print(\"b is greater\",b)"
      ],
      "metadata": {
        "id": "sKKL02uMT1GI"
      },
      "execution_count": null,
      "outputs": []
    },
    {
      "cell_type": "code",
      "source": [
        "#python program for factorial of number \n",
        "import math\n",
        "a=int(input(\"\"))\n",
        "d=math.factorial(a)\n",
        "print(d)"
      ],
      "metadata": {
        "colab": {
          "base_uri": "https://localhost:8080/"
        },
        "id": "xzfHBqrlRzdR",
        "outputId": "bb12cd92-a1ef-4b22-bc05-10c32c722f62"
      },
      "execution_count": 34,
      "outputs": [
        {
          "output_type": "stream",
          "name": "stdout",
          "text": [
            "12\n",
            "479001600\n"
          ]
        }
      ]
    },
    {
      "cell_type": "code",
      "source": [
        "#program to find the simple interest\n",
        "p=int(input(\"\"))\n",
        "r=int(input(\"\"))\n",
        "t=int(input(\"\"))\n",
        "d=(p*r*t)/100\n",
        "print(d)"
      ],
      "metadata": {
        "colab": {
          "base_uri": "https://localhost:8080/"
        },
        "id": "83dZOlOlZsma",
        "outputId": "3eb19c6f-7dd5-476f-b3a5-1b3ccf62df46"
      },
      "execution_count": 39,
      "outputs": [
        {
          "output_type": "stream",
          "name": "stdout",
          "text": [
            "10\n",
            "10\n",
            "12\n",
            "12.0\n"
          ]
        }
      ]
    },
    {
      "cell_type": "code",
      "source": [
        "count=1\n",
        "while count<=2:\n",
        "  p=int(input(\"\"))\n",
        "  r=int(input(\"\"))\n",
        "  t=int(input(\"\"))\n",
        "  d=(p*r*t)/100\n",
        "  print(\"si is as :\",d)\n",
        "  break\n",
        "  count+=1"
      ],
      "metadata": {
        "colab": {
          "base_uri": "https://localhost:8080/"
        },
        "id": "u2VwfWm5dudS",
        "outputId": "0aaa7e81-a85e-4b8b-f2bf-783c77e65772"
      },
      "execution_count": 42,
      "outputs": [
        {
          "output_type": "stream",
          "name": "stdout",
          "text": [
            "10\n",
            "10\n",
            "12\n",
            "si is as : 12.0\n"
          ]
        }
      ]
    },
    {
      "cell_type": "code",
      "source": [
        "#program to find the compound interest\n",
        "def c_i(p,r,t):\n",
        "  p=int(input(\"\"))\n",
        "  r=int(input(\"\"))\n",
        "  t=int(input(\"\"))\n",
        "amount=p *(pow((1 + r/100),t)) \n",
        "ci=amount-p\n",
        "print(ci)\n"
      ],
      "metadata": {
        "colab": {
          "base_uri": "https://localhost:8080/"
        },
        "id": "ixvYBj_ljmta",
        "outputId": "1fb95bc9-27ea-4fab-9313-5b4228befdff"
      },
      "execution_count": 48,
      "outputs": [
        {
          "output_type": "stream",
          "name": "stdout",
          "text": [
            "21.38428376721003\n"
          ]
        }
      ]
    },
    {
      "cell_type": "code",
      "source": [],
      "metadata": {
        "id": "ZEat2CE3kWeC"
      },
      "execution_count": null,
      "outputs": []
    }
  ]
}